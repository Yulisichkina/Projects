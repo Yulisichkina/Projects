{
 "cells": [
  {
   "cell_type": "markdown",
   "metadata": {},
   "source": [
    "## Проект - Банки, анализ оттока клиентов. Обзор данных"
   ]
  },
  {
   "cell_type": "markdown",
   "metadata": {},
   "source": [
    "### Описание задачи"
   ]
  },
  {
   "cell_type": "markdown",
   "metadata": {},
   "source": [
    "Заказчик - отдел маркетинга\n",
    "\n",
    "Моя задача как джуниор аналитика в компании  - проанализировать клиентов регионального банка и <b>выделить сегменты </b> клиентов, которые склонны уходить из банка, мне нужно <b> дать таргетированные рекомендации </b> отделу маркетинга прежде всего по сегменту, который наиболее склонен к оттоку, а затем по каждому сегменту клиентов, \n",
    "\n",
    "<b> Цель рекомендаций - снизить отток </b>."
   ]
  },
  {
   "cell_type": "markdown",
   "metadata": {},
   "source": [
    "Чуть детальнее - нужно:\n",
    "    \n",
    "- изучить данные \n",
    "- провести исследовательский анализ данных\n",
    "- определить все значимые признаки отточности (интервалы значений характеристик, которые связаны с\n",
    "повышенным оттоком, сравнить портреты типичных клиентов, которые склонны и не склонны уходить из банка и т.д)\n",
    "- сформулировать и проверить статистические гипотезы\n",
    "- объединяя признаки отточности, сформировать сегменты, приоритизировать их и дать рекомендации по каждому из них"
   ]
  },
  {
   "cell_type": "markdown",
   "metadata": {},
   "source": [
    "### Описание данных "
   ]
  },
  {
   "cell_type": "markdown",
   "metadata": {},
   "source": [
    "Датасет содержит данные о клиентах банка «Метанпром». Банк располагается в\n",
    "Ярославле и областных городах: Ростов Великий и Рыбинск.\n",
    "\n",
    "Колонки:\n",
    "- `USERID` — идентификатор пользователя\n",
    "- `score` — баллы кредитного скоринга (чем выше, тем больше вероятность что кредит дадут)\n",
    "- `city` — город,\n",
    "- `gender` — пол,\n",
    "- `age` — возраст,\n",
    "- `equity` — количество баллов собственности (чем выше, тем больше вероятность, что кредит дадут)\n",
    "- `balance` — баланс на счёте (именно на счете, не на кредитке например)\n",
    "- `products` — количество продуктов, которыми пользуется клиент (кроме кредитки)\n",
    "- `credit_card` — есть ли кредитная карта,\n",
    "- `last_activity` — активный клиент (совершал ли операции в отчетном периоде)\n",
    "- `EST_SALARY` — оценочный доход клиента,\n",
    "- `сhurn` — признак оттока."
   ]
  },
  {
   "cell_type": "markdown",
   "metadata": {},
   "source": [
    "### Как буду решать задачу, что буду делать"
   ]
  },
  {
   "cell_type": "markdown",
   "metadata": {},
   "source": [
    "Я сделаю следующее:\n",
    "\n",
    "- обзор данных\n",
    "- затем предобработку\n",
    "- затем исследовательский анализ данных с использованием в том числе статистических методов, чтобы качественно разделить всех клиентов на сегменты, которые более и менее склонны к оттоку\n",
    "- составлю портреты пользователей, которые более и менее склонны к оттоку \n",
    "- дам рекомендации по удержанию клиентов прежде всего из сегмента наиболее склонного к оттоку, чтобы предотвратить отток этих клиентов\n",
    "- дам рекомендации по остальным сегментам\n",
    "- составлю краткую и понятную презентацию для заказчика"
   ]
  },
  {
   "cell_type": "markdown",
   "metadata": {},
   "source": [
    "### Какие гипотезы буду проверять"
   ]
  },
  {
   "cell_type": "markdown",
   "metadata": {},
   "source": [
    "- нужно проверить гипотезу различия дохода между теми клиентами, которые ушли и теми, которые остались \n",
    "- нужно проверить гипотезу о том, влияет ли кол-во баллов собственности на склонность к оттоку"
   ]
  },
  {
   "cell_type": "markdown",
   "metadata": {},
   "source": [
    "## Изучу датасет"
   ]
  },
  {
   "cell_type": "markdown",
   "metadata": {},
   "source": [
    "### Загружаю библиотеки"
   ]
  },
  {
   "cell_type": "code",
   "execution_count": 1,
   "metadata": {},
   "outputs": [
    {
     "name": "stdout",
     "output_type": "stream",
     "text": [
      "Collecting phik\n",
      "  Downloading phik-0.12.4-cp39-cp39-manylinux_2_17_x86_64.manylinux2014_x86_64.whl (686 kB)\n",
      "\u001b[K     |████████████████████████████████| 686 kB 1.2 MB/s eta 0:00:01\n",
      "\u001b[?25hRequirement already satisfied: numpy>=1.18.0 in /opt/conda/lib/python3.9/site-packages (from phik) (1.21.1)\n",
      "Requirement already satisfied: matplotlib>=2.2.3 in /opt/conda/lib/python3.9/site-packages (from phik) (3.3.4)\n",
      "Requirement already satisfied: scipy>=1.5.2 in /opt/conda/lib/python3.9/site-packages (from phik) (1.9.1)\n",
      "Requirement already satisfied: joblib>=0.14.1 in /opt/conda/lib/python3.9/site-packages (from phik) (1.1.0)\n",
      "Requirement already satisfied: pandas>=0.25.1 in /opt/conda/lib/python3.9/site-packages (from phik) (1.2.4)\n",
      "Requirement already satisfied: pyparsing!=2.0.4,!=2.1.2,!=2.1.6,>=2.0.3 in /opt/conda/lib/python3.9/site-packages (from matplotlib>=2.2.3->phik) (2.4.7)\n",
      "Requirement already satisfied: pillow>=6.2.0 in /opt/conda/lib/python3.9/site-packages (from matplotlib>=2.2.3->phik) (8.4.0)\n",
      "Requirement already satisfied: python-dateutil>=2.1 in /opt/conda/lib/python3.9/site-packages (from matplotlib>=2.2.3->phik) (2.8.1)\n",
      "Requirement already satisfied: kiwisolver>=1.0.1 in /opt/conda/lib/python3.9/site-packages (from matplotlib>=2.2.3->phik) (1.4.4)\n",
      "Requirement already satisfied: cycler>=0.10 in /opt/conda/lib/python3.9/site-packages (from matplotlib>=2.2.3->phik) (0.11.0)\n",
      "Requirement already satisfied: pytz>=2017.3 in /opt/conda/lib/python3.9/site-packages (from pandas>=0.25.1->phik) (2021.1)\n",
      "Requirement already satisfied: six>=1.5 in /opt/conda/lib/python3.9/site-packages (from python-dateutil>=2.1->matplotlib>=2.2.3->phik) (1.16.0)\n",
      "Installing collected packages: phik\n",
      "Successfully installed phik-0.12.4\n",
      "Note: you may need to restart the kernel to use updated packages.\n"
     ]
    }
   ],
   "source": [
    "pip install phik"
   ]
  },
  {
   "cell_type": "code",
   "execution_count": 2,
   "metadata": {},
   "outputs": [],
   "source": [
    "#Импорт библиотек\n",
    "\n",
    "import pandas as pd\n",
    "import numpy as np\n",
    "import matplotlib.pyplot as plt\n",
    "import seaborn as sns\n",
    "import random\n",
    "import phik\n",
    "from phik import phik_matrix\n",
    "from scipy import stats as st\n",
    "from scipy.stats import mannwhitneyu\n",
    "from matplotlib.colors import Normalize\n",
    "from matplotlib.cm import ScalarMappable"
   ]
  },
  {
   "cell_type": "markdown",
   "metadata": {},
   "source": [
    "### Загружаю данные"
   ]
  },
  {
   "cell_type": "code",
   "execution_count": 3,
   "metadata": {},
   "outputs": [],
   "source": [
    "banks = pd.read_csv('https://code.s3.yandex.net/datasets/bank_scrooge.csv')"
   ]
  },
  {
   "cell_type": "markdown",
   "metadata": {},
   "source": [
    "### Использую функцию для того, чтобы посмотреть на данные"
   ]
  },
  {
   "cell_type": "code",
   "execution_count": 4,
   "metadata": {},
   "outputs": [
    {
     "name": "stdout",
     "output_type": "stream",
     "text": [
      "Info for DataFrame banks:\n",
      "\n",
      "<class 'pandas.core.frame.DataFrame'>\n",
      "RangeIndex: 10000 entries, 0 to 9999\n",
      "Data columns (total 12 columns):\n",
      " #   Column         Non-Null Count  Dtype  \n",
      "---  ------         --------------  -----  \n",
      " 0   USERID         10000 non-null  int64  \n",
      " 1   score          10000 non-null  float64\n",
      " 2   city           10000 non-null  object \n",
      " 3   gender         10000 non-null  object \n",
      " 4   age            9974 non-null   float64\n",
      " 5   equity         10000 non-null  int64  \n",
      " 6   balance        7705 non-null   float64\n",
      " 7   products       10000 non-null  int64  \n",
      " 8   credit_card    10000 non-null  int64  \n",
      " 9   last_activity  10000 non-null  int64  \n",
      " 10  EST_SALARY     10000 non-null  float64\n",
      " 11  churn          10000 non-null  int64  \n",
      "dtypes: float64(4), int64(6), object(2)\n",
      "memory usage: 937.6+ KB\n",
      "\n",
      "==================================================\n",
      "\n",
      "Describe for DataFrame banks:\n",
      "\n",
      "             USERID         score          age        equity       balance  \\\n",
      "count   10000.00000  10000.000000  9974.000000  10000.000000  7.705000e+03   \n",
      "mean   171814.71260    848.699400    42.734409      2.627600  8.277943e+05   \n",
      "std     33708.23812     65.448519    12.179971      1.980836  1.980614e+06   \n",
      "min     94561.00000    642.000000    18.000000      0.000000  0.000000e+00   \n",
      "25%    142810.25000    802.000000    33.000000      0.000000  2.955542e+05   \n",
      "50%    172728.00000    853.000000    40.000000      3.000000  5.242722e+05   \n",
      "75%    201261.75000    900.000000    51.000000      4.000000  9.807058e+05   \n",
      "max    229145.00000   1000.000000    86.000000      9.000000  1.191136e+08   \n",
      "\n",
      "           products   credit_card  last_activity    EST_SALARY         churn  \n",
      "count  10000.000000  10000.000000   10000.000000  1.000000e+04  10000.000000  \n",
      "mean       1.870100      0.680400       0.523500  1.478669e+05      0.182000  \n",
      "std        0.792647      0.466345       0.499472  1.393885e+05      0.385864  \n",
      "min        0.000000      0.000000       0.000000  2.546300e+03      0.000000  \n",
      "25%        1.000000      0.000000       0.000000  7.525190e+04      0.000000  \n",
      "50%        2.000000      1.000000       1.000000  1.196581e+05      0.000000  \n",
      "75%        2.000000      1.000000       1.000000  1.745005e+05      0.000000  \n",
      "max        5.000000      1.000000       1.000000  1.395064e+06      1.000000  \n",
      "\n",
      "==================================================\n",
      "\n",
      "Missing Values in DataFrame banks:\n",
      "\n",
      "USERID              0\n",
      "score               0\n",
      "city                0\n",
      "gender              0\n",
      "age                26\n",
      "equity              0\n",
      "balance          2295\n",
      "products            0\n",
      "credit_card         0\n",
      "last_activity       0\n",
      "EST_SALARY          0\n",
      "churn               0\n",
      "dtype: int64\n",
      "\n",
      "==================================================\n",
      "\n",
      "Head of DataFrame banks:\n",
      "\n",
      "   USERID  score       city gender   age  equity     balance  products  \\\n",
      "0  183012  850.0    Рыбинск      Ж  25.0       1    59214.82         2   \n",
      "1  146556  861.0    Рыбинск      Ж  37.0       5   850594.33         3   \n",
      "2  120722  892.0    Рыбинск      Ж  30.0       0         NaN         1   \n",
      "3  225363  866.0  Ярославль      Ж  51.0       5  1524746.26         2   \n",
      "4  157978  730.0  Ярославль      М  34.0       5      174.00         1   \n",
      "\n",
      "   credit_card  last_activity  EST_SALARY  churn  \n",
      "0            0              1    75719.14      1  \n",
      "1            1              0    86621.77      0  \n",
      "2            1              1   107683.34      0  \n",
      "3            0              1   174423.53      1  \n",
      "4            1              0    67353.16      1  \n",
      "\n",
      "==================================================\n",
      "\n"
     ]
    }
   ],
   "source": [
    "def analyze_dataframes(dataframes):\n",
    "    \"\"\"\n",
    "    Анализирует датафреймы, выводит информацию, описательную статистику,\n",
    "    количество пропущенных значений и первые строки каждого датафрейма.\n",
    "\n",
    "    Параметры:\n",
    "    dataframes (dict): Словарь, где ключи - это строковые названия датафреймов, \n",
    "    а значения - сами датафреймы pandas.\n",
    "\n",
    "    Возвращает:\n",
    "    Функция выводит анализируемую информацию в стандартный вывод.\n",
    "\n",
    "    \"\"\"\n",
    "    for df_name, df in dataframes.items():\n",
    "        \n",
    "        # Вывожу инфо о каждом датафрейме\n",
    "        print(f\"Info for DataFrame {df_name}:\\n\")\n",
    "        df.info()\n",
    "        print(\"\\n\" + \"=\"*50 + \"\\n\")  # Для разделения вывода\n",
    "\n",
    "        # Вывожу describe для каждого датафрейма\n",
    "        print(f\"Describe for DataFrame {df_name}:\\n\")\n",
    "        print(df.describe())\n",
    "        print(\"\\n\" + \"=\"*50 + \"\\n\")  # Для разделения вывода\n",
    "\n",
    "        # Считаю количество пропущенных значений\n",
    "        print(f\"Missing Values in DataFrame {df_name}:\\n\")\n",
    "        missing_values = df.isnull().sum()\n",
    "        print(missing_values)\n",
    "        print(\"\\n\" + \"=\"*50 + \"\\n\")  # Для разделения вывода\n",
    "\n",
    "        # Вывожу первые строки датафрейма\n",
    "        print(f\"Head of DataFrame {df_name}:\\n\")\n",
    "        print(df.head())\n",
    "        print(\"\\n\" + \"=\"*50 + \"\\n\")  # Для разделения вывода\n",
    "\n",
    "# Делаю словарь с датафреймами\n",
    "dataframes = {\n",
    "    \"banks\": banks\n",
    "}\n",
    "\n",
    "# Вызываю функцию\n",
    "analyze_dataframes(dataframes)"
   ]
  },
  {
   "cell_type": "markdown",
   "metadata": {},
   "source": [
    "Не нравится, как отображаются данные, поменяю формат отображения"
   ]
  },
  {
   "cell_type": "code",
   "execution_count": 5,
   "metadata": {},
   "outputs": [],
   "source": [
    "pd.options.display.float_format = '{:.2f}'.format"
   ]
  },
  {
   "cell_type": "markdown",
   "metadata": {},
   "source": [
    "### Что мне показала функция:"
   ]
  },
  {
   "cell_type": "markdown",
   "metadata": {},
   "source": [
    "- названия столбцов нужно привести к lower case\n",
    "- есть пропуски в balance (2295) и age (26)\n",
    "\n",
    "по типам данных:\n",
    "- age можно (но не обязательно) привести к int\n",
    "\n",
    "по describe:\n",
    "- значения скоринга между 642 и 1000\n",
    "- возраст от 18 до 86\n",
    "- значения баллов собственности - от 0 до 9\n",
    "- сумма на балансе - от 0 до 119 113 552 \n",
    "- кол-во продуктов, которым пользуется клиент - от 0 до 5\n",
    "- оценочная з/п от 2546.3 до 1 395 064.4\n",
    "- в целом распределение выглядит адекватным, нет явно неправдоподобных цифр. оценочная з/п в 2500 - да выглядит маловато, но это лишь оценка, точных данных нет, и клиенту 18 лет = он может являться клиентом банка, почему нет, просто денег у него еще мало"
   ]
  },
  {
   "cell_type": "markdown",
   "metadata": {},
   "source": [
    "### Общие выводы"
   ]
  },
  {
   "cell_type": "markdown",
   "metadata": {},
   "source": [
    "- нужно разобраться с причинами пропусков (в balance и age) - MAR, MCAR, MNAR \n",
    "- решить, что делать с пропусками\n",
    "- названия столбцов нужно привести к lower case\n",
    "- поискать явные/неявные дубликаты"
   ]
  },
  {
   "cell_type": "markdown",
   "metadata": {},
   "source": [
    "## Предобработка данных"
   ]
  },
  {
   "cell_type": "markdown",
   "metadata": {},
   "source": [
    "### Что буду делать на этом этапе"
   ]
  },
  {
   "cell_type": "markdown",
   "metadata": {},
   "source": [
    "Необходимо сделать следующее:\n",
    "\n",
    "- переименовать названия столбцов - привести к lower case\n",
    "- узнать природу пропусков в balance и age\n",
    "- решить, что делать с пропусками - поставить заглушки на пропусках или удалить или вставить медиану/среднее или не трогать вовсе\n",
    "- поискать и удалить явные дубликаты\n",
    "- поискать и исправить/удалить неявные дубликаты"
   ]
  },
  {
   "cell_type": "markdown",
   "metadata": {},
   "source": [
    "### Приведу названия столбцов к lower case"
   ]
  },
  {
   "cell_type": "code",
   "execution_count": 6,
   "metadata": {},
   "outputs": [],
   "source": [
    "banks.columns = banks.columns.str.lower()"
   ]
  },
  {
   "cell_type": "code",
   "execution_count": 7,
   "metadata": {},
   "outputs": [
    {
     "data": {
      "text/html": [
       "<div>\n",
       "<style scoped>\n",
       "    .dataframe tbody tr th:only-of-type {\n",
       "        vertical-align: middle;\n",
       "    }\n",
       "\n",
       "    .dataframe tbody tr th {\n",
       "        vertical-align: top;\n",
       "    }\n",
       "\n",
       "    .dataframe thead th {\n",
       "        text-align: right;\n",
       "    }\n",
       "</style>\n",
       "<table border=\"1\" class=\"dataframe\">\n",
       "  <thead>\n",
       "    <tr style=\"text-align: right;\">\n",
       "      <th></th>\n",
       "      <th>userid</th>\n",
       "      <th>score</th>\n",
       "      <th>city</th>\n",
       "      <th>gender</th>\n",
       "      <th>age</th>\n",
       "      <th>equity</th>\n",
       "      <th>balance</th>\n",
       "      <th>products</th>\n",
       "      <th>credit_card</th>\n",
       "      <th>last_activity</th>\n",
       "      <th>est_salary</th>\n",
       "      <th>churn</th>\n",
       "    </tr>\n",
       "  </thead>\n",
       "  <tbody>\n",
       "    <tr>\n",
       "      <th>0</th>\n",
       "      <td>183012</td>\n",
       "      <td>850.00</td>\n",
       "      <td>Рыбинск</td>\n",
       "      <td>Ж</td>\n",
       "      <td>25.00</td>\n",
       "      <td>1</td>\n",
       "      <td>59214.82</td>\n",
       "      <td>2</td>\n",
       "      <td>0</td>\n",
       "      <td>1</td>\n",
       "      <td>75719.14</td>\n",
       "      <td>1</td>\n",
       "    </tr>\n",
       "    <tr>\n",
       "      <th>1</th>\n",
       "      <td>146556</td>\n",
       "      <td>861.00</td>\n",
       "      <td>Рыбинск</td>\n",
       "      <td>Ж</td>\n",
       "      <td>37.00</td>\n",
       "      <td>5</td>\n",
       "      <td>850594.33</td>\n",
       "      <td>3</td>\n",
       "      <td>1</td>\n",
       "      <td>0</td>\n",
       "      <td>86621.77</td>\n",
       "      <td>0</td>\n",
       "    </tr>\n",
       "    <tr>\n",
       "      <th>2</th>\n",
       "      <td>120722</td>\n",
       "      <td>892.00</td>\n",
       "      <td>Рыбинск</td>\n",
       "      <td>Ж</td>\n",
       "      <td>30.00</td>\n",
       "      <td>0</td>\n",
       "      <td>NaN</td>\n",
       "      <td>1</td>\n",
       "      <td>1</td>\n",
       "      <td>1</td>\n",
       "      <td>107683.34</td>\n",
       "      <td>0</td>\n",
       "    </tr>\n",
       "  </tbody>\n",
       "</table>\n",
       "</div>"
      ],
      "text/plain": [
       "   userid  score     city gender   age  equity   balance  products  \\\n",
       "0  183012 850.00  Рыбинск      Ж 25.00       1  59214.82         2   \n",
       "1  146556 861.00  Рыбинск      Ж 37.00       5 850594.33         3   \n",
       "2  120722 892.00  Рыбинск      Ж 30.00       0       NaN         1   \n",
       "\n",
       "   credit_card  last_activity  est_salary  churn  \n",
       "0            0              1    75719.14      1  \n",
       "1            1              0    86621.77      0  \n",
       "2            1              1   107683.34      0  "
      ]
     },
     "execution_count": 7,
     "metadata": {},
     "output_type": "execute_result"
    }
   ],
   "source": [
    "banks.head(3)"
   ]
  },
  {
   "cell_type": "markdown",
   "metadata": {},
   "source": [
    "### Выясню природу пропусков"
   ]
  },
  {
   "cell_type": "code",
   "execution_count": 8,
   "metadata": {},
   "outputs": [
    {
     "data": {
      "image/png": "[encoded data removed]",
      "text/plain": [
       "<Figure size 576x216 with 1 Axes>"
      ]
     },
     "metadata": {
      "needs_background": "light"
     },
     "output_type": "display_data"
    }
   ],
   "source": [
    "def pass_value_barh(df):\n",
    "    fig, ax = plt.subplots(figsize=(8, 3))\n",
    "\n",
    "    try:\n",
    "        # Создам Series с процентами пропусков\n",
    "        missing_percentage = (df.isna().mean() * 100)\n",
    "\n",
    "        # Отберу только признаки с пропусками\n",
    "        missing_data = missing_percentage[missing_percentage > 0]\n",
    "\n",
    "        # Создам горизонтальный бар-график\n",
    "        ax.barh(missing_data.index, missing_data, color='lightgreen')\n",
    "        ax.set_xlabel('% Пропусков', fontsize=14, color='SteelBlue')\n",
    "        ax.set_title('Пропущенные значения, % от общего числа значений' + \"\\n\", fontsize=14)\n",
    "\n",
    "        # Добавлю численные значения над столбцами\n",
    "        for index, value in enumerate(missing_data):\n",
    "            ax.text(value + 1, index, f\"{value:.1f}%\", va='center', fontsize=12, color='black')\n",
    "\n",
    "        plt.grid(visible=True, color='grey', linestyle='--', linewidth=0.5, alpha=0.8)\n",
    "        plt.xlim(0, 100)\n",
    "\n",
    "        # Добавлю подпись \"процент пропусков\" внизу\n",
    "        plt.xlabel('Процент пропусков', fontsize=12, color='Black')\n",
    "    \n",
    "    except:\n",
    "        print('пропусков не осталось :) или произошла ошибка в первой части функции')\n",
    "\n",
    "pass_value_barh(banks)\n"
   ]
  },
  {
   "cell_type": "markdown",
   "metadata": {},
   "source": [
    "- 0.3 процента пропусков - немного, но причину пропусков попробую выяснить\n",
    "- а вот 22.9 процента пропусков - это много, тут уделю особое внимание"
   ]
  },
  {
   "cell_type": "code",
   "execution_count": 9,
   "metadata": {},
   "outputs": [],
   "source": [
    "# Создам бинарный признак для колонки balance\n",
    "banks['balance_missing'] = banks['balance'].isna().astype(int)\n",
    "\n",
    "# Создам бинарный признак для колонки age\n",
    "banks['age_missing'] = banks['age'].isna().astype(int)"
   ]
  },
  {
   "cell_type": "code",
   "execution_count": 10,
   "metadata": {},
   "outputs": [],
   "source": [
    "# Вычислю корреляцию для двух колонок\n",
    "correlation_balance = banks.corr()['balance_missing']\n",
    "correlation_age = banks.corr()['age_missing']"
   ]
  },
  {
   "cell_type": "markdown",
   "metadata": {},
   "source": [
    "#### Пропуски в balance"
   ]
  },
  {
   "cell_type": "code",
   "execution_count": 11,
   "metadata": {},
   "outputs": [
    {
     "name": "stdout",
     "output_type": "stream",
     "text": [
      "Корреляция с бинарным признаком 'balance_missing':\n",
      "userid             0.00\n",
      "score              0.14\n",
      "age               -0.03\n",
      "equity            -0.71\n",
      "balance             NaN\n",
      "products          -0.49\n",
      "credit_card        0.16\n",
      "last_activity      0.03\n",
      "est_salary         0.31\n",
      "churn             -0.25\n",
      "balance_missing    1.00\n",
      "age_missing        0.05\n",
      "Name: balance_missing, dtype: float64\n"
     ]
    }
   ],
   "source": [
    "print(\"Корреляция с бинарным признаком 'balance_missing':\")\n",
    "print(correlation_balance)"
   ]
  },
  {
   "cell_type": "markdown",
   "metadata": {},
   "source": [
    "здесь я вижу значительную корреляцию:\n",
    "\n",
    "- с кол-вом продуктов - корреляция отрицательная, по шкале Чеддока это уже средняя заметная корреляция (-0.5), что может означать, что клиенты, к-рые используют меньше продуктов, склонны иметь больше пропусков в balance\n",
    "- с баллом собственности - корреляция отрицательная и по шкале Чеддока уже считается высокой (-0.7), это указывает на то, что количество баллов собственности сильно связано с отсутствием пропусков в 'balance'. Вероятно, клиенты с большим количеством баллов собственности имеют меньше пропусков в balance\n",
    "\n",
    "Могу предположить, что пропуски здесь возникли не случайно (MNAR) - логика \"чем меньше продуктов, тем больше пропусков в балансе\" и \"чем меньше баллов собственности, тем больше пропусков в балансе\" может указывать на то, что пропуски на самом деле равны нулю, однако точно это утверждать нельзя"
   ]
  },
  {
   "cell_type": "code",
   "execution_count": 12,
   "metadata": {},
   "outputs": [],
   "source": [
    "zero_balance_count = (banks['balance'] == 0).sum()"
   ]
  },
  {
   "cell_type": "code",
   "execution_count": 13,
   "metadata": {},
   "outputs": [
    {
     "data": {
      "text/plain": [
       "2"
      ]
     },
     "execution_count": 13,
     "metadata": {},
     "output_type": "execute_result"
    }
   ],
   "source": [
    "zero_balance_count"
   ]
  },
  {
   "cell_type": "markdown",
   "metadata": {},
   "source": [
    "Нулей в процентном соотношении от  общего кол-ва действительно маловато - 0,02%. Вероятно, и правда пропуски здесь означают нули, но заполнять пропуски и тем более удалять их не буду. Если что-то нужно будет сделать с этими пропусками далее, я это сделаю. "
   ]
  },
  {
   "cell_type": "markdown",
   "metadata": {},
   "source": [
    "#### Пропуски в age"
   ]
  },
  {
   "cell_type": "code",
   "execution_count": 14,
   "metadata": {},
   "outputs": [
    {
     "name": "stdout",
     "output_type": "stream",
     "text": [
      "\n",
      "Корреляция с бинарным признаком 'age_missing':\n",
      "userid             0.03\n",
      "score              0.01\n",
      "age                 NaN\n",
      "equity            -0.03\n",
      "balance            0.01\n",
      "products          -0.03\n",
      "credit_card        0.01\n",
      "last_activity      0.03\n",
      "est_salary         0.01\n",
      "churn             -0.02\n",
      "balance_missing    0.05\n",
      "age_missing        1.00\n",
      "Name: age_missing, dtype: float64\n"
     ]
    }
   ],
   "source": [
    "print(\"\\nКорреляция с бинарным признаком 'age_missing':\")\n",
    "print(correlation_age)"
   ]
  },
  {
   "cell_type": "markdown",
   "metadata": {},
   "source": [
    "- Здесь связь между наличием пропусков в возрасте и другими признаками - очень слабая, не имеет практического значения \n",
    "- = можно утверждать, что пропуски в age не зависят от других переменных\n",
    "- = можно сказать, что пропуски возникли случайно, например: случайные ошибки при сборе данных, из-за которых информация о возрасте клиента может быть утеряна, либо причины это технические проблемы, либо человеческий фактор (например ДИ случайно кривой заппрос написал и для части клиентов возраст был потерян)\n",
    "- не буду трогать. Если потребуется для целей исследования - удалю, тем более тут всего 26 строк, это очень низкий процент от кол-ва строк в датасете, выкинуть их нестрашно. Но пока не трогаю </font>\n",
    "\n",
    "пропуски в возрасте скорее всего имеют полностью случайную природу (MCAR - missing completely at random) и не зависят от других переменных"
   ]
  },
  {
   "cell_type": "markdown",
   "metadata": {},
   "source": [
    "### Посмотрю на явные дубликаты"
   ]
  },
  {
   "cell_type": "code",
   "execution_count": 15,
   "metadata": {},
   "outputs": [
    {
     "data": {
      "text/plain": [
       "0"
      ]
     },
     "execution_count": 15,
     "metadata": {},
     "output_type": "execute_result"
    }
   ],
   "source": [
    "banks.duplicated().sum() "
   ]
  },
  {
   "cell_type": "markdown",
   "metadata": {},
   "source": [
    "Ок, хорошо, явных дубликатов нет"
   ]
  },
  {
   "cell_type": "markdown",
   "metadata": {},
   "source": [
    "### Посмотрю на неявные дубликаты"
   ]
  },
  {
   "cell_type": "code",
   "execution_count": 16,
   "metadata": {},
   "outputs": [],
   "source": [
    "# Ищу неявные дубликаты во всем датасете\n",
    "duplicate_rows = banks[banks.duplicated(keep=False)]"
   ]
  },
  {
   "cell_type": "code",
   "execution_count": 17,
   "metadata": {},
   "outputs": [
    {
     "data": {
      "text/html": [
       "<div>\n",
       "<style scoped>\n",
       "    .dataframe tbody tr th:only-of-type {\n",
       "        vertical-align: middle;\n",
       "    }\n",
       "\n",
       "    .dataframe tbody tr th {\n",
       "        vertical-align: top;\n",
       "    }\n",
       "\n",
       "    .dataframe thead th {\n",
       "        text-align: right;\n",
       "    }\n",
       "</style>\n",
       "<table border=\"1\" class=\"dataframe\">\n",
       "  <thead>\n",
       "    <tr style=\"text-align: right;\">\n",
       "      <th></th>\n",
       "      <th>userid</th>\n",
       "      <th>score</th>\n",
       "      <th>city</th>\n",
       "      <th>gender</th>\n",
       "      <th>age</th>\n",
       "      <th>equity</th>\n",
       "      <th>balance</th>\n",
       "      <th>products</th>\n",
       "      <th>credit_card</th>\n",
       "      <th>last_activity</th>\n",
       "      <th>est_salary</th>\n",
       "      <th>churn</th>\n",
       "      <th>balance_missing</th>\n",
       "      <th>age_missing</th>\n",
       "    </tr>\n",
       "  </thead>\n",
       "  <tbody>\n",
       "  </tbody>\n",
       "</table>\n",
       "</div>"
      ],
      "text/plain": [
       "Empty DataFrame\n",
       "Columns: [userid, score, city, gender, age, equity, balance, products, credit_card, last_activity, est_salary, churn, balance_missing, age_missing]\n",
       "Index: []"
      ]
     },
     "execution_count": 17,
     "metadata": {},
     "output_type": "execute_result"
    }
   ],
   "source": [
    "duplicate_rows"
   ]
  },
  {
   "cell_type": "markdown",
   "metadata": {},
   "source": [
    "#### Посмотрю неявные дубликаты по user_id"
   ]
  },
  {
   "cell_type": "code",
   "execution_count": 18,
   "metadata": {},
   "outputs": [],
   "source": [
    "# Нахожу все строки с неявными дубликатами по userid\n",
    "duplicates_userid = banks[banks.duplicated(subset='userid', keep=False)]"
   ]
  },
  {
   "cell_type": "code",
   "execution_count": 19,
   "metadata": {},
   "outputs": [
    {
     "data": {
      "text/html": [
       "<div>\n",
       "<style scoped>\n",
       "    .dataframe tbody tr th:only-of-type {\n",
       "        vertical-align: middle;\n",
       "    }\n",
       "\n",
       "    .dataframe tbody tr th {\n",
       "        vertical-align: top;\n",
       "    }\n",
       "\n",
       "    .dataframe thead th {\n",
       "        text-align: right;\n",
       "    }\n",
       "</style>\n",
       "<table border=\"1\" class=\"dataframe\">\n",
       "  <thead>\n",
       "    <tr style=\"text-align: right;\">\n",
       "      <th></th>\n",
       "      <th>userid</th>\n",
       "      <th>score</th>\n",
       "      <th>city</th>\n",
       "      <th>gender</th>\n",
       "      <th>age</th>\n",
       "      <th>equity</th>\n",
       "      <th>balance</th>\n",
       "      <th>products</th>\n",
       "      <th>credit_card</th>\n",
       "      <th>last_activity</th>\n",
       "      <th>est_salary</th>\n",
       "      <th>churn</th>\n",
       "      <th>balance_missing</th>\n",
       "      <th>age_missing</th>\n",
       "    </tr>\n",
       "  </thead>\n",
       "  <tbody>\n",
       "    <tr>\n",
       "      <th>7</th>\n",
       "      <td>218868</td>\n",
       "      <td>825.00</td>\n",
       "      <td>Ярославль</td>\n",
       "      <td>Ж</td>\n",
       "      <td>38.00</td>\n",
       "      <td>4</td>\n",
       "      <td>458145.40</td>\n",
       "      <td>2</td>\n",
       "      <td>1</td>\n",
       "      <td>1</td>\n",
       "      <td>68085.48</td>\n",
       "      <td>0</td>\n",
       "      <td>0</td>\n",
       "      <td>0</td>\n",
       "    </tr>\n",
       "    <tr>\n",
       "      <th>58</th>\n",
       "      <td>164676</td>\n",
       "      <td>860.00</td>\n",
       "      <td>Ярославль</td>\n",
       "      <td>М</td>\n",
       "      <td>37.00</td>\n",
       "      <td>5</td>\n",
       "      <td>648594.03</td>\n",
       "      <td>2</td>\n",
       "      <td>1</td>\n",
       "      <td>1</td>\n",
       "      <td>213586.86</td>\n",
       "      <td>1</td>\n",
       "      <td>0</td>\n",
       "      <td>0</td>\n",
       "    </tr>\n",
       "    <tr>\n",
       "      <th>150</th>\n",
       "      <td>185748</td>\n",
       "      <td>850.00</td>\n",
       "      <td>Рыбинск</td>\n",
       "      <td>М</td>\n",
       "      <td>36.00</td>\n",
       "      <td>5</td>\n",
       "      <td>1203376.67</td>\n",
       "      <td>2</td>\n",
       "      <td>0</td>\n",
       "      <td>1</td>\n",
       "      <td>89401.82</td>\n",
       "      <td>1</td>\n",
       "      <td>0</td>\n",
       "      <td>0</td>\n",
       "    </tr>\n",
       "    <tr>\n",
       "      <th>161</th>\n",
       "      <td>197364</td>\n",
       "      <td>928.00</td>\n",
       "      <td>Рыбинск</td>\n",
       "      <td>Ж</td>\n",
       "      <td>53.00</td>\n",
       "      <td>6</td>\n",
       "      <td>1347183.86</td>\n",
       "      <td>2</td>\n",
       "      <td>0</td>\n",
       "      <td>1</td>\n",
       "      <td>168189.49</td>\n",
       "      <td>1</td>\n",
       "      <td>0</td>\n",
       "      <td>0</td>\n",
       "    </tr>\n",
       "    <tr>\n",
       "      <th>231</th>\n",
       "      <td>190253</td>\n",
       "      <td>823.00</td>\n",
       "      <td>Рыбинск</td>\n",
       "      <td>М</td>\n",
       "      <td>37.00</td>\n",
       "      <td>4</td>\n",
       "      <td>373348.39</td>\n",
       "      <td>2</td>\n",
       "      <td>0</td>\n",
       "      <td>1</td>\n",
       "      <td>131947.92</td>\n",
       "      <td>1</td>\n",
       "      <td>0</td>\n",
       "      <td>0</td>\n",
       "    </tr>\n",
       "  </tbody>\n",
       "</table>\n",
       "</div>"
      ],
      "text/plain": [
       "     userid  score       city gender   age  equity    balance  products  \\\n",
       "7    218868 825.00  Ярославль      Ж 38.00       4  458145.40         2   \n",
       "58   164676 860.00  Ярославль      М 37.00       5  648594.03         2   \n",
       "150  185748 850.00    Рыбинск      М 36.00       5 1203376.67         2   \n",
       "161  197364 928.00    Рыбинск      Ж 53.00       6 1347183.86         2   \n",
       "231  190253 823.00    Рыбинск      М 37.00       4  373348.39         2   \n",
       "\n",
       "     credit_card  last_activity  est_salary  churn  balance_missing  \\\n",
       "7              1              1    68085.48      0                0   \n",
       "58             1              1   213586.86      1                0   \n",
       "150            0              1    89401.82      1                0   \n",
       "161            0              1   168189.49      1                0   \n",
       "231            0              1   131947.92      1                0   \n",
       "\n",
       "     age_missing  \n",
       "7              0  \n",
       "58             0  \n",
       "150            0  \n",
       "161            0  \n",
       "231            0  "
      ]
     },
     "execution_count": 19,
     "metadata": {},
     "output_type": "execute_result"
    }
   ],
   "source": [
    "duplicates_userid.head()"
   ]
  },
  {
   "cell_type": "markdown",
   "metadata": {},
   "source": [
    "Чтобы посмотреть на  эти пропуски детальнее, рандомно выберу 5 любых userid и выведу строки с этими 5 userid, чтобы посмотреть, чем они отличаются и чем похожи"
   ]
  },
  {
   "cell_type": "code",
   "execution_count": 20,
   "metadata": {},
   "outputs": [],
   "source": [
    "random_userids = random.sample(duplicates_userid['userid'].tolist(), 5)"
   ]
  },
  {
   "cell_type": "code",
   "execution_count": 21,
   "metadata": {},
   "outputs": [],
   "source": [
    "selected_rows = banks[banks['userid'].isin(random_userids)].sort_values(by='userid')"
   ]
  },
  {
   "cell_type": "code",
   "execution_count": 22,
   "metadata": {},
   "outputs": [
    {
     "data": {
      "text/html": [
       "<div>\n",
       "<style scoped>\n",
       "    .dataframe tbody tr th:only-of-type {\n",
       "        vertical-align: middle;\n",
       "    }\n",
       "\n",
       "    .dataframe tbody tr th {\n",
       "        vertical-align: top;\n",
       "    }\n",
       "\n",
       "    .dataframe thead th {\n",
       "        text-align: right;\n",
       "    }\n",
       "</style>\n",
       "<table border=\"1\" class=\"dataframe\">\n",
       "  <thead>\n",
       "    <tr style=\"text-align: right;\">\n",
       "      <th></th>\n",
       "      <th>userid</th>\n",
       "      <th>score</th>\n",
       "      <th>city</th>\n",
       "      <th>gender</th>\n",
       "      <th>age</th>\n",
       "      <th>equity</th>\n",
       "      <th>balance</th>\n",
       "      <th>products</th>\n",
       "      <th>credit_card</th>\n",
       "      <th>last_activity</th>\n",
       "      <th>est_salary</th>\n",
       "      <th>churn</th>\n",
       "      <th>balance_missing</th>\n",
       "      <th>age_missing</th>\n",
       "    </tr>\n",
       "  </thead>\n",
       "  <tbody>\n",
       "    <tr>\n",
       "      <th>2941</th>\n",
       "      <td>172142</td>\n",
       "      <td>896.00</td>\n",
       "      <td>Ярославль</td>\n",
       "      <td>Ж</td>\n",
       "      <td>30.00</td>\n",
       "      <td>4</td>\n",
       "      <td>1009073.14</td>\n",
       "      <td>4</td>\n",
       "      <td>1</td>\n",
       "      <td>0</td>\n",
       "      <td>70866.29</td>\n",
       "      <td>1</td>\n",
       "      <td>0</td>\n",
       "      <td>0</td>\n",
       "    </tr>\n",
       "    <tr>\n",
       "      <th>6756</th>\n",
       "      <td>172142</td>\n",
       "      <td>751.00</td>\n",
       "      <td>Рыбинск</td>\n",
       "      <td>Ж</td>\n",
       "      <td>69.00</td>\n",
       "      <td>3</td>\n",
       "      <td>396568.03</td>\n",
       "      <td>2</td>\n",
       "      <td>0</td>\n",
       "      <td>1</td>\n",
       "      <td>45608.45</td>\n",
       "      <td>0</td>\n",
       "      <td>0</td>\n",
       "      <td>0</td>\n",
       "    </tr>\n",
       "    <tr>\n",
       "      <th>2226</th>\n",
       "      <td>195884</td>\n",
       "      <td>906.00</td>\n",
       "      <td>Ярославль</td>\n",
       "      <td>М</td>\n",
       "      <td>49.00</td>\n",
       "      <td>6</td>\n",
       "      <td>1354552.83</td>\n",
       "      <td>2</td>\n",
       "      <td>0</td>\n",
       "      <td>0</td>\n",
       "      <td>270678.42</td>\n",
       "      <td>1</td>\n",
       "      <td>0</td>\n",
       "      <td>0</td>\n",
       "    </tr>\n",
       "    <tr>\n",
       "      <th>9659</th>\n",
       "      <td>195884</td>\n",
       "      <td>767.00</td>\n",
       "      <td>Рыбинск</td>\n",
       "      <td>Ж</td>\n",
       "      <td>45.00</td>\n",
       "      <td>1</td>\n",
       "      <td>335652.56</td>\n",
       "      <td>3</td>\n",
       "      <td>1</td>\n",
       "      <td>1</td>\n",
       "      <td>100197.67</td>\n",
       "      <td>0</td>\n",
       "      <td>0</td>\n",
       "      <td>0</td>\n",
       "    </tr>\n",
       "    <tr>\n",
       "      <th>5889</th>\n",
       "      <td>206759</td>\n",
       "      <td>917.00</td>\n",
       "      <td>Ярославль</td>\n",
       "      <td>М</td>\n",
       "      <td>22.00</td>\n",
       "      <td>0</td>\n",
       "      <td>NaN</td>\n",
       "      <td>1</td>\n",
       "      <td>1</td>\n",
       "      <td>0</td>\n",
       "      <td>70617.52</td>\n",
       "      <td>0</td>\n",
       "      <td>1</td>\n",
       "      <td>0</td>\n",
       "    </tr>\n",
       "    <tr>\n",
       "      <th>8385</th>\n",
       "      <td>206759</td>\n",
       "      <td>915.00</td>\n",
       "      <td>Рыбинск</td>\n",
       "      <td>М</td>\n",
       "      <td>NaN</td>\n",
       "      <td>0</td>\n",
       "      <td>NaN</td>\n",
       "      <td>1</td>\n",
       "      <td>1</td>\n",
       "      <td>0</td>\n",
       "      <td>71179.53</td>\n",
       "      <td>0</td>\n",
       "      <td>1</td>\n",
       "      <td>1</td>\n",
       "    </tr>\n",
       "    <tr>\n",
       "      <th>3230</th>\n",
       "      <td>210135</td>\n",
       "      <td>974.00</td>\n",
       "      <td>Ярославль</td>\n",
       "      <td>Ж</td>\n",
       "      <td>50.00</td>\n",
       "      <td>5</td>\n",
       "      <td>5680148.93</td>\n",
       "      <td>4</td>\n",
       "      <td>1</td>\n",
       "      <td>1</td>\n",
       "      <td>338471.66</td>\n",
       "      <td>0</td>\n",
       "      <td>0</td>\n",
       "      <td>0</td>\n",
       "    </tr>\n",
       "    <tr>\n",
       "      <th>7236</th>\n",
       "      <td>210135</td>\n",
       "      <td>908.00</td>\n",
       "      <td>Рыбинск</td>\n",
       "      <td>Ж</td>\n",
       "      <td>NaN</td>\n",
       "      <td>4</td>\n",
       "      <td>1120340.31</td>\n",
       "      <td>3</td>\n",
       "      <td>1</td>\n",
       "      <td>1</td>\n",
       "      <td>85002.15</td>\n",
       "      <td>0</td>\n",
       "      <td>0</td>\n",
       "      <td>1</td>\n",
       "    </tr>\n",
       "    <tr>\n",
       "      <th>6412</th>\n",
       "      <td>226550</td>\n",
       "      <td>939.00</td>\n",
       "      <td>Ярославль</td>\n",
       "      <td>М</td>\n",
       "      <td>34.00</td>\n",
       "      <td>0</td>\n",
       "      <td>NaN</td>\n",
       "      <td>1</td>\n",
       "      <td>1</td>\n",
       "      <td>1</td>\n",
       "      <td>145913.73</td>\n",
       "      <td>0</td>\n",
       "      <td>1</td>\n",
       "      <td>0</td>\n",
       "    </tr>\n",
       "    <tr>\n",
       "      <th>8070</th>\n",
       "      <td>226550</td>\n",
       "      <td>940.00</td>\n",
       "      <td>Рыбинск</td>\n",
       "      <td>М</td>\n",
       "      <td>NaN</td>\n",
       "      <td>0</td>\n",
       "      <td>NaN</td>\n",
       "      <td>1</td>\n",
       "      <td>0</td>\n",
       "      <td>1</td>\n",
       "      <td>147696.95</td>\n",
       "      <td>0</td>\n",
       "      <td>1</td>\n",
       "      <td>1</td>\n",
       "    </tr>\n",
       "  </tbody>\n",
       "</table>\n",
       "</div>"
      ],
      "text/plain": [
       "      userid  score       city gender   age  equity    balance  products  \\\n",
       "2941  172142 896.00  Ярославль      Ж 30.00       4 1009073.14         4   \n",
       "6756  172142 751.00    Рыбинск      Ж 69.00       3  396568.03         2   \n",
       "2226  195884 906.00  Ярославль      М 49.00       6 1354552.83         2   \n",
       "9659  195884 767.00    Рыбинск      Ж 45.00       1  335652.56         3   \n",
       "5889  206759 917.00  Ярославль      М 22.00       0        NaN         1   \n",
       "8385  206759 915.00    Рыбинск      М   NaN       0        NaN         1   \n",
       "3230  210135 974.00  Ярославль      Ж 50.00       5 5680148.93         4   \n",
       "7236  210135 908.00    Рыбинск      Ж   NaN       4 1120340.31         3   \n",
       "6412  226550 939.00  Ярославль      М 34.00       0        NaN         1   \n",
       "8070  226550 940.00    Рыбинск      М   NaN       0        NaN         1   \n",
       "\n",
       "      credit_card  last_activity  est_salary  churn  balance_missing  \\\n",
       "2941            1              0    70866.29      1                0   \n",
       "6756            0              1    45608.45      0                0   \n",
       "2226            0              0   270678.42      1                0   \n",
       "9659            1              1   100197.67      0                0   \n",
       "5889            1              0    70617.52      0                1   \n",
       "8385            1              0    71179.53      0                1   \n",
       "3230            1              1   338471.66      0                0   \n",
       "7236            1              1    85002.15      0                0   \n",
       "6412            1              1   145913.73      0                1   \n",
       "8070            0              1   147696.95      0                1   \n",
       "\n",
       "      age_missing  \n",
       "2941            0  \n",
       "6756            0  \n",
       "2226            0  \n",
       "9659            0  \n",
       "5889            0  \n",
       "8385            1  \n",
       "3230            0  \n",
       "7236            1  \n",
       "6412            0  \n",
       "8070            1  "
      ]
     },
     "execution_count": 22,
     "metadata": {},
     "output_type": "execute_result"
    }
   ],
   "source": [
    "selected_rows"
   ]
  },
  {
   "cell_type": "markdown",
   "metadata": {},
   "source": [
    "- вижу, что эти дубликаты дублируются только по userid, в остальном они отличаются по всем признакам\n",
    "- вижу, что представленных городов - 2 - Ярославль и Рыбинск, видимо случилась какая-то несогласованность между банками в этих двух городах по userid, и эти одинаковые id были назначены разным людям в разных городах\n",
    "- это нестрашно, т к userid это не тот признак, который может коррелировать с оттоком = для целей работы эти дубликаты не представляют никакой опасности и значения не имеют\n",
    "- оставлю их как есть"
   ]
  },
  {
   "cell_type": "markdown",
   "metadata": {},
   "source": [
    "### Уникальные значения balance"
   ]
  },
  {
   "cell_type": "code",
   "execution_count": 23,
   "metadata": {},
   "outputs": [
    {
     "data": {
      "text/plain": [
       "array([2, 3, 1, 4, 5, 0])"
      ]
     },
     "execution_count": 23,
     "metadata": {},
     "output_type": "execute_result"
    }
   ],
   "source": [
    "banks.products.unique()"
   ]
  },
  {
   "cell_type": "code",
   "execution_count": 24,
   "metadata": {},
   "outputs": [
    {
     "data": {
      "text/html": [
       "<div>\n",
       "<style scoped>\n",
       "    .dataframe tbody tr th:only-of-type {\n",
       "        vertical-align: middle;\n",
       "    }\n",
       "\n",
       "    .dataframe tbody tr th {\n",
       "        vertical-align: top;\n",
       "    }\n",
       "\n",
       "    .dataframe thead th {\n",
       "        text-align: right;\n",
       "    }\n",
       "</style>\n",
       "<table border=\"1\" class=\"dataframe\">\n",
       "  <thead>\n",
       "    <tr style=\"text-align: right;\">\n",
       "      <th></th>\n",
       "      <th>userid</th>\n",
       "      <th>score</th>\n",
       "      <th>city</th>\n",
       "      <th>gender</th>\n",
       "      <th>age</th>\n",
       "      <th>equity</th>\n",
       "      <th>balance</th>\n",
       "      <th>products</th>\n",
       "      <th>credit_card</th>\n",
       "      <th>last_activity</th>\n",
       "      <th>est_salary</th>\n",
       "      <th>churn</th>\n",
       "      <th>balance_missing</th>\n",
       "      <th>age_missing</th>\n",
       "    </tr>\n",
       "  </thead>\n",
       "  <tbody>\n",
       "    <tr>\n",
       "      <th>8957</th>\n",
       "      <td>147837</td>\n",
       "      <td>962.00</td>\n",
       "      <td>Рыбинск</td>\n",
       "      <td>Ж</td>\n",
       "      <td>79.00</td>\n",
       "      <td>3</td>\n",
       "      <td>NaN</td>\n",
       "      <td>0</td>\n",
       "      <td>0</td>\n",
       "      <td>0</td>\n",
       "      <td>25063.96</td>\n",
       "      <td>1</td>\n",
       "      <td>1</td>\n",
       "      <td>0</td>\n",
       "    </tr>\n",
       "  </tbody>\n",
       "</table>\n",
       "</div>"
      ],
      "text/plain": [
       "      userid  score     city gender   age  equity  balance  products  \\\n",
       "8957  147837 962.00  Рыбинск      Ж 79.00       3      NaN         0   \n",
       "\n",
       "      credit_card  last_activity  est_salary  churn  balance_missing  \\\n",
       "8957            0              0    25063.96      1                1   \n",
       "\n",
       "      age_missing  \n",
       "8957            0  "
      ]
     },
     "execution_count": 24,
     "metadata": {},
     "output_type": "execute_result"
    }
   ],
   "source": [
    "products_zero = banks[banks['products'] == 0]\n",
    "products_zero"
   ]
  },
  {
   "cell_type": "markdown",
   "metadata": {},
   "source": [
    "Вижу, что есть одно значение, равное 0. Кол-во продуктов не может быть равно 0, удалю его."
   ]
  },
  {
   "cell_type": "code",
   "execution_count": 25,
   "metadata": {},
   "outputs": [],
   "source": [
    "banks.drop(banks[banks['products'] == 0].index, inplace=True)"
   ]
  },
  {
   "cell_type": "code",
   "execution_count": 26,
   "metadata": {},
   "outputs": [
    {
     "data": {
      "text/html": [
       "<div>\n",
       "<style scoped>\n",
       "    .dataframe tbody tr th:only-of-type {\n",
       "        vertical-align: middle;\n",
       "    }\n",
       "\n",
       "    .dataframe tbody tr th {\n",
       "        vertical-align: top;\n",
       "    }\n",
       "\n",
       "    .dataframe thead th {\n",
       "        text-align: right;\n",
       "    }\n",
       "</style>\n",
       "<table border=\"1\" class=\"dataframe\">\n",
       "  <thead>\n",
       "    <tr style=\"text-align: right;\">\n",
       "      <th></th>\n",
       "      <th>userid</th>\n",
       "      <th>score</th>\n",
       "      <th>city</th>\n",
       "      <th>gender</th>\n",
       "      <th>age</th>\n",
       "      <th>equity</th>\n",
       "      <th>balance</th>\n",
       "      <th>products</th>\n",
       "      <th>credit_card</th>\n",
       "      <th>last_activity</th>\n",
       "      <th>est_salary</th>\n",
       "      <th>churn</th>\n",
       "      <th>balance_missing</th>\n",
       "      <th>age_missing</th>\n",
       "    </tr>\n",
       "  </thead>\n",
       "  <tbody>\n",
       "  </tbody>\n",
       "</table>\n",
       "</div>"
      ],
      "text/plain": [
       "Empty DataFrame\n",
       "Columns: [userid, score, city, gender, age, equity, balance, products, credit_card, last_activity, est_salary, churn, balance_missing, age_missing]\n",
       "Index: []"
      ]
     },
     "execution_count": 26,
     "metadata": {},
     "output_type": "execute_result"
    }
   ],
   "source": [
    "products_zero = banks[banks['products'] == 0]\n",
    "products_zero"
   ]
  },
  {
   "cell_type": "markdown",
   "metadata": {},
   "source": [
    "### Избавлюсь от столбца userid"
   ]
  },
  {
   "cell_type": "markdown",
   "metadata": {},
   "source": [
    "Этот столбец нам больше не нужен"
   ]
  },
  {
   "cell_type": "code",
   "execution_count": 27,
   "metadata": {},
   "outputs": [],
   "source": [
    "banks.drop('userid', axis=1, inplace=True)"
   ]
  },
  {
   "cell_type": "code",
   "execution_count": 28,
   "metadata": {},
   "outputs": [
    {
     "data": {
      "text/html": [
       "<div>\n",
       "<style scoped>\n",
       "    .dataframe tbody tr th:only-of-type {\n",
       "        vertical-align: middle;\n",
       "    }\n",
       "\n",
       "    .dataframe tbody tr th {\n",
       "        vertical-align: top;\n",
       "    }\n",
       "\n",
       "    .dataframe thead th {\n",
       "        text-align: right;\n",
       "    }\n",
       "</style>\n",
       "<table border=\"1\" class=\"dataframe\">\n",
       "  <thead>\n",
       "    <tr style=\"text-align: right;\">\n",
       "      <th></th>\n",
       "      <th>score</th>\n",
       "      <th>city</th>\n",
       "      <th>gender</th>\n",
       "      <th>age</th>\n",
       "      <th>equity</th>\n",
       "      <th>balance</th>\n",
       "      <th>products</th>\n",
       "      <th>credit_card</th>\n",
       "      <th>last_activity</th>\n",
       "      <th>est_salary</th>\n",
       "      <th>churn</th>\n",
       "      <th>balance_missing</th>\n",
       "      <th>age_missing</th>\n",
       "    </tr>\n",
       "  </thead>\n",
       "  <tbody>\n",
       "    <tr>\n",
       "      <th>0</th>\n",
       "      <td>850.00</td>\n",
       "      <td>Рыбинск</td>\n",
       "      <td>Ж</td>\n",
       "      <td>25.00</td>\n",
       "      <td>1</td>\n",
       "      <td>59214.82</td>\n",
       "      <td>2</td>\n",
       "      <td>0</td>\n",
       "      <td>1</td>\n",
       "      <td>75719.14</td>\n",
       "      <td>1</td>\n",
       "      <td>0</td>\n",
       "      <td>0</td>\n",
       "    </tr>\n",
       "    <tr>\n",
       "      <th>1</th>\n",
       "      <td>861.00</td>\n",
       "      <td>Рыбинск</td>\n",
       "      <td>Ж</td>\n",
       "      <td>37.00</td>\n",
       "      <td>5</td>\n",
       "      <td>850594.33</td>\n",
       "      <td>3</td>\n",
       "      <td>1</td>\n",
       "      <td>0</td>\n",
       "      <td>86621.77</td>\n",
       "      <td>0</td>\n",
       "      <td>0</td>\n",
       "      <td>0</td>\n",
       "    </tr>\n",
       "    <tr>\n",
       "      <th>2</th>\n",
       "      <td>892.00</td>\n",
       "      <td>Рыбинск</td>\n",
       "      <td>Ж</td>\n",
       "      <td>30.00</td>\n",
       "      <td>0</td>\n",
       "      <td>NaN</td>\n",
       "      <td>1</td>\n",
       "      <td>1</td>\n",
       "      <td>1</td>\n",
       "      <td>107683.34</td>\n",
       "      <td>0</td>\n",
       "      <td>1</td>\n",
       "      <td>0</td>\n",
       "    </tr>\n",
       "  </tbody>\n",
       "</table>\n",
       "</div>"
      ],
      "text/plain": [
       "   score     city gender   age  equity   balance  products  credit_card  \\\n",
       "0 850.00  Рыбинск      Ж 25.00       1  59214.82         2            0   \n",
       "1 861.00  Рыбинск      Ж 37.00       5 850594.33         3            1   \n",
       "2 892.00  Рыбинск      Ж 30.00       0       NaN         1            1   \n",
       "\n",
       "   last_activity  est_salary  churn  balance_missing  age_missing  \n",
       "0              1    75719.14      1                0            0  \n",
       "1              0    86621.77      0                0            0  \n",
       "2              1   107683.34      0                1            0  "
      ]
     },
     "execution_count": 28,
     "metadata": {},
     "output_type": "execute_result"
    }
   ],
   "source": [
    "banks.head(3)"
   ]
  },
  {
   "cell_type": "markdown",
   "metadata": {},
   "source": [
    "### Вывод по этапу предобработки"
   ]
  },
  {
   "cell_type": "markdown",
   "metadata": {},
   "source": [
    "- с помощью str.lower() привела названия колонок к единообразному виду - к lower case\n",
    "- выяснила, что пропуски в balance отрицательно коррелируют с кол-вом используемых банковских продуктов (0,5 - средняя корреляция) и кол-вом баллов собственности (0,7 - заметная корреляция), решила, что природа пропусков - MNAR и я могу при необходимости заменить их нулями. Но пока что оставила как есть\n",
    "- выяснила, что корреляция между пропусками в age и другими признаками такая низкая, что это позволяет мне сказать, что зависимости между пропусками и признаками нет. Природа пропусков - MAR, скорее всего технич ошибка или человеческий фактор. С пропусками не стала ничего делать, оставила как есть\n",
    "- обнаружила неявные дубликаты по userid, но там повторялись только сами userid, остальные признаки отличались. Это не представляет проблемы для целей исследования, поэтому я оставила их как есть\n",
    "- обнаружила, что других явных и неявных дубликатов в датасете нет и это хорошо)\n",
    "- убрала из датасета столбец userid, т к он больше не нужен\n",
    "- убрала строку с неправильным значением 0 в products (значения 0 в этой колонке быть не должно), была всего одна строка, и я ее убрала"
   ]
  },
  {
   "cell_type": "markdown",
   "metadata": {},
   "source": [
    "## Исследовательский анализ"
   ]
  },
  {
   "cell_type": "markdown",
   "metadata": {},
   "source": [
    "Задачи - что и как буду делать:\n",
    "- анализ распределения признаков в целом (без деления на тех что ушли в отток и остались) - гистограммы, столбчатые диаграммы\n",
    "- анализ распределения признаков, в тч в разрезе оттока (непрерывные - ищем отточные интервалы, категориальные/дискретные - буду искать значения признака с оттоком выше, чем по банку - гистограммы, столбчатые диаграммы - по мере выполнения буду решать, какую визуализацию брать\n",
    "- категориальные и дискретные признаки проанализирую с точки зрения поиска значения признака, в котором отток выше, чем по банку. Анализ распределения нужен для следующего этапа - формирования сегментов\n",
    "- анализ портретов клиентов в разрезе оттока. Делаю в виде таблицы. В главном столбце - факт оттока. Считаю по каждому признаку разные меры центральной тенденции в зависимости от типа признака\n",
    "- корреляционный анализ с помощью матрицы Phik\n",
    "- интерпретация корреляционного анализа"
   ]
  },
  {
   "cell_type": "markdown",
   "metadata": {},
   "source": [
    "### Смотрю на распределение признаков в целом"
   ]
  },
  {
   "cell_type": "markdown",
   "metadata": {},
   "source": [
    "#### Смотрю средние значения по всему датасету"
   ]
  },
  {
   "cell_type": "code",
   "execution_count": 29,
   "metadata": {},
   "outputs": [],
   "source": [
    "# Список колонок, для которых не нужно считать средние значения\n",
    "exclude_columns = ['balance_missing', 'age_missing', 'gender']\n",
    "\n",
    "# Расчет средних значений для остальных колонок\n",
    "mean_values = banks.drop(columns=exclude_columns).mean(numeric_only=True)"
   ]
  },
  {
   "cell_type": "code",
   "execution_count": 30,
   "metadata": {},
   "outputs": [
    {
     "data": {
      "text/plain": [
       "score              848.69\n",
       "age                 42.73\n",
       "equity               2.63\n",
       "balance         827794.31\n",
       "products             1.87\n",
       "credit_card          0.68\n",
       "last_activity        0.52\n",
       "est_salary      147879.17\n",
       "churn                0.18\n",
       "dtype: float64"
      ]
     },
     "execution_count": 30,
     "metadata": {},
     "output_type": "execute_result"
    }
   ],
   "source": [
    "mean_values"
   ]
  },
  {
   "cell_type": "markdown",
   "metadata": {},
   "source": [
    "ок, \n",
    "\n",
    "- средний возраст 42 года, \n",
    "- среднее кол-во баллов собственности - 2,63\n",
    "- среднее кол-во денег на балансе - около 828 тыс\n",
    "- кол-во продуктов - 1.87\n",
    "- кредитка есть у 68% клиентов\n",
    "- 52% клиентов были активны в отчетный период\n",
    "- средняя оценочная зп около 148 тыс\n",
    "- уровень оттока по банку около 18%\n",
    "\n",
    "понятно, что средние значения для непрерывных значений могут иметь выбросы, средних значений мало, поэтому на этом еще не все"
   ]
  },
  {
   "cell_type": "markdown",
   "metadata": {},
   "source": [
    "#### Смотрю распределение по всему датасету"
   ]
  },
  {
   "cell_type": "code",
   "execution_count": 31,
   "metadata": {
    "scrolled": false
   },
   "outputs": [
    {
     "data": {
      "image/png": "[encoded data removed]",
      "text/plain": [
       "<Figure size 1296x1152 with 11 Axes>"
      ]
     },
     "metadata": {
      "needs_background": "light"
     },
     "output_type": "display_data"
    }
   ],
   "source": [
    "# Создаю фигуру и оси для графиков\n",
    "fig, axes = plt.subplots(nrows=4, ncols=3, figsize=(18, 16))\n",
    "plt.subplots_adjust(hspace=0.5)\n",
    "\n",
    "# Графики для числовых признаков (score, age, balance, est_salary)\n",
    "numeric_features = ['score', 'age', 'balance', 'est_salary']\n",
    "numeric_feature_labels = ['кредитный рейтинг', 'возраст', 'баланс на счете', 'оценочная зарплата']\n",
    "for i, (feature, label) in enumerate(zip(numeric_features, numeric_feature_labels)):\n",
    "    row, col = i // 3, i % 3\n",
    "    axes[row, col].hist(banks[feature].dropna(), bins=20, color='skyblue', alpha=0.7)\n",
    "    axes[row, col].set_title(f'Распределение признака {label}')\n",
    "    axes[row, col].set_xlabel(label)\n",
    "    axes[row, col].set_ylabel('Частота встречаемости')\n",
    "\n",
    "# График для категориального признака 'equity' \n",
    "#(пришлось отдельно сделать, в сетку никак не ложился)\n",
    "row, col = len(numeric_features) // 3, len(numeric_features) % 3\n",
    "sns.countplot(data=banks, x='equity', ax=axes[row, col], palette='pastel')\n",
    "axes[row, col].set_title('Распределение признака баллы собственности')\n",
    "axes[row, col].set_xlabel('баллы собственности')\n",
    "axes[row, col].set_ylabel('Количество')\n",
    "\n",
    "# Графики для остальных категориальных признаков \n",
    "#(city, gender, products, credit_card, last_activity, churn)\n",
    "categorical_features = ['city', 'gender', 'products', 'credit_card', 'last_activity', 'churn']\n",
    "categorical_feature_labels = ['город', 'пол', 'количество банковских продуктов', \n",
    "                              'наличие кредитной карты', 'активность', 'отток']\n",
    "\n",
    "for i, (feature, label) in enumerate(zip(categorical_features, categorical_feature_labels)):\n",
    "    row, col = (i + len(numeric_features) + 1) // 3, (i + len(numeric_features) + 1) % 3\n",
    "    sns.countplot(data=banks, x=feature, ax=axes[row, col], palette='pastel')\n",
    "    axes[row, col].set_title(f'Распределение признака {label}')\n",
    "    axes[row, col].set_xlabel(label)\n",
    "    axes[row, col].set_ylabel('Количество')\n",
    "\n",
    "# Удаляю последнюю пустую ячейку \n",
    "if (len(numeric_features) + len(categorical_features)) % 3 != 0:\n",
    "    fig.delaxes(axes[-1, -1])\n",
    "\n",
    "# Вывожу графики\n",
    "plt.show()"
   ]
  },
  {
   "cell_type": "code",
   "execution_count": 32,
   "metadata": {},
   "outputs": [
    {
     "data": {
      "image/png": "[encoded data removed]",
      "text/plain": [
       "<Figure size 1296x864 with 9 Axes>"
      ]
     },
     "metadata": {
      "needs_background": "light"
     },
     "output_type": "display_data"
    },
    {
     "data": {
      "image/png": "[encoded data removed]",
      "text/plain": [
       "<Figure size 576x288 with 1 Axes>"
      ]
     },
     "metadata": {
      "needs_background": "light"
     },
     "output_type": "display_data"
    },
    {
     "data": {
      "image/png": "[encoded data removed]",
      "text/plain": [
       "<Figure size 576x288 with 1 Axes>"
      ]
     },
     "metadata": {
      "needs_background": "light"
     },
     "output_type": "display_data"
    }
   ],
   "source": [
    "# Создаю фигуру и оси для графиков, теперь с меньшим числом осей\n",
    "fig, axes = plt.subplots(nrows=3, ncols=3, figsize=(18, 12))  # Уменьшил количество строк\n",
    "plt.subplots_adjust(hspace=0.5)\n",
    "\n",
    "# Убираю 'balance' и 'est_salary' из списка числовых признаков\n",
    "numeric_features = ['score', 'age']\n",
    "numeric_feature_labels = ['кредитный рейтинг', 'возраст']\n",
    "for i, (feature, label) in enumerate(zip(numeric_features, numeric_feature_labels)):\n",
    "    row, col = i // 3, i % 3\n",
    "    axes[row, col].hist(banks[feature].dropna(), bins=20, color='skyblue', alpha=0.7)\n",
    "    axes[row, col].set_title(f'Распределение признака {label}')\n",
    "    axes[row, col].set_xlabel(label)\n",
    "    axes[row, col].set_ylabel('Частота встречаемости')\n",
    "\n",
    "# График для категориального признака 'equity' \n",
    "#(пришлось отдельно сделать, в сетку никак не ложился)\n",
    "row, col = len(numeric_features) // 3, len(numeric_features) % 3\n",
    "sns.countplot(data=banks, x='equity', ax=axes[row, col], palette='pastel')\n",
    "axes[row, col].set_title('Распределение признака баллы собственности')\n",
    "axes[row, col].set_xlabel('баллы собственности')\n",
    "axes[row, col].set_ylabel('Количество')\n",
    "\n",
    "# Графики для остальных категориальных признаков \n",
    "#(city, gender, products, credit_card, last_activity, churn)\n",
    "categorical_features = ['city', 'gender', 'products', 'credit_card', 'last_activity', 'churn']\n",
    "categorical_feature_labels = ['город', 'пол', 'количество банковских продуктов', \n",
    "                              'наличие кредитной карты', 'активность', 'отток']\n",
    "\n",
    "for i, (feature, label) in enumerate(zip(categorical_features, categorical_feature_labels)):\n",
    "    row, col = (i + len(numeric_features) + 1) // 3, (i + len(numeric_features) + 1) % 3\n",
    "    sns.countplot(data=banks, x=feature, ax=axes[row, col], palette='pastel')\n",
    "    axes[row, col].set_title(f'Распределение признака {label}')\n",
    "    axes[row, col].set_xlabel(label)\n",
    "    axes[row, col].set_ylabel('Количество')\n",
    "    \n",
    "# Вывожу графики\n",
    "plt.show()\n",
    "\n",
    "# Создаю отдельные графики для 'balance' и 'est_salary'\n",
    "plt.figure(figsize=(8, 4))\n",
    "plt.hist(banks['balance'].dropna(), bins=1000, color='skyblue', alpha=0.7)\n",
    "plt.title('Распределение признака баланс на счете')\n",
    "plt.xlabel('баланс на счете')\n",
    "plt.ylabel('Частота встречаемости')\n",
    "plt.xlim(0, 5000000) # Устанавливаем пределы для оси X, чтобы исключить выбросы\n",
    "plt.ticklabel_format(style='plain', axis='x')\n",
    "plt.grid(True) \n",
    "\n",
    "\n",
    "plt.figure(figsize=(8, 4))\n",
    "plt.hist(banks['est_salary'].dropna(), bins=200, color='skyblue', alpha=0.7)\n",
    "plt.title('Распределение признака оценочная зарплата')\n",
    "plt.xlabel('оценочная зарплата')\n",
    "plt.ylabel('Частота встречаемости')\n",
    "plt.ticklabel_format(style='plain', axis='x')\n",
    "plt.grid(True) \n",
    "plt.show()"
   ]
  },
  {
   "cell_type": "code",
   "execution_count": 33,
   "metadata": {},
   "outputs": [],
   "source": [
    "#Посмотрю на перцентили по зарплате\n",
    "percentiles = [0.01, 0.05, 0.95, 0.99]\n",
    "salary_percentiles = banks['est_salary'].quantile(percentiles)"
   ]
  },
  {
   "cell_type": "code",
   "execution_count": 34,
   "metadata": {},
   "outputs": [
    {
     "data": {
      "text/plain": [
       "0.01    17348.74\n",
       "0.05    32169.54\n",
       "0.95   316885.61\n",
       "0.99   887938.77\n",
       "Name: est_salary, dtype: float64"
      ]
     },
     "execution_count": 34,
     "metadata": {},
     "output_type": "execute_result"
    }
   ],
   "source": [
    "salary_percentiles"
   ]
  },
  {
   "cell_type": "markdown",
   "metadata": {},
   "source": [
    "95% процентов всех значений по зарплате лежат в пределах до 888тыс, = могу на графике ограничение поставить, мне будет удобнее смотреть на график без выбросов "
   ]
  },
  {
   "cell_type": "code",
   "execution_count": 35,
   "metadata": {},
   "outputs": [
    {
     "data": {
      "image/png": "[encoded data removed]",
      "text/plain": [
       "<Figure size 576x288 with 1 Axes>"
      ]
     },
     "metadata": {
      "needs_background": "light"
     },
     "output_type": "display_data"
    }
   ],
   "source": [
    "plt.figure(figsize=(8, 4))\n",
    "plt.hist(banks['est_salary'].dropna(), bins=200, color='skyblue', alpha=0.7)\n",
    "plt.title('Распределение признака оценочная зарплата')\n",
    "plt.xlabel('оценочная зарплата')\n",
    "plt.ylabel('Частота встречаемости')\n",
    "plt.xlim(0, 317000)\n",
    "plt.ticklabel_format(style='plain', axis='x')\n",
    "plt.grid(True) \n",
    "plt.show()"
   ]
  },
  {
   "cell_type": "markdown",
   "metadata": {},
   "source": [
    "На этом этапе я вижу:\n",
    "- распределение кредитного рейтинга выглядит близким к нормальному, мода в районе значения 900\n",
    "- возраст - бОльшая часть клиентов в возрасте 25-45 лет, мода в районе 35 лет\n",
    "- баланс на счете - бОльшая часть значений находится в пределах суммы на счете в 1,5млн\n",
    "- зарплата - мода в районе 100тыс, бОльшая часть значений лежит в пределах до 300тыс, между 50 и 150тыс\n",
    "- баллы собственности - мода - 0 баллов (около 2500 человек), распределение не выглядит нормальным, с увеличением кол-ва баллов начиная с 2 баллов растет и кол-во клиентов\n",
    "- город - в Ярославле больше всего клиентов - более 6000, в Рыбинске почти 3000, в Ростове более 1000\n",
    "- кол-во банковских продуктов - мода в районе 2 (около 5000)\n",
    "- по полу распределение практически ровно 50 на 50\n",
    "- количество банковских продуктов - большинство значений - это 1 и 2\n",
    "- кредитная карта - более чем у 30 процентов клиентов ее нет, более чем у 60 процентов есть\n",
    "- активность - около 4700 клиентов не были активны в отчетный период, около 5300 - активны, маловато активности получается\n",
    "- отток - около 1800 человек в оттоке, остальные 8200 остались"
   ]
  },
  {
   "cell_type": "markdown",
   "metadata": {},
   "source": [
    "#### Отдельно посмотрю распределение признака баланс "
   ]
  },
  {
   "cell_type": "code",
   "execution_count": 36,
   "metadata": {},
   "outputs": [
    {
     "data": {
      "image/png": "[encoded data removed]",
      "text/plain": [
       "<Figure size 864x144 with 1 Axes>"
      ]
     },
     "metadata": {
      "needs_background": "light"
     },
     "output_type": "display_data"
    }
   ],
   "source": [
    "# Создам фигуры и оси для ящика с усами (горизонтально)\n",
    "plt.figure(figsize=(12, 2))\n",
    "sns.boxplot(data=banks, x='balance', orient='h')\n",
    "plt.title('Горизонтальный ящик с усами для признака balance')\n",
    "plt.xlabel('Баланс на счете')\n",
    "\n",
    "# Отключу экспоненциальную форму оси x\n",
    "plt.ticklabel_format(style='plain', axis='x')\n",
    "\n",
    "plt.show()"
   ]
  },
  {
   "cell_type": "markdown",
   "metadata": {},
   "source": [
    "Выбросы - серьезные. Есть несколько клиентов, у которых более 60 млн на счете. Это мешает посмотреть на основную часть графика"
   ]
  },
  {
   "cell_type": "code",
   "execution_count": 37,
   "metadata": {},
   "outputs": [
    {
     "data": {
      "text/plain": [
       "count        7705.00\n",
       "mean       827794.31\n",
       "std       1980614.15\n",
       "min             0.00\n",
       "25%        295554.16\n",
       "50%        524272.20\n",
       "75%        980705.85\n",
       "max     119113552.01\n",
       "Name: balance, dtype: float64"
      ]
     },
     "execution_count": 37,
     "metadata": {},
     "output_type": "execute_result"
    }
   ],
   "source": [
    "banks['balance'].describe()"
   ]
  },
  {
   "cell_type": "code",
   "execution_count": 38,
   "metadata": {},
   "outputs": [
    {
     "data": {
      "image/png": "[encoded data removed]",
      "text/plain": [
       "<Figure size 864x144 with 1 Axes>"
      ]
     },
     "metadata": {
      "needs_background": "light"
     },
     "output_type": "display_data"
    }
   ],
   "source": [
    "# Создаю фигуру и оси для ящика с усами (горизонтально)\n",
    "plt.figure(figsize=(12, 2))\n",
    "sns.boxplot(data=banks, x='balance', orient='h')\n",
    "plt.title('Горизонтальный ящик с усами для признака balance')\n",
    "plt.xlabel('Баланс на счете')\n",
    "\n",
    "# Отключу экспоненциальную форму оси x\n",
    "plt.ticklabel_format(style='plain', axis='x')\n",
    "\n",
    "# Ограничение оси x\n",
    "plt.xlim(0, 10000000)\n",
    "\n",
    "plt.show()"
   ]
  },
  {
   "cell_type": "code",
   "execution_count": 39,
   "metadata": {},
   "outputs": [],
   "source": [
    "#Посмотрю на перцентили\n",
    "percentiles = [0.01, 0.05, 0.95, 0.99]\n",
    "balance_percentiles = banks['balance'].quantile(percentiles)"
   ]
  },
  {
   "cell_type": "code",
   "execution_count": 40,
   "metadata": {},
   "outputs": [
    {
     "data": {
      "text/plain": [
       "0.01     23267.42\n",
       "0.05    100104.32\n",
       "0.95   2116704.78\n",
       "0.99   4827443.49\n",
       "Name: balance, dtype: float64"
      ]
     },
     "execution_count": 40,
     "metadata": {},
     "output_type": "execute_result"
    }
   ],
   "source": [
    "balance_percentiles"
   ]
  },
  {
   "cell_type": "markdown",
   "metadata": {},
   "source": [
    "- ок, 99 процентов всех клиентов точно имеют на счету не более 5млн. Так картина стала понятнее.\n",
    "- выбросы исключать не буду, иначе это повлияет на точность исследования"
   ]
  },
  {
   "cell_type": "markdown",
   "metadata": {},
   "source": [
    "### Распределение признаков в разрезе оттока"
   ]
  },
  {
   "cell_type": "markdown",
   "metadata": {},
   "source": [
    " #### Смотрю средние значения признаков в двух группах — тех, кто ушел в отток и тех, кто остался (методом groupby())"
   ]
  },
  {
   "cell_type": "code",
   "execution_count": 41,
   "metadata": {},
   "outputs": [],
   "source": [
    "# Использую метод groupby() для разделения данных на две группы по столбцу 'Churn'\n",
    "churn_grouped = banks.groupby('churn')\n",
    "\n",
    "# Считаю средние значения для каждой группы\n",
    "average_values = churn_grouped.mean()\n",
    "\n",
    "# Добавляю значения в дополнительном столбце \"остался\" и \"ушел\"\n",
    "average_values['churn'] = average_values.index.map({0: 'остался', 1: 'ушел'})"
   ]
  },
  {
   "cell_type": "code",
   "execution_count": 42,
   "metadata": {},
   "outputs": [],
   "source": [
    "average_values_t = average_values.T"
   ]
  },
  {
   "cell_type": "code",
   "execution_count": 43,
   "metadata": {},
   "outputs": [
    {
     "data": {
      "text/html": [
       "<div>\n",
       "<style scoped>\n",
       "    .dataframe tbody tr th:only-of-type {\n",
       "        vertical-align: middle;\n",
       "    }\n",
       "\n",
       "    .dataframe tbody tr th {\n",
       "        vertical-align: top;\n",
       "    }\n",
       "\n",
       "    .dataframe thead th {\n",
       "        text-align: right;\n",
       "    }\n",
       "</style>\n",
       "<table border=\"1\" class=\"dataframe\">\n",
       "  <thead>\n",
       "    <tr style=\"text-align: right;\">\n",
       "      <th>churn</th>\n",
       "      <th>0</th>\n",
       "      <th>1</th>\n",
       "    </tr>\n",
       "  </thead>\n",
       "  <tbody>\n",
       "    <tr>\n",
       "      <th>score</th>\n",
       "      <td>845.43</td>\n",
       "      <td>863.35</td>\n",
       "    </tr>\n",
       "    <tr>\n",
       "      <th>age</th>\n",
       "      <td>43.02</td>\n",
       "      <td>41.43</td>\n",
       "    </tr>\n",
       "    <tr>\n",
       "      <th>equity</th>\n",
       "      <td>2.37</td>\n",
       "      <td>3.76</td>\n",
       "    </tr>\n",
       "    <tr>\n",
       "      <th>balance</th>\n",
       "      <td>733982.59</td>\n",
       "      <td>1133993.27</td>\n",
       "    </tr>\n",
       "    <tr>\n",
       "      <th>products</th>\n",
       "      <td>1.76</td>\n",
       "      <td>2.38</td>\n",
       "    </tr>\n",
       "    <tr>\n",
       "      <th>credit_card</th>\n",
       "      <td>0.71</td>\n",
       "      <td>0.55</td>\n",
       "    </tr>\n",
       "    <tr>\n",
       "      <th>last_activity</th>\n",
       "      <td>0.48</td>\n",
       "      <td>0.70</td>\n",
       "    </tr>\n",
       "    <tr>\n",
       "      <th>est_salary</th>\n",
       "      <td>147783.20</td>\n",
       "      <td>148310.73</td>\n",
       "    </tr>\n",
       "    <tr>\n",
       "      <th>balance_missing</th>\n",
       "      <td>0.28</td>\n",
       "      <td>0.01</td>\n",
       "    </tr>\n",
       "    <tr>\n",
       "      <th>age_missing</th>\n",
       "      <td>0.00</td>\n",
       "      <td>0.00</td>\n",
       "    </tr>\n",
       "    <tr>\n",
       "      <th>churn</th>\n",
       "      <td>остался</td>\n",
       "      <td>ушел</td>\n",
       "    </tr>\n",
       "  </tbody>\n",
       "</table>\n",
       "</div>"
      ],
      "text/plain": [
       "churn                   0          1\n",
       "score              845.43     863.35\n",
       "age                 43.02      41.43\n",
       "equity               2.37       3.76\n",
       "balance         733982.59 1133993.27\n",
       "products             1.76       2.38\n",
       "credit_card          0.71       0.55\n",
       "last_activity        0.48       0.70\n",
       "est_salary      147783.20  148310.73\n",
       "balance_missing      0.28       0.01\n",
       "age_missing          0.00       0.00\n",
       "churn             остался       ушел"
      ]
     },
     "execution_count": 43,
     "metadata": {},
     "output_type": "execute_result"
    }
   ],
   "source": [
    "average_values_t"
   ]
  },
  {
   "cell_type": "markdown",
   "metadata": {},
   "source": [
    "Вывод: заметные различия в средних значениях:\n",
    "\n",
    "- у тех, кто ушел, среднее кол-во баллов собственности - 3.8, а у тех, кто остался - заметно меньше - 2.37\n",
    "- денег на балансе в среднем больше у тех, кто ушел (1,1 млн), чем у тех, кто остался (734 тыс)\n",
    "- кол-во банковских продуктов у тех, кто ушел, тоже больше (2.38), чем у тех, кто остался (1.76)\n",
    "- у тех, кто остался, вероятнее есть кредитная карта, чем у тех, кто ушел\n",
    "- те, кто ушли, были более активны, чем те, кто остался\n",
    "- интересно, что пропуски в балансе почти не присутствуют у тех, кто ушел\n",
    "\n",
    "кстати, колонки balance_missing и age_missing мне уже не будут нужны, я их уберу\n",
    "\n",
    "но только по среднему считать неправильно, нужно еще учесть пол, а это категориальное значение, для некоторых признаков нужно посчитать медиану, поэтому это только начало"
   ]
  },
  {
   "cell_type": "code",
   "execution_count": 44,
   "metadata": {},
   "outputs": [],
   "source": [
    "banks = banks.drop(['age_missing', 'balance_missing'], axis=1)"
   ]
  },
  {
   "cell_type": "code",
   "execution_count": 45,
   "metadata": {},
   "outputs": [
    {
     "data": {
      "text/html": [
       "<div>\n",
       "<style scoped>\n",
       "    .dataframe tbody tr th:only-of-type {\n",
       "        vertical-align: middle;\n",
       "    }\n",
       "\n",
       "    .dataframe tbody tr th {\n",
       "        vertical-align: top;\n",
       "    }\n",
       "\n",
       "    .dataframe thead th {\n",
       "        text-align: right;\n",
       "    }\n",
       "</style>\n",
       "<table border=\"1\" class=\"dataframe\">\n",
       "  <thead>\n",
       "    <tr style=\"text-align: right;\">\n",
       "      <th></th>\n",
       "      <th>score</th>\n",
       "      <th>city</th>\n",
       "      <th>gender</th>\n",
       "      <th>age</th>\n",
       "      <th>equity</th>\n",
       "      <th>balance</th>\n",
       "      <th>products</th>\n",
       "      <th>credit_card</th>\n",
       "      <th>last_activity</th>\n",
       "      <th>est_salary</th>\n",
       "      <th>churn</th>\n",
       "    </tr>\n",
       "  </thead>\n",
       "  <tbody>\n",
       "    <tr>\n",
       "      <th>0</th>\n",
       "      <td>850.00</td>\n",
       "      <td>Рыбинск</td>\n",
       "      <td>Ж</td>\n",
       "      <td>25.00</td>\n",
       "      <td>1</td>\n",
       "      <td>59214.82</td>\n",
       "      <td>2</td>\n",
       "      <td>0</td>\n",
       "      <td>1</td>\n",
       "      <td>75719.14</td>\n",
       "      <td>1</td>\n",
       "    </tr>\n",
       "    <tr>\n",
       "      <th>1</th>\n",
       "      <td>861.00</td>\n",
       "      <td>Рыбинск</td>\n",
       "      <td>Ж</td>\n",
       "      <td>37.00</td>\n",
       "      <td>5</td>\n",
       "      <td>850594.33</td>\n",
       "      <td>3</td>\n",
       "      <td>1</td>\n",
       "      <td>0</td>\n",
       "      <td>86621.77</td>\n",
       "      <td>0</td>\n",
       "    </tr>\n",
       "    <tr>\n",
       "      <th>2</th>\n",
       "      <td>892.00</td>\n",
       "      <td>Рыбинск</td>\n",
       "      <td>Ж</td>\n",
       "      <td>30.00</td>\n",
       "      <td>0</td>\n",
       "      <td>NaN</td>\n",
       "      <td>1</td>\n",
       "      <td>1</td>\n",
       "      <td>1</td>\n",
       "      <td>107683.34</td>\n",
       "      <td>0</td>\n",
       "    </tr>\n",
       "  </tbody>\n",
       "</table>\n",
       "</div>"
      ],
      "text/plain": [
       "   score     city gender   age  equity   balance  products  credit_card  \\\n",
       "0 850.00  Рыбинск      Ж 25.00       1  59214.82         2            0   \n",
       "1 861.00  Рыбинск      Ж 37.00       5 850594.33         3            1   \n",
       "2 892.00  Рыбинск      Ж 30.00       0       NaN         1            1   \n",
       "\n",
       "   last_activity  est_salary  churn  \n",
       "0              1    75719.14      1  \n",
       "1              0    86621.77      0  \n",
       "2              1   107683.34      0  "
      ]
     },
     "execution_count": 45,
     "metadata": {},
     "output_type": "execute_result"
    }
   ],
   "source": [
    "banks.head(3) #check"
   ]
  },
  {
   "cell_type": "markdown",
   "metadata": {},
   "source": [
    "#### Строю графики распределения признаков в разрезе оттока"
   ]
  },
  {
   "cell_type": "raw",
   "metadata": {
    "scrolled": false
   },
   "source": [
    "selected_features = [\n",
    " 'score',\n",
    " 'age',\n",
    " 'balance',\n",
    " 'est_salary',\n",
    "]\n",
    "\n",
    "colors = ['#EF761E', 'lightpink']\n",
    "\n",
    "# Создаю фигуру и оси для графиков\n",
    "fig, axes = plt.subplots(nrows=2, ncols=2, figsize=(14, 12))\n",
    "plt.subplots_adjust(wspace=0.3, hspace=0.4)\n",
    "\n",
    "for i, feature in enumerate(selected_features):\n",
    "    row, col = i // 2, i % 2\n",
    "    sns.histplot(data=banks, x=feature, hue='churn', bins=30, multiple='stack', \n",
    "                 palette=colors, ax=axes[row, col])\n",
    "    axes[row, col].set_title(f'Распределение {feature} по оттоку')\n",
    "    axes[row, col].set_xlabel(feature)\n",
    "    axes[row, col].set_ylabel('Count')\n",
    "    axes[row, col].legend(['Ушли', 'Остались'])\n",
    "\n",
    "plt.show()"
   ]
  },
  {
   "cell_type": "code",
   "execution_count": 46,
   "metadata": {
    "scrolled": false
   },
   "outputs": [
    {
     "data": {
      "image/png": "[encoded data removed]",
      "text/plain": [
       "<Figure size 720x1440 with 4 Axes>"
      ]
     },
     "metadata": {
      "needs_background": "light"
     },
     "output_type": "display_data"
    }
   ],
   "source": [
    "selected_features = [\n",
    " 'score',\n",
    " 'age',\n",
    " 'balance',\n",
    " 'est_salary',\n",
    "]\n",
    "\n",
    "x_lims = [None, None, (0, 5*10**6), (0, 5*10**5)]\n",
    "colors = ['lightpink', 'lightblue']\n",
    "\n",
    "fig, axes = plt.subplots(len(selected_features), 1, figsize=(10, 20))\n",
    "\n",
    "for i, feature in enumerate(selected_features):\n",
    "    sns.histplot(data=banks, x=feature, hue='churn', \n",
    "                 palette=colors, stat=\"density\", common_norm=False, ax=axes[i])\n",
    "    axes[i].set_title(f'Распределение {feature} по оттоку')\n",
    "    axes[i].set_xlabel(feature)\n",
    "    axes[i].legend(['Ушли', 'Остались'], loc='upper right')\n",
    "    if x_lims[i]:\n",
    "        axes[i].set_xlim(x_lims[i])\n",
    "\n",
    "plt.show()"
   ]
  },
  {
   "cell_type": "markdown",
   "metadata": {},
   "source": [
    "- наибольшее кол-во тех, кто ушёл, среди тех, у кого кредит рейтинг около 820-920 баллов\n",
    "- по возрасту видим, что наиболее склонны к оттоку клиенты в возрасте в интервалах 25-40 и 50-60 лет\n",
    "- по балансу на счете - больше всего отточных среди тех, у кого баланс около 500тыс, далее плотность отточных снижается,  большая часть отточных - среди тех у кого 300-800тыс\n",
    "- по оценочной зарплате - большинство ушедших среди тех, кто получает около 100тыс, большая часть отточных имеют з/п 50-170тыс"
   ]
  },
  {
   "cell_type": "code",
   "execution_count": 47,
   "metadata": {
    "scrolled": false
   },
   "outputs": [
    {
     "data": {
      "image/png": "[encoded data removed]",
      "text/plain": [
       "<Figure size 936x1080 with 6 Axes>"
      ]
     },
     "metadata": {
      "needs_background": "light"
     },
     "output_type": "display_data"
    }
   ],
   "source": [
    "categorical_features = ['city', 'gender', 'equity', 'products', 'credit_card', 'last_activity']\n",
    "colors = ['lightpink', '#EF761E']\n",
    "\n",
    "# Считаю кол-во строк и столбцов для subplots\n",
    "num_rows = len(categorical_features) // 2 + len(categorical_features) % 2\n",
    "num_cols = 2\n",
    "\n",
    "# Создаю фигуру и графики\n",
    "fig, axes = plt.subplots(num_rows, num_cols, figsize=(13, 15))\n",
    "fig.subplots_adjust(hspace=0.3)\n",
    "\n",
    "# Вычисляем среднее значение оттока по всему банку\n",
    "average_churn_rate = banks['churn'].mean() * 100  # Умножаем на 100, чтобы преобразовать в проценты\n",
    "\n",
    "for idx, feature in enumerate(categorical_features):\n",
    "    row_idx = idx // num_cols\n",
    "    col_idx = idx % num_cols\n",
    "    ax = axes[row_idx, col_idx]\n",
    "    \n",
    "    # Считаю процентное соотношение для каждой категории\n",
    "    data_percent = banks.groupby(feature)['churn'].value_counts(normalize=True).mul(100).rename('percent').reset_index()\n",
    "    data2 = data_percent[data_percent['churn'] == 1]\n",
    "    data2 = data2.replace({'churn': {1: 'отток'}})\n",
    "    data2['percent'] = round(data2['percent'], 2)\n",
    "\n",
    "    \n",
    "    sns.barplot(x=feature, y='percent', hue='churn', data=data2, palette=colors, ax=ax)\n",
    "    ax.set_title(f'Распределение признака {feature} по оттоку в процентах')\n",
    "    ax.set_xlabel(feature)\n",
    "    ax.set_ylabel('Процент клиентов')\n",
    "    ax.set_ylim(0, 100)\n",
    "    \n",
    "    # Добавляю горизонтальную линию для среднего значения оттока и сетку\n",
    "    ax.axhline(average_churn_rate, color='red', linestyle='--', label=f'средн.отток:{average_churn_rate:.1f}%')\n",
    "    \n",
    "    \n",
    "    ax.legend()\n",
    "   # Добавляю численное значение над столбцами\n",
    "    for p in ax.patches:\n",
    "        ax.annotate(f'{p.get_height()}', (p.get_x() + p.get_width() / 2, p.get_height()), \n",
    "                    ha='center', va='center', fontsize=6, color='black', xytext=(0, 5), \n",
    "                    textcoords='offset points')\n",
    "    \n",
    "# Удаляю пустые subplots, если есть\n",
    "for idx in range(len(categorical_features), num_rows * num_cols):\n",
    "    row_idx = idx // num_cols\n",
    "    col_idx = idx % num_cols\n",
    "    fig.delaxes(axes[row_idx][col_idx])\n",
    "\n",
    "\n",
    "    plt.show()"
   ]
  },
  {
   "cell_type": "markdown",
   "metadata": {},
   "source": [
    "<b>Распределение в разрезе оттока относительно среднего уровня оттока по банку:</b>\n",
    "- распределение уровня оттока по городам примерно одинаковое, в пределах среднего уровня оттока\n",
    "- по полу - среди женщин уровень оттока существенно ниже уровня оттока по банку, среди мужчин - существенно выше\n",
    "- по кол-ву баллов недвижимости - четко видно, что чем больше баллов собственности, тем выше процент оттока. Процент оттока выше среднего уровня оттока по банку - среди клиентов с 3-9 баллами собственности. Но здесь нужно учитывать, что с увеличением кол-ва баллов собственности падает кол-во клиентов, поэтому например 9 баллов собственности всего у 13 клиентов, из них 7 ушли, а 6 остались = больше ушли, чем остались, но в численном выражении это небольшое кол-во клиентов. Однако они могут быть очень ценными, поэтому важно обратить внимание на связь оттока с кол-вом баллов собственности\n",
    "- по кол-ву продуктов - только у тех, у кого 1 продукт, процент оттока ниже среднего по банку, у остальных - выше = надо повышать качество продуктов, тем самым удерживать клиентов\n",
    "- по наличию кредитки - у кого кредитки нет, тот более склонен к оттоку - процент оттока выше среднего по банку. Процент оттока у тех, у кого кредитка есть - ниже среднего по банку\n",
    "- по активности - уровень оттока активных выше, чем уровень оттока неактивных. кажется, люди пользуются продуктами и им что-то не нравится.\n",
    "\n",
    "\n",
    "<b>Распределение в целом:</b>\n",
    "- по городам - больше всего ушедших - из Ярославля, ну и не удивительно, ведь оттуда клиентов в принципе больше всего\n",
    "- в целом распределение по городам по признаку ушел/остался - более-менее пропорциональное 1/5\n",
    "- по полу - среди клиентов больше женщин примерно на 14% (4358 женщин против 3822 мужчин), а вот отточных мужчин сильно больше, чем женщин (1183 мужчины против 687 женщин, на 72% процента больше, чем женщин) = вывод - мужчины более склонны к оттоку \n",
    "- по кол-ву баллов собственности - больше всего оставшихся имеют 0,3,4,5 баллов, больше всего ушедших имеют 5,4,3 балла собственности\n",
    "- по кол-ву банковских продуктов - больше всего оставшихся имеют 1,2 банковских продукта, больше всего тех, кто остался имеют 2 или 4 банковских продукта, причем среди тех, у кого 4 продукта ушедших явно больше, чем оставшихся (174 осталось и 300 ушло - солидная разница!)\n",
    "- наличие кредитки - отточных среди тех, у кого кредитки нет - более чем в 2 раза больше, чем среди тех, у кого кредитка есть = есть основания предположить, что если есть карта, вероятность оттока будет сильно меньше\n",
    "- активность отточных среди тех, был активен - в >2 раза больше, чем среди тех, активен не был = есть основания предположить, что если клиент активен, вероятность оттока будет сильно больше"
   ]
  },
  {
   "cell_type": "markdown",
   "metadata": {},
   "source": [
    "### Анализ корреляции между признаками"
   ]
  },
  {
   "cell_type": "raw",
   "metadata": {
    "scrolled": false
   },
   "source": [
    "# Указываю список непрерывных признаков\n",
    "continuous = ['score', 'age', 'balance', 'est_salary']\n",
    "\n",
    "# Вычисляю корреляцию с использованием phik\n",
    "correlation_matrix = banks.phik_matrix(interval_cols=continuous)\n",
    "\n",
    "# Создаю тепловую карту\n",
    "plt.figure(figsize=(7, 5))\n",
    "sns.heatmap(correlation_matrix, cmap='coolwarm', center=0, annot=True, fmt=\".2f\")\n",
    "plt.title('Матрица корреляции с использованием phik')\n",
    "plt.show()"
   ]
  },
  {
   "cell_type": "markdown",
   "metadata": {},
   "source": [
    "- есть умеренная корреляция между оттоком и кол-вом баллов собственности (0.35)\n",
    "- есть умеренная корреляция между оттоком и кол-вом банковских продуктов (0.44)\n",
    "\n",
    "- есть слабая корреляция между оттоком и кредитным рейтингом, полом, возрастом, наличием кредитной карты, активностью "
   ]
  },
  {
   "cell_type": "code",
   "execution_count": 48,
   "metadata": {},
   "outputs": [
    {
     "data": {
      "image/png": "[encoded data removed]",
      "text/plain": [
       "<Figure size 720x576 with 2 Axes>"
      ]
     },
     "metadata": {
      "needs_background": "light"
     },
     "output_type": "display_data"
    },
    {
     "data": {
      "image/png": "[encoded data removed]",
      "text/plain": [
       "<Figure size 432x288 with 1 Axes>"
      ]
     },
     "metadata": {
      "needs_background": "light"
     },
     "output_type": "display_data"
    },
    {
     "name": "stdout",
     "output_type": "stream",
     "text": [
      "Корреляция и интерпретация связи с 'churn':\n",
      "               churn Интерпретация\n",
      "equity          0.35     Умеренная\n",
      "last_activity   0.26        Слабая\n",
      "products        0.26        Слабая\n",
      "score           0.23        Слабая\n",
      "gender          0.22        Слабая\n",
      "credit_card     0.20        Слабая\n",
      "age             0.19        Слабая\n",
      "est_salary      0.05  Очень слабая\n",
      "balance         0.02  Очень слабая\n",
      "city            0.02  Очень слабая\n"
     ]
    }
   ],
   "source": [
    "# Указываю список непрерывных признаков\n",
    "continuous = ['score', 'age', 'balance', 'est_salary']\n",
    "\n",
    "# Вычисляю корреляцию с использованием phik\n",
    "correlation_matrix = phik_matrix(banks, interval_cols=continuous)\n",
    "\n",
    "# Создаю тепловую карту для всей матрицы корреляции\n",
    "plt.figure(figsize=(10, 8))\n",
    "sns.heatmap(correlation_matrix, cmap='coolwarm', center=0, annot=True, fmt=\".2f\")\n",
    "plt.title('Матрица корреляции с использованием phik')\n",
    "plt.show()\n",
    "\n",
    "# Удаляю корреляцию 'churn' с самим собой и сортирую по убыванию\n",
    "correlation_without_self = correlation_matrix['churn'].drop('churn').sort_values(ascending=False)\n",
    "\n",
    "# Создаю объект ScalarMappable с использованием нормализованных значений и палитры coolwarm\n",
    "norm = Normalize(vmin=min(correlation_without_self), vmax=max(correlation_without_self))\n",
    "mappable = ScalarMappable(norm=norm, cmap='coolwarm')\n",
    "\n",
    "# Визуализирую отсортированную по убыванию корреляцию без 'churn' с самим собой\n",
    "plt.figure(figsize=(6, 4))\n",
    "bar_colors = [mappable.to_rgba(x) for x in correlation_without_self.values]\n",
    "sns.barplot(x=correlation_without_self.index, y=correlation_without_self.values, palette=bar_colors)\n",
    "plt.title('Корреляция признака оттока с другими признаками')\n",
    "plt.xticks(rotation=45)\n",
    "plt.xlabel('Признаки')\n",
    "plt.ylabel('Корреляция с оттоком')\n",
    "plt.show()\n",
    "\n",
    "# Функция для интерпретации значения корреляции\n",
    "def interpret_correlation(value):\n",
    "    if 0 <= value < 0.1:\n",
    "        return 'Очень слабая'\n",
    "    elif 0.1 <= value < 0.3:\n",
    "        return 'Слабая'\n",
    "    elif 0.3 <= value < 0.5:\n",
    "        return 'Умеренная'\n",
    "    elif 0.5 <= value < 0.7:\n",
    "        return 'Заметная'\n",
    "    elif 0.7 <= value < 0.9:\n",
    "        return 'Высокая'\n",
    "    elif 0.9 <= value <= 1:\n",
    "        return 'Очень высокая'\n",
    "    else:\n",
    "        return 'Не определено'\n",
    "\n",
    "# Новый DataFrame для интерпретации корреляции с 'churn'\n",
    "correlation_interpretation = pd.DataFrame(correlation_without_self, columns=['churn'])\n",
    "correlation_interpretation['Интерпретация'] = correlation_interpretation['churn'].apply(interpret_correlation)\n",
    "\n",
    "print(\"Корреляция и интерпретация связи с 'churn':\")\n",
    "print(correlation_interpretation)\n"
   ]
  },
  {
   "cell_type": "markdown",
   "metadata": {},
   "source": [
    "Вывод скорректированный (дублирую, т к выводу теперь тут быть логичнее, тот что выше, потом уберу):\n",
    "\n",
    "- есть умеренная корреляция между оттоком и кол-вом баллов собственности (0.35)\n",
    "- есть умеренная корреляция между оттоком и кол-вом банковских продуктов (0.26) и активностью (0.26)\n",
    "- есть слабая корреляция между оттоком и кредитным рейтингом, полом, возрастом, наличием кредитной карты"
   ]
  },
  {
   "cell_type": "markdown",
   "metadata": {},
   "source": [
    "### Портрет клиента"
   ]
  },
  {
   "cell_type": "code",
   "execution_count": 49,
   "metadata": {},
   "outputs": [],
   "source": [
    "# Группирую данные по столбцу 'churn' и считаю статистики \n",
    "portrait = banks.groupby('churn').agg({\n",
    "    'score': ['mean', 'median'],\n",
    "    'balance': ['mean', 'median'],\n",
    "    'city': [('mode', lambda x: x.mode()[0] if not x.mode().empty else None)], \n",
    "    'gender': [('mode', lambda x: x.mode()[0] if not x.mode().empty else None)], \n",
    "    'equity': 'mean',\n",
    "    'products': 'mean',\n",
    "    'est_salary': 'mean',\n",
    "    'age': 'median'\n",
    "})\n",
    "\n",
    "# Переименую столбцы\n",
    "portrait.columns = ['_'.join(col).strip() if col[1] else col[0] for col in portrait.columns.values]\n",
    "\n",
    "# Выберу нужные столбцы\n",
    "columns_of_interest = ['score_mean', 'equity_mean', 'balance_mean', \n",
    "                       'est_salary_mean', 'products_mean']\n",
    "\n",
    "# Считаю относительную разницу\n",
    "relative_difference = (portrait.loc[1, columns_of_interest] - \n",
    "                       portrait.loc[0, columns_of_interest]) / portrait.loc[0, columns_of_interest] * 100\n",
    "\n",
    "# Добавляю строки с относительной разницей\n",
    "portrait.loc['относительная разница, %'] = relative_difference\n",
    "\n",
    "# Меняю '0' и '1' на 'остался' и 'ушёл'\n",
    "portrait.rename(index={0: \"остался\", 1: \"ушёл\", 2: \"Относительная разница\"}, inplace=True)\n",
    "\n",
    "# Транспонирую DataFrame\n",
    "portrait_t = portrait.T\n",
    "\n",
    "# Замена NaN на \"--\"\n",
    "portrait_t.fillna(\"--\", inplace=True)\n",
    "\n",
    "# Удаление имени индекса столбцов (там было churn))\n",
    "portrait_t.columns.name = None"
   ]
  },
  {
   "cell_type": "code",
   "execution_count": 50,
   "metadata": {},
   "outputs": [
    {
     "data": {
      "text/html": [
       "<div>\n",
       "<style scoped>\n",
       "    .dataframe tbody tr th:only-of-type {\n",
       "        vertical-align: middle;\n",
       "    }\n",
       "\n",
       "    .dataframe tbody tr th {\n",
       "        vertical-align: top;\n",
       "    }\n",
       "\n",
       "    .dataframe thead th {\n",
       "        text-align: right;\n",
       "    }\n",
       "</style>\n",
       "<table border=\"1\" class=\"dataframe\">\n",
       "  <thead>\n",
       "    <tr style=\"text-align: right;\">\n",
       "      <th></th>\n",
       "      <th>остался</th>\n",
       "      <th>ушёл</th>\n",
       "      <th>относительная разница, %</th>\n",
       "    </tr>\n",
       "  </thead>\n",
       "  <tbody>\n",
       "    <tr>\n",
       "      <th>score_mean</th>\n",
       "      <td>845.43</td>\n",
       "      <td>863.35</td>\n",
       "      <td>2.12</td>\n",
       "    </tr>\n",
       "    <tr>\n",
       "      <th>score_median</th>\n",
       "      <td>848.00</td>\n",
       "      <td>866.00</td>\n",
       "      <td>--</td>\n",
       "    </tr>\n",
       "    <tr>\n",
       "      <th>balance_mean</th>\n",
       "      <td>733982.59</td>\n",
       "      <td>1133993.27</td>\n",
       "      <td>54.50</td>\n",
       "    </tr>\n",
       "    <tr>\n",
       "      <th>balance_median</th>\n",
       "      <td>475382.45</td>\n",
       "      <td>782410.47</td>\n",
       "      <td>--</td>\n",
       "    </tr>\n",
       "    <tr>\n",
       "      <th>city_mode</th>\n",
       "      <td>Ярославль</td>\n",
       "      <td>Ярославль</td>\n",
       "      <td>--</td>\n",
       "    </tr>\n",
       "    <tr>\n",
       "      <th>gender_mode</th>\n",
       "      <td>Ж</td>\n",
       "      <td>М</td>\n",
       "      <td>--</td>\n",
       "    </tr>\n",
       "    <tr>\n",
       "      <th>equity_mean</th>\n",
       "      <td>2.37</td>\n",
       "      <td>3.76</td>\n",
       "      <td>58.50</td>\n",
       "    </tr>\n",
       "    <tr>\n",
       "      <th>products_mean</th>\n",
       "      <td>1.76</td>\n",
       "      <td>2.38</td>\n",
       "      <td>35.25</td>\n",
       "    </tr>\n",
       "    <tr>\n",
       "      <th>est_salary_mean</th>\n",
       "      <td>147783.20</td>\n",
       "      <td>148310.73</td>\n",
       "      <td>0.36</td>\n",
       "    </tr>\n",
       "    <tr>\n",
       "      <th>age_median</th>\n",
       "      <td>40.00</td>\n",
       "      <td>39.00</td>\n",
       "      <td>--</td>\n",
       "    </tr>\n",
       "  </tbody>\n",
       "</table>\n",
       "</div>"
      ],
      "text/plain": [
       "                   остался       ушёл относительная разница, %\n",
       "score_mean          845.43     863.35                     2.12\n",
       "score_median        848.00     866.00                       --\n",
       "balance_mean     733982.59 1133993.27                    54.50\n",
       "balance_median   475382.45  782410.47                       --\n",
       "city_mode        Ярославль  Ярославль                       --\n",
       "gender_mode              Ж          М                       --\n",
       "equity_mean           2.37       3.76                    58.50\n",
       "products_mean         1.76       2.38                    35.25\n",
       "est_salary_mean  147783.20  148310.73                     0.36\n",
       "age_median           40.00      39.00                       --"
      ]
     },
     "execution_count": 50,
     "metadata": {},
     "output_type": "execute_result"
    }
   ],
   "source": [
    "portrait_t"
   ]
  },
  {
   "cell_type": "markdown",
   "metadata": {},
   "source": [
    "Среди тех кто ушёл и остался:\n",
    "    \n",
    "- денег на счете у тех, кто ушел, больше (в 1,5 раза), чем у тех, кто остался\n",
    "- мужчин среди тех, кто ушел, почти в 1,5 раза больше, чем женщин\n",
    "- кол-во баллов собственности у тех, кто ушел, сильно больше (на 58%), чем у тех, кто остался\n",
    "- среднее кол-во продуктов у тех, кто ушел, больше (на 35%), чем у тех, кто остался\n",
    "\n",
    "По другим признакам нет большой разницы между теми кто ушел и остался"
   ]
  },
  {
   "cell_type": "markdown",
   "metadata": {},
   "source": [
    "Вывод по портретам клиентов из таблицы и графиков:\n",
    "\n",
    "\n",
    "Тот, кто остался:\n",
    "- имеет 760-940 баллов кредитного рейтинга\n",
    "- проживает в любом из трех городов\n",
    "- возраст 25-45 лет\n",
    "- имеет 0 (преимущественно) или 3,4,5 баллов недвижимости\n",
    "- имеет зарплату 100-200 тыс\n",
    "- скорее женщина (мужчины в 2 раза более склонны к оттоку, чем женщины)\n",
    "- имеет 1-2 банковских продукта\n",
    "- имеет кредитную карту\n",
    "- остаток на счете 0-15млн\n",
    "- может быть или не быть активным\n",
    "\n",
    "\n",
    "Тот, кто ушел:\n",
    "- имеет 820-920 баллов кредитного рейтинга \n",
    "- проживает в любом из трех городов\n",
    "- возраст 25-40 и 5-60 лет\n",
    "- имеет 3,4 или 5 баллов недвижимости\n",
    "- имеет зарплату в промежутке 50-170тыс\n",
    "- скорее мужчина - (мужчины в 2 раза более склонны к оттоку, чем женщины)\n",
    "- скорее всего имеет 2 банковских продукта, если брать шире - то 2-5 продуктов\n",
    "- не имеет кредитную карту\n",
    "- остаток на счете чаще всего 300-800тыс \n",
    "- скорее, был активен, чем нет = активные более склонны к оттоку\n",
    "\n"
   ]
  },
  {
   "cell_type": "markdown",
   "metadata": {},
   "source": [
    "### Промежуточный вывод по итогам EDA"
   ]
  },
  {
   "cell_type": "markdown",
   "metadata": {},
   "source": [
    "- посмотрела распределение признаков в целом (без деления на тех что ушли в отток и остались) - с помощью гистограмм, нормированных гистограмм, столбчатых диаграмм и ящиков с усами\n",
    "- посмотрела распределения признаков в разрезе оттока относительно среднего значения оттока по банку (для непрерывных нашла отточные интервалы, категориальных/дискретных - конкретные значения). Выяснила это с помощью гистограмм, столбчатых диаграмм, нормированных гистограмм\n",
    "- сделала в виде таблицы анализ портретов клиентов в разрезе оттока. В главном столбце - факт оттока. По каждому признаку посчитала подходящие и нужные для целей работы меры центральной тенденции в зависимости от типа признака\n",
    "- сделала корреляционный анализ с помощью матрицы Phik и интерпретировала его результаты\n",
    "\n",
    "Этот этап помог глубоко изучить данные и найти определенные взаимосвязи между признаками, а также выявить конкретные значения и интервалы, показатели, при которых можно предположить, что клиент будет склонен к оттоку => в результате сформулировать еще одну гипотезу + собрать массив идей для удачного формирования сегментов"
   ]
  },
  {
   "cell_type": "markdown",
   "metadata": {},
   "source": [
    "## Проверка гипотез"
   ]
  },
  {
   "cell_type": "markdown",
   "metadata": {},
   "source": [
    "### Гипотеза о различии дохода между теми клиентами, которые ушли и теми, которые остались"
   ]
  },
  {
   "cell_type": "markdown",
   "metadata": {},
   "source": [
    "Формулирую гипотезу: \n",
    "\n",
    "- Нулевая гипотеза: доход между теми, кто ушёл и теми, кто остался, НЕ отличается, статистически значимых различий в доходе НЕТ\n",
    "- Альтернативная гипотеза: доход между теми, кто ушёл и теми, кто остался, отличается в положительную или отрицательную сторону, имеются статистически значимые отличия \n",
    "\n",
    "В моих выборках есть выбросы, t-test не подходит, поэтому буду использовать тест Манна-Уитни:\n",
    "- подходит, если распределение данных не является нормальным, \n",
    "- подходит для сравнения выборок разного размера, \n",
    "- устойчив к выбросам и непропорциональным эффектам в данных\n",
    "- тест позволяет тестировать гипотезу о том, что одна выборка имеет тенденцию иметь более высокие или более низкие значения, чем другая, без указания направления = двустороннюю\n",
    "\n",
    "Я вычислю значение t-статистики и p-value. Если p-value будет меньше выбранного мной уровня значимости (alpha=.05), то я смогу отвергнуть нулевую гипотезу и сделать вывод о статистически значимом различии между средним доходом для тех, кто ушел в отток и тех, кто остался."
   ]
  },
  {
   "cell_type": "code",
   "execution_count": 51,
   "metadata": {},
   "outputs": [],
   "source": [
    "# Создаю две выборки: одна для оттока, другая для оставшихся клиентов\n",
    "churn_est_salary = banks[banks['churn'] == 1]['est_salary']\n",
    "not_churn_est_salary = banks[banks['churn'] == 0]['est_salary']"
   ]
  },
  {
   "cell_type": "code",
   "execution_count": 52,
   "metadata": {},
   "outputs": [
    {
     "name": "stdout",
     "output_type": "stream",
     "text": [
      "p-value: 0.00021160652203623057\n",
      "Отклоняем нулевую гипотезу: различия в доходе среди ушедших \n",
      "и оставшихся клиентов являются статистически значимыми\n"
     ]
    }
   ],
   "source": [
    "# Провожу тест Манна-Уитни для дохода\n",
    "u_statistic, p_value = st.mannwhitneyu(not_churn_est_salary, \n",
    "                                       churn_est_salary, \n",
    "                                       alternative='two-sided')\n",
    "alpha = 0.05\n",
    "\n",
    "# Оцениваю результаты\n",
    "print(\"p-value:\", p_value)\n",
    "\n",
    "if p_value < alpha:\n",
    "    print('''Отклоняем нулевую гипотезу: различия в доходе среди ушедших \n",
    "и оставшихся клиентов являются статистически значимыми''')\n",
    "else:\n",
    "    print('''Не отклоняем нулевую гипотезу: различия в доходе среди ушедших \n",
    "и оставшихся клиентов не являются статистически значимыми''')\n"
   ]
  },
  {
   "cell_type": "markdown",
   "metadata": {},
   "source": [
    "Вывод: статистически значимые различия между доходом тех, кто ушел и остался - есть = можно сказать, что их зарплата различается!"
   ]
  },
  {
   "cell_type": "markdown",
   "metadata": {},
   "source": [
    "### Гипотеза о том, влияет ли кол-во недвижимости на склонность к оттоку"
   ]
  },
  {
   "cell_type": "markdown",
   "metadata": {},
   "source": [
    "Формулирую гипотезу:\n",
    "\n",
    "- Нулевая гипотеза: кол-во баллов недвижимости у оставшихся клиентов такое же, как у тех, кто ушел\n",
    "- Альтернативная гипотеза: кол-во баллов недвижимости у оставшихся клиентов и у тех, кто ушел отличается в положительную или отрицательную сторону\n",
    "\n",
    "\n",
    "Для проверки этой гипотезы использую t-тест, препятствий для его использования нет, помимо прочего выбросов в данных нет. т-тест нужен для сравнения средних значений двух выборок и поможет определить, есть ли статистически значимая разница между ними. Т к у меня есть две выборки (те, кто ушли в отток и те, кто остались), t-тест поможет оценить, насколько вероятно, что разница в кол-ве недвижимости случайна или она статистически значима.\n",
    "\n",
    "Я вычислю значение t-статистики и p-value. Если p-value будет меньше выбранного мной уровня значимости (alpha=.05), то я смогу отвергнуть нулевую гипотезу и сделать вывод о статистически значимом различии между средним кол-вом недвижимости для тех, кто ушел в отток, и тех, кто остался."
   ]
  },
  {
   "cell_type": "code",
   "execution_count": 53,
   "metadata": {},
   "outputs": [
    {
     "name": "stdout",
     "output_type": "stream",
     "text": [
      "Отклоняем нулевую гипотезу: средние значения количества баллов недвижимости \n",
      "    различаются среди оставшихся и ушедших клиентов\n"
     ]
    }
   ],
   "source": [
    "# Создам две выборки: одна для оставшихся клиентов, другая для ушедших в отток\n",
    "stay_equity = banks[banks['churn'] == 0]['equity']\n",
    "churn_equity = banks[banks['churn'] == 1]['equity']\n",
    "\n",
    "alpha = 0.05  # Уровень значимости\n",
    "\n",
    "# Проведу t-тест\n",
    "t_statistic, p_value = st.ttest_ind(stay_equity, churn_equity, equal_var=False)  # Указываем equal_var=False\n",
    "\n",
    "# Оцениваю результаты\n",
    "if p_value < alpha:\n",
    "    print('''Отклоняем нулевую гипотезу: средние значения количества баллов недвижимости \n",
    "    различаются среди оставшихся и ушедших клиентов''')\n",
    "else:\n",
    "    print('''Не отклоняем нулевую гипотезу: средние значения количества баллов недвижимости \n",
    "    не различаются среди оставшихся и ушедших клиентов''')\n"
   ]
  },
  {
   "cell_type": "markdown",
   "metadata": {},
   "source": [
    "Вывод: кол-во баллов недвижимости влияет на склонность к оттоку"
   ]
  },
  {
   "cell_type": "markdown",
   "metadata": {},
   "source": [
    "### Выводы по гипотезам"
   ]
  },
  {
   "cell_type": "markdown",
   "metadata": {},
   "source": [
    "Проверив две гипотезы, я могу устверждать, что:\n",
    "- уровень зарплаты и количество баллов собственности влияют на отток "
   ]
  },
  {
   "cell_type": "markdown",
   "metadata": {},
   "source": [
    "## Промежуточные выводы"
   ]
  },
  {
   "cell_type": "markdown",
   "metadata": {},
   "source": [
    "По итогам EDA, корреляц анализа, проверки гипотез, вижу следующее:\n",
    "- средний возраст всех клиентов 42 года, отточные в возрасте 25-40 лет или 50-60 лет\n",
    "- кредитка есть у 68% клиентов\n",
    "- 52% клиентов были активны в отчетный период\n",
    "- уровень оттока по банку около 18%\n",
    "- бОльшая часть клиентов в возрасте 25-45 лет, мода в районе 35 лет\n",
    "- в Ярославле больше всего клиентов - более 6000, оттуда и ушедших в фактическом выражении (но не в процентном соотношении) ушедших больше всего\n",
    "- 99 процентов всех клиентов имеют на счету не более 5млн\n",
    "\n",
    "я могу выделить признаки, которые так или иначе связаны с оттоком. Это:\n",
    "- <b>деньги на балансе</b>. в среднем их больше у тех, кто ушел (1,1 млн), чем у тех, кто остался (734 тыс)\n",
    "- <b>кол-во банковских продуктов</b>. У тех, кто ушел, продуктов больше (2.38), чем у тех, кто остался (1.76).только у тех, у кого 1 продукт, процент оттока ниже среднего по банку, у остальных - выше = надо повышать качество продуктов, тем самым удерживать клиентов\n",
    "- <b>наличие кредитки</b>. у тех, кто остался, вероятнее есть кредитная карта, чем у тех, кто ушел. у кого кредитки нет, тот более склонен к оттоку - процент оттока выше среднего по банку. Процент оттока у тех, у кого кредитка есть - ниже среднего по банку\n",
    "- <b>активность</b>. те, кто ушли, были более активны, чем те, кто остался. уровень оттока активных выше, чем уровень оттока неактивных. кажется, люди пользуются продуктами и им что-то не нравится.\n",
    "- <b>пол</b> - среди клиентов больше женщин примерно на 14% (4358 женщин против 3822 мужчин), а вот отточных мужчин сильно больше, чем женщин (1183 мужчины против 687 женщин, на 72% процента больше, чем женщин). среди женщин уровень оттока существенно ниже уровня оттока по банку, среди мужчин - существенно выше\n",
    "- <b>кол-во баллов собственности</b>. больше всего оставшихся имеют 0,3,4,5 баллов, больше всего ушедших имеют 5,4,3 балла собственности. чем больше баллов собственности, тем выше процент оттока. среднее кол-во баллов собственности - 3.8, а у тех, кто остался - заметно меньше - 2.37\n",
    "- <b>кредитный рейтинг</b>. уровень корреляции слабый, но он есть (0,23)\n",
    "- <b>возраст</b>. уровень корреляции слабый, но он есть (0,19)\n",
    "- <b>уровень зарплаты</b> также влияет на отток\n",
    "\n",
    "\n",
    "Этот этап помог глубоко изучить данные и найти определенные взаимосвязи между признаками, а также выявить конкретные значения и интервалы, показатели, при которых можно предположить, что клиент будет склонен к оттоку => собрать массив идей для удачного формирования сегментов"
   ]
  },
  {
   "cell_type": "markdown",
   "metadata": {},
   "source": [
    "## Сегментация "
   ]
  },
  {
   "cell_type": "markdown",
   "metadata": {},
   "source": [
    "На основе исследовательского анализа я выявила те значения признаков, которые дали мне идеи для сегментации клиентов"
   ]
  },
  {
   "cell_type": "markdown",
   "metadata": {},
   "source": [
    "### Сегмент 1. Женщины 25-45 без кредитки"
   ]
  },
  {
   "cell_type": "code",
   "execution_count": 54,
   "metadata": {},
   "outputs": [
    {
     "name": "stdout",
     "output_type": "stream",
     "text": [
      "Всего клиентов в сегменте: 509\n",
      "Количество ушедших клиентов: 125\n",
      "Количество оставшихся клиентов: 384\n",
      "Процент оттока в сегменте: 24.557956777996072\n"
     ]
    }
   ],
   "source": [
    "# Создам подвыборку клиентов, удовлетворяющих условиям\n",
    "filtered_women = banks[\n",
    "    (banks['gender'] == 'Ж') &\n",
    "    (banks['est_salary'] >= 80000) &\n",
    "    (banks['est_salary'] <= 220000) &\n",
    "    (banks['credit_card'] == 0) &\n",
    "    (banks['products'] >= 2) &\n",
    "    (banks['products'] <= 3) &\n",
    "    (banks['age'] >= 25) &\n",
    "    (banks['age'] <= 45) &\n",
    "    (banks['balance'] < 5000000)\n",
    "]\n",
    "\n",
    "# Считаю общее кол-во женщин, которые подходят по условию \n",
    "total_women = len(filtered_women)\n",
    "\n",
    "# Считаю кол-во женщин, которые ушли\n",
    "churned_women = len(filtered_women[filtered_women['churn'] == 1])\n",
    "\n",
    "# Считаю кол-во женщин, которые остались\n",
    "retained_women = len(filtered_women[filtered_women['churn'] == 0])\n",
    "\n",
    "# Считаю процент оттока\n",
    "churn_percentage_women = (churned_women / total_women) * 100\n",
    "\n",
    "print(\"Всего клиентов в сегменте:\", total_women)\n",
    "print(\"Количество ушедших клиентов:\", churned_women)\n",
    "print(\"Количество оставшихся клиентов:\", retained_women)\n",
    "print(\"Процент оттока в сегменте:\", churn_percentage_women)"
   ]
  },
  {
   "cell_type": "markdown",
   "metadata": {},
   "source": [
    "- пол - Ж\n",
    "- возраст 25-45\n",
    "- зарплата 60-200тыс\n",
    "- кредитки нет\n",
    "- кол-во банковских продуктов - 2 или 3\n",
    "- на балансе менее 5млн\n",
    "\n",
    "Получается это женщины в активном возрасте, когда многие работают, и они работают, доход не менее 80к, на пике сил. Кредитками они не пользуются, но пользуются другими продуктами банка, супермного денег на счете пока не накопили \n"
   ]
  },
  {
   "cell_type": "markdown",
   "metadata": {},
   "source": [
    "### Сегмент 2. Мужчины 25-45 без кредитки"
   ]
  },
  {
   "cell_type": "code",
   "execution_count": 55,
   "metadata": {},
   "outputs": [
    {
     "name": "stdout",
     "output_type": "stream",
     "text": [
      "Всего клиентов в сегменте: 508\n",
      "Количество ушедших клиентов: 236\n",
      "Количество оставшихся клиентов: 272\n",
      "Процент оттока в сегменте: 46.45669291338583\n"
     ]
    }
   ],
   "source": [
    "# Создам подвыборку клиентов, удовлетворяющих условиям\n",
    "filtered_men = banks[\n",
    "    (banks['gender'] == 'М') &\n",
    "    (banks['est_salary'] >= 75000) &\n",
    "    (banks['est_salary'] <= 350000) &\n",
    "    (banks['credit_card'] == 0) &\n",
    "    (banks['products'] >= 2) &\n",
    "    (banks['products'] <= 4) &\n",
    "    (banks['age'] >= 25) &\n",
    "    (banks['age'] <= 45) &\n",
    "    (banks['balance'] < 10000000)\n",
    "]\n",
    "\n",
    "# Считаю общее кол-во мужчин, которые подходят по условию \n",
    "total_men = len(filtered_men)\n",
    "\n",
    "# Считаю кол-во женщин, которые ушли\n",
    "churned_men = len(filtered_men[filtered_men['churn'] == 1])\n",
    "\n",
    "# Считаю кол-во женщин, которые остались\n",
    "retained_men = len(filtered_men[filtered_men['churn'] == 0])\n",
    "\n",
    "# Считаю процент оттока\n",
    "churn_percentage_men = (churned_men / total_men) * 100\n",
    "\n",
    "print(\"Всего клиентов в сегменте:\", total_men)\n",
    "print(\"Количество ушедших клиентов:\", churned_men)\n",
    "print(\"Количество оставшихся клиентов:\", retained_men)\n",
    "print(\"Процент оттока в сегменте:\", churn_percentage_men)"
   ]
  },
  {
   "cell_type": "markdown",
   "metadata": {},
   "source": [
    "- пол М\n",
    "- возраст 25-45\n",
    "- з/п 90-500к\n",
    "- кредитки нет\n",
    "- на счете не более 10млн\n",
    "- кол-во банковских продуктов - 2-4\n",
    "\n",
    "Получается это молодые мужчины в активном возрасте, и они работают, доход не менее 75к и выше - до 350к. Кредитками они не пользуются, но пользуются другими продуктами банка в кол-ве 2-4, на счете накопили сумму до 10млн"
   ]
  },
  {
   "cell_type": "markdown",
   "metadata": {},
   "source": [
    "### Сегмент 3. Активные с невысоким доходом <100000"
   ]
  },
  {
   "cell_type": "code",
   "execution_count": 56,
   "metadata": {},
   "outputs": [
    {
     "name": "stdout",
     "output_type": "stream",
     "text": [
      "Всего клиентов в сегменте: 504\n",
      "Количество ушедших клиентов: 173\n",
      "Количество оставшихся клиентов: 331\n",
      "Процент оттока в сегменте: 34.32539682539682\n"
     ]
    }
   ],
   "source": [
    "# Создам подвыборку клиентов, удовлетворяющих условиям\n",
    "filtered_low = banks[\n",
    "    (banks['est_salary'] <= 100000) &\n",
    "    (banks['age'] >= 25) &\n",
    "    (banks['age'] <= 60) &\n",
    "    (banks['credit_card'] == 0) &\n",
    "    (banks['last_activity'] == 1) &\n",
    "    (banks['balance'] < 5000000)\n",
    "]\n",
    "\n",
    "# Считаю общее кол-во клиентов, которые подходят по условию \n",
    "total_low = len(filtered_low)\n",
    "\n",
    "# Считаю кол-во клиентов, которые ушли\n",
    "churned_low = len(filtered_low[filtered_low['churn'] == 1])\n",
    "\n",
    "# Считаю кол-во клиентов, которые остались\n",
    "retained_low = len(filtered_low[filtered_low['churn'] == 0])\n",
    "\n",
    "# Считаю процент оттока\n",
    "churn_percentage_low = (churned_low / total_low) * 100\n",
    "\n",
    "print(\"Всего клиентов в сегменте:\", total_low)\n",
    "print(\"Количество ушедших клиентов:\", churned_low)\n",
    "print(\"Количество оставшихся клиентов:\", retained_low)\n",
    "print(\"Процент оттока в сегменте:\", churn_percentage_low)"
   ]
  },
  {
   "cell_type": "markdown",
   "metadata": {},
   "source": [
    "- клиенты обоих полов\n",
    "- доход до 100к\n",
    "- возраст 25-60\n",
    "- без кредитки\n",
    "- активные\n",
    "- на счете не более 5млн"
   ]
  },
  {
   "cell_type": "markdown",
   "metadata": {},
   "source": [
    "Это люди обоих полов, в активном возрасте 25-60 лет, с доходом относительно небольшим - до 100к, без кредитки, с кол-вом денег на счете не более 5млн, активные клиенты банка"
   ]
  },
  {
   "cell_type": "markdown",
   "metadata": {},
   "source": [
    "### Сегмент 4. С высоким кредитом доверия и 1,5млн на счете"
   ]
  },
  {
   "cell_type": "code",
   "execution_count": 57,
   "metadata": {},
   "outputs": [
    {
     "name": "stdout",
     "output_type": "stream",
     "text": [
      "Всего клиентов в сегменте: 610\n",
      "Количество ушедших клиентов: 288\n",
      "Количество оставшихся клиентов: 322\n",
      "Процент оттока в сегменте: 47.21311475409836\n"
     ]
    }
   ],
   "source": [
    "# Создам подвыборку клиентов, удовлетворяющих условиям\n",
    "filtered_score = banks[\n",
    "    (banks['score'] >= 800) &\n",
    "    (banks['score'] <= 900) &\n",
    "    (banks['age'] >= 30) &\n",
    "    (banks['age'] <= 60) &\n",
    "    (banks['credit_card'] == 0) &\n",
    "    (banks['last_activity'] == 1) &\n",
    "    (banks['balance'] < 1500000)\n",
    "]\n",
    "# Считаю общее кол-во клиентов, которые подходят по условию \n",
    "total_score = len(filtered_score)\n",
    "\n",
    "# Считаю кол-во клиентов, которые ушли\n",
    "churned_score = len(filtered_score[filtered_score['churn'] == 1])\n",
    "\n",
    "# Считаю кол-во клиентов, которые остались\n",
    "retained_score = len(filtered_score[filtered_score['churn'] == 0])\n",
    "\n",
    "# Считаю процент оттока\n",
    "churn_percentage_score = (churned_score / total_score) * 100\n",
    "\n",
    "print(\"Всего клиентов в сегменте:\", total_score)\n",
    "print(\"Количество ушедших клиентов:\", churned_score)\n",
    "print(\"Количество оставшихся клиентов:\", retained_score)\n",
    "print(\"Процент оттока в сегменте:\", churn_percentage_score)"
   ]
  },
  {
   "cell_type": "markdown",
   "metadata": {},
   "source": [
    "- клиенты обоих полов\n",
    "- кредитный рейтинг высокий 800-900, можно сказать это дисциплинированные и ответственные люди\n",
    "- возраст 30-60 - возвраст активно работающего человека\n",
    "- без кредитки\n",
    "- активные\n",
    "- на счету у них менее 1,5 млн"
   ]
  },
  {
   "cell_type": "markdown",
   "metadata": {},
   "source": [
    "Это люди обоих полов, ответственно пользующиеся продуктами банка, они активны, но кредитки у них нет, на счете тоже не супермного денег - не более 1,5 млн"
   ]
  },
  {
   "cell_type": "markdown",
   "metadata": {},
   "source": [
    "## Приоритизация сегментов + таргетированные рекомендации"
   ]
  },
  {
   "cell_type": "markdown",
   "metadata": {},
   "source": [
    "Приоритизация по оттоку выглядит наиболее логичной"
   ]
  },
  {
   "cell_type": "markdown",
   "metadata": {},
   "source": [
    "### Сегмент 4. С высоким кредитом доверия и 1,5млн на счете. Отток 47,21%"
   ]
  },
  {
   "cell_type": "markdown",
   "metadata": {},
   "source": [
    "Это люди обоих полов, ответственно пользующиеся продуктами банка, они активны, но кредитки у них нет, на счете тоже не супермного денег - не более 1,5 млн\n",
    "\n",
    "Процент оттока высокий, важно постараться их удержать\n",
    "\n",
    "Рекомендации/идеи по удержанию:\n",
    "- учитывая высокий кредитный рейтинг, предложить кредитную карту с низкой процентной ставкой, высоким кешбеком и более высоким кредитным лимитом, чем стандартные предложения. = и они будут пользоваться услугами с привилегями, и мы будем знать, что они и не уйдут, и кредит отдадут\n",
    "- предложить специальные вклады с высоким процентом, которые будут стимулировать к долгосрочному накоплению и инвестированию. Людям будет приятно копить деньги на выгодных услових и это помешает оттоку\n",
    "- предложить бонусы за открытие кредитной карты, вклада или инвестирование в фонды банка\n",
    "- предложить им выгодные условия при обслуживании дебетовых карт - у этих клиентов очень высокий отток, и их надо удерживать обязательно, и надо дать им бесплатные (обслуживание) дебетовые карты, с которых можно без комиссии снять деньги в любом банкомате, сделать перевод также без комиссии\n",
    "- выделить приоритетную линию в коллцентре, чтобы люди долго не ждали в очереди на линии\n"
   ]
  },
  {
   "cell_type": "markdown",
   "metadata": {},
   "source": [
    "### Сегмент 2. Мужчины 25-45 без кредитки. Отток 46,45%"
   ]
  },
  {
   "cell_type": "markdown",
   "metadata": {},
   "source": [
    "Это молодые мужчины в активном возрасте, и они работают, доход не менее 75к и выше - до 350к. Кредитками они не пользуются, но пользуются другими продуктами банка в кол-ве 2-4, на счете накопили сумму до 10млн\n",
    "\n",
    "Рекомендации/идеи по удержанию:\n",
    "- заключить партнерский договор с маркетплейсом/сетью заправок/фитнес центром, чтобы предложить клиентам скидки при оплате картой банка (как сейчас яндекс маркет + альфа)\n",
    "- предложить брокерские услуги на специальных условиях + обучение в подарок, чтобы вызвать интерес к инвестированию свободных средств\n",
    "- предложить повышенный процент дохода по вкладу более 5млн\n",
    "- программы страхования + акции, стимулирующие взять ипотеку = купи дом, страховка на год в подарок\n",
    "- специальные условия при накоплении миль для тех, кто много путешествует\n"
   ]
  },
  {
   "cell_type": "markdown",
   "metadata": {},
   "source": [
    "### Сегмент 3. Активные доход менее 100к. Отток 34,32%"
   ]
  },
  {
   "cell_type": "markdown",
   "metadata": {},
   "source": [
    "Это люди обоих полов, в активном возрасте 25-60 лет, с доходом относительно небольшим - до 100к, без кредитки, с кол-вом денег на счете не более 5млн, активные клиенты банка\n",
    "\n",
    "\n",
    "Рекомендации/идеи по удержанию:\n",
    "\n",
    "- расширенная линейка вкладов под средний процент, но зато с пополнением и снятием в любое время\n",
    "- разработать удобную вкладку в приложении, где предложить клиентам эффективно распределить средства и незаметно копить деньги (вкладка с кодовым названием \"Заначка\":) = сделать продукт, дисциплинирующий и могущий порадовать даже в мелочах, даже небольшими накоплениями\n",
    "- кешбек при покупках в сетевых супермаркетах типа пятерочка, магнит, дикси\n",
    "- кешбек при оплате картой на популярных заправках, в кафе"
   ]
  },
  {
   "cell_type": "markdown",
   "metadata": {},
   "source": [
    "### Сегмент 1. Женщины 25-45 без кредитки. Отток 24,5%"
   ]
  },
  {
   "cell_type": "markdown",
   "metadata": {},
   "source": [
    "Это женщины в активном возрасте, когда многие работают, и они работают, доход не менее 80к, на пике сил. Кредитками они не пользуются, но пользуются другими продуктами банка, супермного денег на счете пока не накопили \n",
    "\n",
    "\n",
    "\n",
    "Из того, что указано для мужчин, подойдет опция \"скидки на маркетплейсах при оплате картой банка\", а также:\n",
    "\n",
    "- что-то общего профиля, но брендированное под женщин, например \"индивидуальный финансовый планировщик для финансово независимой женщины\": предложить услуги персонального финансового консультанта, который поможет клиенткам оптимизировать свои финансовые решения и планировать будущее\n",
    "- бонусы и награды при покупках картой банка в продуктовых: стимулировать к покупке через патнерские программы лояльности с бонусами и наградами \n",
    "- поддержка при планировании крупных покупок: предложить помощь при планировании крупных покупок, таких как недвижимость или автомобиль, с выгодными условиями кредитования + в приложении делать сторис с предложениями взять кредит на покупку, которая завтра точно обойдется дороже\n",
    "- страховка \"мама и ребенок\" - при покупке страховки для женщины - будет скидка для ребенка"
   ]
  },
  {
   "cell_type": "markdown",
   "metadata": {},
   "source": [
    "### Дополнительно:"
   ]
  },
  {
   "cell_type": "markdown",
   "metadata": {},
   "source": [
    "Всем сегментам можно предложить рефинансировать кредит в нашем банке, предложить погасить кредит в другом банке и взять кредит у нас, а удерживать бесплатным обслуживанием карт + удобным приложением в том числе с развлечениями, например, стимулирующими финансовыми играми (типа слабо накопить за месяц? сможешь накопить - получишь скидку от партнера)\n",
    "\n",
    "\n",
    "Также стоит <b>обратить внимание на качество банковских продуктов </b> - \n",
    "если те, кто ими активно пользуются, не менее активно уходят из банка - \n",
    "значит, что-то не так, нужно улучшать качество обслуживания."
   ]
  },
  {
   "cell_type": "markdown",
   "metadata": {},
   "source": [
    "## Вывод"
   ]
  },
  {
   "cell_type": "markdown",
   "metadata": {},
   "source": [
    "что было сделано:\n",
    "\n",
    "- был исследован датафрейм из 10000 строк, с пропусками в двух столбцах balance и age\n",
    "- привела названия колонок к нужному виду\n",
    "- выяснила природу пропусков и решила оставить их без изменений\n",
    "- для анализа природы пропусков сделала два дополнительных столбца с бинарными признаками 1 и 0. Затем их удалила\n",
    "- проанализировала признаки с помощью столбчатых гистограмм, столбчатых диаграмм, изучила их в целом по датасету и в разрезе оттока\n",
    "- изучила корреляцию признаков с оттоком с помощью матрицы корреляции phik\n",
    "- проанализировала степень корреляции по шкале Чеддока\n",
    "- сделала таблицу-портрет клиента с признаками и соответствующими мерами центральной тенденции\n",
    "- выявила основные признаки, которые влияют на отток\n",
    "- сделала сегментацию клиентов по признакам, выделила 4 сегмента\n",
    "- приоритизировала сегменты и сделала рекомендации для отдела маркетинга по каждому сегменту  \n",
    "- сделала выводы в формате презентации (презентацию сделаю по итогам первого ревью, чтобы не переделывать много, если что)\n",
    "\n",
    "какие сделаны выводы:\n",
    "основные признаки, которые так или иначе связаны с оттоком. Это:\n",
    "- среднее кол-во баллов собственности \n",
    "- деньги на балансе. в среднем их больше у тех, кто ушел, чем у тех, кто остался\n",
    "- кол-во банковских продуктов. У тех, кто ушел, продуктов больше, чем у тех, кто остался\n",
    "- наличие кредитки. у тех, кто остался, вероятнее есть кредитная карта, чем у тех, кто ушел\n",
    "- активность. те, кто ушли, были более активны, чем те, кто остался\n",
    "- по полу - среди клиентов больше женщин, при этом отточных мужчин сильно больше, чем женщин \n",
    "- кол-во баллов собственности"
   ]
  },
  {
   "cell_type": "markdown",
   "metadata": {},
   "source": [
    "## Презентация"
   ]
  },
  {
   "cell_type": "markdown",
   "metadata": {},
   "source": [
    "Структура презентации:\n",
    "- Вступление: название проекта, цель, краткое описание.\n",
    "- Описание данных.\n",
    "- Графики распределения признаков в разрезе оттока (только по сегментирующим признакам).\n",
    "- Портрет клиента - таблица и интерпретация.\n",
    "- Корреляция - столбец для оттока и интерпретация.\n",
    "- Гипотезы - какие проверяли и какой результат получили.\n",
    "- Сегментация - на один сегмент выделяется один слайд, где указываются признаки и\n",
    "значения/интервалы их формирования, размер сегмента, уровень оттока внутри сегмента, а\n",
    "также рекомендации. Слайды сегментации располагаются согласно приоритизации.\n",
    "- Заключительный слайд\n"
   ]
  },
  {
   "cell_type": "markdown",
   "metadata": {},
   "source": [
    "Ссылка на презентацию https://disk.yandex.ru/i/Kmj1xccq-Gkm7g"
   ]
  }
 ],
 "metadata": {
  "ExecuteTimeLog": [
   {
    "duration": 118,
    "start_time": "2024-01-21T11:54:34.697Z"
   },
   {
    "duration": 87,
    "start_time": "2024-01-21T20:16:27.135Z"
   },
   {
    "duration": 72,
    "start_time": "2024-01-21T20:16:39.252Z"
   },
   {
    "duration": 80,
    "start_time": "2024-01-21T20:52:13.449Z"
   },
   {
    "duration": 75,
    "start_time": "2024-01-21T20:54:15.326Z"
   },
   {
    "duration": 77,
    "start_time": "2024-01-21T23:25:05.525Z"
   },
   {
    "duration": 8,
    "start_time": "2024-01-21T23:26:36.418Z"
   },
   {
    "duration": 75,
    "start_time": "2024-01-21T23:37:47.894Z"
   },
   {
    "duration": 99,
    "start_time": "2024-01-22T12:31:51.649Z"
   },
   {
    "duration": 84,
    "start_time": "2024-01-23T09:47:49.402Z"
   },
   {
    "duration": 95,
    "start_time": "2024-01-23T09:48:16.281Z"
   },
   {
    "duration": 76,
    "start_time": "2024-01-23T09:53:33.067Z"
   },
   {
    "duration": 2744,
    "start_time": "2024-02-02T20:50:34.986Z"
   },
   {
    "duration": 1618,
    "start_time": "2024-02-02T20:50:37.732Z"
   },
   {
    "duration": 62,
    "start_time": "2024-02-02T20:50:39.352Z"
   },
   {
    "duration": 46,
    "start_time": "2024-02-02T20:50:39.416Z"
   },
   {
    "duration": 2,
    "start_time": "2024-02-02T20:50:39.464Z"
   },
   {
    "duration": 5,
    "start_time": "2024-02-02T20:50:39.467Z"
   },
   {
    "duration": 14,
    "start_time": "2024-02-02T20:50:39.474Z"
   },
   {
    "duration": 123,
    "start_time": "2024-02-02T20:50:39.489Z"
   },
   {
    "duration": 5,
    "start_time": "2024-02-02T20:50:39.613Z"
   },
   {
    "duration": 14,
    "start_time": "2024-02-02T20:50:39.620Z"
   },
   {
    "duration": 3,
    "start_time": "2024-02-02T20:50:39.636Z"
   },
   {
    "duration": 5,
    "start_time": "2024-02-02T20:50:39.640Z"
   },
   {
    "duration": 3,
    "start_time": "2024-02-02T20:50:39.666Z"
   },
   {
    "duration": 7,
    "start_time": "2024-02-02T20:50:39.670Z"
   },
   {
    "duration": 12,
    "start_time": "2024-02-02T20:50:39.678Z"
   },
   {
    "duration": 10,
    "start_time": "2024-02-02T20:50:39.691Z"
   },
   {
    "duration": 6,
    "start_time": "2024-02-02T20:50:39.703Z"
   },
   {
    "duration": 7,
    "start_time": "2024-02-02T20:50:39.710Z"
   },
   {
    "duration": 10,
    "start_time": "2024-02-02T20:50:39.718Z"
   },
   {
    "duration": 36,
    "start_time": "2024-02-02T20:50:39.729Z"
   },
   {
    "duration": 9,
    "start_time": "2024-02-02T20:50:39.767Z"
   },
   {
    "duration": 11,
    "start_time": "2024-02-02T20:50:39.777Z"
   },
   {
    "duration": 6,
    "start_time": "2024-02-02T20:50:39.790Z"
   },
   {
    "duration": 4,
    "start_time": "2024-02-02T20:50:39.798Z"
   },
   {
    "duration": 1340,
    "start_time": "2024-02-02T20:50:39.804Z"
   },
   {
    "duration": 179,
    "start_time": "2024-02-02T20:50:41.146Z"
   },
   {
    "duration": 7,
    "start_time": "2024-02-02T20:50:41.327Z"
   },
   {
    "duration": 96,
    "start_time": "2024-02-02T20:50:41.337Z"
   },
   {
    "duration": 4,
    "start_time": "2024-02-02T20:50:41.435Z"
   },
   {
    "duration": 6,
    "start_time": "2024-02-02T20:50:41.440Z"
   },
   {
    "duration": 18,
    "start_time": "2024-02-02T20:50:41.447Z"
   },
   {
    "duration": 4,
    "start_time": "2024-02-02T20:50:41.467Z"
   },
   {
    "duration": 16,
    "start_time": "2024-02-02T20:50:41.473Z"
   },
   {
    "duration": 6,
    "start_time": "2024-02-02T20:50:41.490Z"
   },
   {
    "duration": 11,
    "start_time": "2024-02-02T20:50:41.497Z"
   },
   {
    "duration": 1100,
    "start_time": "2024-02-02T20:50:41.509Z"
   },
   {
    "duration": 2004,
    "start_time": "2024-02-02T20:50:42.611Z"
   },
   {
    "duration": 1069,
    "start_time": "2024-02-02T20:50:44.617Z"
   },
   {
    "duration": 1260,
    "start_time": "2024-02-02T20:50:45.688Z"
   },
   {
    "duration": 37,
    "start_time": "2024-02-02T20:50:46.949Z"
   },
   {
    "duration": 7,
    "start_time": "2024-02-02T20:50:46.988Z"
   },
   {
    "duration": 6,
    "start_time": "2024-02-02T20:50:46.996Z"
   },
   {
    "duration": 6,
    "start_time": "2024-02-02T20:50:47.003Z"
   },
   {
    "duration": 13,
    "start_time": "2024-02-02T20:50:47.010Z"
   },
   {
    "duration": 43,
    "start_time": "2024-02-02T20:50:47.024Z"
   },
   {
    "duration": 13,
    "start_time": "2024-02-02T20:50:47.069Z"
   },
   {
    "duration": 10,
    "start_time": "2024-02-02T20:50:47.083Z"
   },
   {
    "duration": 3290,
    "start_time": "2024-04-24T18:49:43.737Z"
   },
   {
    "duration": 1145,
    "start_time": "2024-04-24T18:49:47.029Z"
   },
   {
    "duration": 110,
    "start_time": "2024-04-24T18:49:48.176Z"
   },
   {
    "duration": 49,
    "start_time": "2024-04-24T18:49:48.288Z"
   },
   {
    "duration": 2,
    "start_time": "2024-04-24T18:49:48.339Z"
   },
   {
    "duration": 3,
    "start_time": "2024-04-24T18:49:48.343Z"
   },
   {
    "duration": 23,
    "start_time": "2024-04-24T18:49:48.347Z"
   },
   {
    "duration": 140,
    "start_time": "2024-04-24T18:49:48.372Z"
   },
   {
    "duration": 4,
    "start_time": "2024-04-24T18:49:48.514Z"
   },
   {
    "duration": 14,
    "start_time": "2024-04-24T18:49:48.521Z"
   },
   {
    "duration": 4,
    "start_time": "2024-04-24T18:49:48.536Z"
   },
   {
    "duration": 14,
    "start_time": "2024-04-24T18:49:48.541Z"
   },
   {
    "duration": 17,
    "start_time": "2024-04-24T18:49:48.557Z"
   },
   {
    "duration": 4,
    "start_time": "2024-04-24T18:49:48.576Z"
   },
   {
    "duration": 12,
    "start_time": "2024-04-24T18:49:48.582Z"
   },
   {
    "duration": 8,
    "start_time": "2024-04-24T18:49:48.595Z"
   },
   {
    "duration": 7,
    "start_time": "2024-04-24T18:49:48.614Z"
   },
   {
    "duration": 8,
    "start_time": "2024-04-24T18:49:48.622Z"
   },
   {
    "duration": 16,
    "start_time": "2024-04-24T18:49:48.632Z"
   },
   {
    "duration": 18,
    "start_time": "2024-04-24T18:49:48.650Z"
   },
   {
    "duration": 8,
    "start_time": "2024-04-24T18:49:48.670Z"
   },
   {
    "duration": 18,
    "start_time": "2024-04-24T18:49:48.679Z"
   },
   {
    "duration": 6,
    "start_time": "2024-04-24T18:49:48.699Z"
   },
   {
    "duration": 19,
    "start_time": "2024-04-24T18:49:48.706Z"
   },
   {
    "duration": 31,
    "start_time": "2024-04-24T18:49:48.726Z"
   },
   {
    "duration": 24,
    "start_time": "2024-04-24T18:49:48.758Z"
   },
   {
    "duration": 11,
    "start_time": "2024-04-24T18:49:48.784Z"
   },
   {
    "duration": 12,
    "start_time": "2024-04-24T18:49:48.799Z"
   },
   {
    "duration": 6,
    "start_time": "2024-04-24T18:49:48.813Z"
   },
   {
    "duration": 8,
    "start_time": "2024-04-24T18:49:48.820Z"
   },
   {
    "duration": 1439,
    "start_time": "2024-04-24T18:49:48.829Z"
   },
   {
    "duration": 2896,
    "start_time": "2024-04-24T18:49:50.270Z"
   },
   {
    "duration": 5,
    "start_time": "2024-04-24T18:49:53.167Z"
   },
   {
    "duration": 13,
    "start_time": "2024-04-24T18:49:53.173Z"
   },
   {
    "duration": 401,
    "start_time": "2024-04-24T18:49:53.188Z"
   },
   {
    "duration": 102,
    "start_time": "2024-04-24T18:49:53.590Z"
   },
   {
    "duration": 21,
    "start_time": "2024-04-24T18:49:53.694Z"
   },
   {
    "duration": 251,
    "start_time": "2024-04-24T18:49:53.717Z"
   },
   {
    "duration": 5,
    "start_time": "2024-04-24T18:49:53.969Z"
   },
   {
    "duration": 14,
    "start_time": "2024-04-24T18:49:53.975Z"
   },
   {
    "duration": 9,
    "start_time": "2024-04-24T18:49:53.990Z"
   },
   {
    "duration": 16,
    "start_time": "2024-04-24T18:49:54.001Z"
   },
   {
    "duration": 12,
    "start_time": "2024-04-24T18:49:54.018Z"
   },
   {
    "duration": 14,
    "start_time": "2024-04-24T18:49:54.032Z"
   },
   {
    "duration": 14,
    "start_time": "2024-04-24T18:49:54.047Z"
   },
   {
    "duration": 5729,
    "start_time": "2024-04-24T18:49:54.063Z"
   },
   {
    "duration": 1598,
    "start_time": "2024-04-24T18:49:59.793Z"
   },
   {
    "duration": 1561,
    "start_time": "2024-04-24T18:50:01.393Z"
   },
   {
    "duration": 33,
    "start_time": "2024-04-24T18:50:02.955Z"
   },
   {
    "duration": 14,
    "start_time": "2024-04-24T18:50:02.990Z"
   },
   {
    "duration": 6,
    "start_time": "2024-04-24T18:50:03.014Z"
   },
   {
    "duration": 31,
    "start_time": "2024-04-24T18:50:03.021Z"
   },
   {
    "duration": 35,
    "start_time": "2024-04-24T18:50:03.053Z"
   },
   {
    "duration": 18,
    "start_time": "2024-04-24T18:50:03.090Z"
   },
   {
    "duration": 39,
    "start_time": "2024-04-24T18:50:03.110Z"
   },
   {
    "duration": 41,
    "start_time": "2024-04-24T18:50:03.151Z"
   },
   {
    "duration": 36,
    "start_time": "2024-04-24T18:50:03.194Z"
   }
  ],
  "kernelspec": {
   "display_name": "Python 3 (ipykernel)",
   "language": "python",
   "name": "python3"
  },
  "language_info": {
   "codemirror_mode": {
    "name": "ipython",
    "version": 3
   },
   "file_extension": ".py",
   "mimetype": "text/x-python",
   "name": "python",
   "nbconvert_exporter": "python",
   "pygments_lexer": "ipython3",
   "version": "3.9.5"
  },
  "toc": {
   "base_numbering": 1,
   "nav_menu": {},
   "number_sections": true,
   "sideBar": true,
   "skip_h1_title": true,
   "title_cell": "Table of Contents",
   "title_sidebar": "Contents",
   "toc_cell": false,
   "toc_position": {
    "height": "calc(100% - 180px)",
    "left": "10px",
    "top": "150px",
    "width": "308px"
   },
   "toc_section_display": true,
   "toc_window_display": false
  }
 },
 "nbformat": 4,
 "nbformat_minor": 2
}
