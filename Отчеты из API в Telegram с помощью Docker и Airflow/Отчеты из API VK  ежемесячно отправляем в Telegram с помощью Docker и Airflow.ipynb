{
 "cells": [
  {
   "cell_type": "markdown",
   "id": "de38d932",
   "metadata": {},
   "source": [
    "<span style='font-size:22px;'>**Проект: \n",
    "    выгружаем данные из VK API, обрабатываем, отправляем ежемесячный отчет в Telegram**</span>\n"
   ]
  },
  {
   "cell_type": "markdown",
   "id": "ff9ccfd8",
   "metadata": {},
   "source": [
    "**Задача - сделать программу, которая присылает статистику о просмотре видео в группе VK:**\n",
    "- вытащить из VK API данные о просмотрах видео, реакциях и репостах\n",
    "- посчитать их кол-во за предыдущий месяц \n",
    "- автоматически 1-го числа каждого месяца (либо по любому расписанию, либо сию минуту) присылать в Telegram отчет со статистикой в виде текста и графика за предыдущий месяц"
   ]
  },
  {
   "cell_type": "markdown",
   "id": "ed5d2924",
   "metadata": {},
   "source": [
    "**Что сделано:**\n",
    "- я написала на python код для того, чтобы выгрузить нужные мне данные из VK API\n",
    "- данные по видео вытягивались только по 200 за раз, в моем случае видео было больше, поэтому был использован параметр offset, чтобы вытащить 200, затем начать с 200+1, вытащить еще 200 и начать с 400+1 и т.д.\n",
    "- вытащенный файл представлял из себя словарь, я сделала из него датафрейм\n",
    "- дата была в формате unixtime, поменяла формат на datetime, т.к. четкая правильная дата - важный параметр для этого проекта\n",
    "- добавила колонки с месяцами и годами публикации, по ним затем делала группировку\n",
    "- сделала агрегацию - посчитала кол-во просмотров по месяцам \n",
    "- ограничившись показом последних 6 месяцев, написала код для отрисовки столбчатой диаграммы с подписями над каждым столбцом с помощью matplotlib и seaborn\n",
    "- написала код для сохранения диаграммы в файл png и его отправки через бот в группу Telegram\n",
    "- сохранила сообщение с информацией о кол-ве лайков, репостов и просмотров в текстовом виде и написала код для его отправки через бот в группу Telegram\n",
    "- обернула все это в функцию fetch_and_save_vk_data\n",
    "\n",
    "\n",
    "**Написала код для DAG (с использованием этой функции) со следующими основными параметрами:**\n",
    "- код выполняется раз в месяц 1 числа каждого месяца\n",
    "- три попытки на retry (с промежутком в 5 минут)\n",
    "\n",
    "\n",
    "**Затем:**\n",
    "- установила Docker\n",
    "- взяла готовые образы на Docker Hub, чтобы развернуть Airflow\n",
    "- нужно было доустановить зависимости matplotlib и seaborn, для этого создала для каждого образа отдельный файл requirements.txt, затем на основе скачанных образов создала свои образы, установив в них свои requirements\n",
    "- примонтировала локальные папки, в которые можно класть файлы с DAG-ами + в которых можно смотреть логи\n",
    "- с помощью Docker-Compose развернула все компоненты Airflow\n",
    "- в Airflow UI запустила DAG\n"
   ]
  },
  {
   "cell_type": "markdown",
   "id": "ba720d85",
   "metadata": {},
   "source": [
    "##  импорт библиотек"
   ]
  },
  {
   "cell_type": "code",
   "execution_count": 1,
   "id": "949aa99a",
   "metadata": {},
   "outputs": [
    {
     "name": "stdout",
     "output_type": "stream",
     "text": [
      "Requirement already satisfied: python-dotenv in /opt/anaconda3/envs/da_practicum_env/lib/python3.9/site-packages (1.0.1)\n",
      "Note: you may need to restart the kernel to use updated packages.\n"
     ]
    }
   ],
   "source": [
    "pip install python-dotenv"
   ]
  },
  {
   "cell_type": "code",
   "execution_count": 2,
   "id": "aad3e8db",
   "metadata": {},
   "outputs": [],
   "source": [
    "from dotenv import load_dotenv\n",
    "import os\n",
    "from datetime import datetime, timedelta\n",
    "import requests\n",
    "import pandas as pd\n",
    "import matplotlib.pyplot as plt\n",
    "import seaborn as sns"
   ]
  },
  {
   "cell_type": "markdown",
   "id": "e1fe6aa9",
   "metadata": {},
   "source": [
    "##  объявление главных переменных"
   ]
  },
  {
   "cell_type": "code",
   "execution_count": 3,
   "id": "effb4ec7",
   "metadata": {},
   "outputs": [],
   "source": [
    "load_dotenv('/Users/yulialatysheva/vk_api/my.env') \n",
    "# здесь я сделала так, чтобы токены хранились локально, \n",
    "# но если очень хочется, их можно ввести напрямую в переменные\n",
    "\n",
    "# токен api telegram\n",
    "telegram_token = os.getenv(\"telegram_token\")\n",
    "\n",
    "# айди чата/группы, куда будем отправлять отчеты\n",
    "telegram_chat_id = os.getenv(\"telegram_chat_id\")\n",
    "\n",
    "# токен для доступа к api vk\n",
    "vk_token = os.getenv(\"vk_token\")\n",
    "\n",
    "# айди группы вк, откуда будем тянуть данные для статистики\n",
    "vk_group_id = os.getenv(\"vk_group_id\")"
   ]
  },
  {
   "cell_type": "markdown",
   "id": "72391f82",
   "metadata": {},
   "source": [
    "### как я получила токены для VK и Telegram, а также id чата в Telegram и группы VK"
   ]
  },
  {
   "cell_type": "markdown",
   "id": "1477e611",
   "metadata": {},
   "source": [
    "**Токен для доступа к API Telegram**\n",
    "- создала бота через бот @botfather\n",
    "- дала ему имя\n",
    "- после назначения имени бот прислал мне токен в ответном сообщении\n",
    "\n",
    "\n",
    "**Токен для VK API**\n",
    "- его можно получить здесь: https://vkhost.github.io\n",
    "\n",
    "\n",
    "**ID чата в Telegram** (может быть личный чат или группа)\n",
    "- **для группы** использован @LeadConverterToolkitBot, он был добавлен в группу с правом отправлять сообщения\n",
    "- отправила в группу команду /get_chat_id@LeadConverterToolkitBot\n",
    "- в ответ получила id группы\n",
    "- удалила бота из группы\n",
    "\n",
    "\n",
    "- **для личного аккаунта** - узнала id при помощи бота @getmyid_bot\n",
    "- отправила ему команду /start, получила в ответном сообщении мой id\n",
    "\n",
    "\n",
    "**ID группы VK**\n",
    "- в моем случае у группы был буквенный адрес (по названию группы), но id легко посмотреть, открыв любое фото или видео в группе: смотрю адресную строку и беру в ней первую комбинацию из 8 цифр, это и есть мой id группы \n",
    "\n",
    "\n"
   ]
  },
  {
   "cell_type": "markdown",
   "id": "20b04132",
   "metadata": {},
   "source": [
    "##  запрос к api vk и составление словаря"
   ]
  },
  {
   "cell_type": "code",
   "execution_count": 4,
   "id": "3b7a997a",
   "metadata": {},
   "outputs": [],
   "source": [
    "url = f\"https://api.vk.com/method/video.get?v=5.131&owner_id=-{vk_group_id}&access_token={vk_token}\"\n",
    "response = requests.get(url)\n",
    "data = response.json()\n",
    "\n",
    "video_count = data['response']['count']\n",
    "\n",
    "count = 200\n",
    "offset = 0\n",
    "video_data = []\n",
    "\n",
    "while offset <= video_count:\n",
    "    url = f\"https://api.vk.com/method/video.get?v=5.131&owner_id=-{vk_group_id}&access_token={vk_token}&count={count}&offset={offset}\"\n",
    "    response = requests.get(url)\n",
    "    data = response.json()\n",
    "    videos = data['response']['items']\n",
    "        \n",
    "    for video in videos:\n",
    "        video_info = {\n",
    "            \"id\": video['id'],\n",
    "            \"name\": video['title'],\n",
    "            \"add_date\": datetime.fromtimestamp(video['date']).strftime('%Y-%m-%d'), \n",
    "            \"views\": video['views'],\n",
    "            \"likes_count\": video['likes']['count'] if 'likes' in video else 0,\n",
    "            \"reposts\": video['reposts']['count'] if 'reposts' in video else 0\n",
    "        }\n",
    "        video_data.append(video_info)\n",
    "            \n",
    "    offset += count"
   ]
  },
  {
   "cell_type": "markdown",
   "id": "27920f49",
   "metadata": {},
   "source": [
    "##  делаю из словаря df и группирую по году и месяцу"
   ]
  },
  {
   "cell_type": "code",
   "execution_count": 5,
   "id": "96dfdba3",
   "metadata": {},
   "outputs": [],
   "source": [
    "vkvideos = pd.DataFrame(video_data)\n",
    "vkvideos['add_date'] = pd.to_datetime(vkvideos['add_date'])\n",
    "vkvideos['year'] = vkvideos['add_date'].dt.year\n",
    "vkvideos['month'] = vkvideos['add_date'].dt.month"
   ]
  },
  {
   "cell_type": "markdown",
   "id": "12e99304",
   "metadata": {},
   "source": [
    "##  агрегация, сортировка, подготовка к созданию графика и сообщения txt"
   ]
  },
  {
   "cell_type": "code",
   "execution_count": 6,
   "id": "5a95353c",
   "metadata": {},
   "outputs": [],
   "source": [
    "current_date = datetime.now()\n",
    "views_current_month = vkvideos[(vkvideos['year'] == current_date.year) & (vkvideos['month'] == current_date.month)]\n",
    "total_views_current_month = views_current_month['views'].sum()"
   ]
  },
  {
   "cell_type": "code",
   "execution_count": null,
   "id": "a80bce22",
   "metadata": {},
   "outputs": [],
   "source": [
    "# создаю новые столбцы 'year' и 'month' с годом и месяцем соответственно\n",
    "vkvideos['year'] = vkvideos['add_date'].dt.year\n",
    "vkvideos['month'] = vkvideos['add_date'].dt.month"
   ]
  },
  {
   "cell_type": "code",
   "execution_count": null,
   "id": "a1aa5cae",
   "metadata": {},
   "outputs": [],
   "source": [
    "# получу первый день предыдущего месяца\n",
    "first_day_previous_month = datetime.now().replace(day=1) - timedelta(days=1)\n",
    "previous_month_year = first_day_previous_month.year\n",
    "previous_month = first_day_previous_month.month"
   ]
  },
  {
   "cell_type": "code",
   "execution_count": null,
   "id": "edfac325",
   "metadata": {},
   "outputs": [],
   "source": [
    "# беру видео за предыдущий месяц\n",
    "videos_previous_month = vkvideos[(vkvideos['year'] == previous_month_year) & (vkvideos['month'] == previous_month)]\n",
    "\n",
    "# нахожу видео с максимальным количеством просмотров за предыдущий месяц\n",
    "most_popular_video = videos_previous_month[videos_previous_month['views'] == videos_previous_month['views'].max()]\n",
    "\n",
    "# беру название и кол-во просмотров самого популярного видео\n",
    "most_popular_video_title = most_popular_video.iloc[0]['name']\n",
    "most_popular_video_views = most_popular_video.iloc[0]['views']"
   ]
  },
  {
   "cell_type": "code",
   "execution_count": null,
   "id": "c594ad67",
   "metadata": {},
   "outputs": [],
   "source": [
    "# собираю кол-во просмотров, лайков, репостов, плюс среднее кол-во просмотров. все - за предыдущий месяц\n",
    "views_previous_month = vkvideos[(vkvideos['year'] == previous_month_year) & (vkvideos['month'] == previous_month)]\n",
    "total_views_previous_month = views_previous_month['views'].sum()\n",
    "total_likes_previous_month = views_previous_month['likes_count'].sum()\n",
    "total_reposts_previous_month = views_previous_month['reposts'].sum()\n",
    "average_views_previous_month = round(total_views_previous_month / len(views_previous_month))"
   ]
  },
  {
   "cell_type": "code",
   "execution_count": null,
   "id": "eaa15a47",
   "metadata": {},
   "outputs": [],
   "source": [
    "# группирую данные по году и месяцу и считаю сумму просмотров\n",
    "monthly_views = vkvideos.groupby(['year', 'month'])['views'].sum()\n",
    "\n",
    "# преобразую объект Series в DataFrame\n",
    "monthly_views_df = monthly_views.reset_index()\n",
    "\n",
    "# переименую столбец с суммой просмотров\n",
    "monthly_views_df = monthly_views_df.rename(columns={'views': 'общее кол-во просмотров'})"
   ]
  },
  {
   "cell_type": "code",
   "execution_count": null,
   "id": "f6038c73",
   "metadata": {},
   "outputs": [],
   "source": [
    "# сортирую по убыванию\n",
    "monthly_views_sorted = monthly_views_df.sort_values(by=['year', 'month'], ascending=False)\n",
    "monthly_views_sorted = monthly_views_sorted.rename(columns={'year': 'год', 'month': 'месяц'})"
   ]
  },
  {
   "cell_type": "code",
   "execution_count": 9,
   "id": "18e92114",
   "metadata": {},
   "outputs": [],
   "source": [
    "# беру только последние 6 мес\n",
    "last_six_months = monthly_views_sorted.head(6)"
   ]
  },
  {
   "cell_type": "markdown",
   "id": "4d89ca8c",
   "metadata": {},
   "source": [
    "##  рисую график, сохраняю его и отправляю"
   ]
  },
  {
   "cell_type": "code",
   "execution_count": 7,
   "id": "15218d5b",
   "metadata": {
    "scrolled": false
   },
   "outputs": [
    {
     "data": {
      "text/plain": [
       "<Response [200]>"
      ]
     },
     "execution_count": 7,
     "metadata": {},
     "output_type": "execute_result"
    },
    {
     "data": {
      "image/png": "[encoded data removed]",
      "text/plain": [
       "<Figure size 1000x600 with 1 Axes>"
      ]
     },
     "metadata": {},
     "output_type": "display_data"
    }
   ],
   "source": [
    "# рисую барплот\n",
    "plt.figure(figsize=(10, 6))\n",
    "bars = sns.barplot(x=last_six_months['месяц'].astype(str) + '-' + last_six_months['год'].astype(str), y=last_six_months['общее кол-во просмотров'], palette=['#B2E672'])\n",
    "\n",
    "# добавляю подписи над каждым столбцом\n",
    "for i, v in enumerate(last_six_months['общее кол-во просмотров']):\n",
    "    plt.text(i, v + 10, str(round(v, 2)), ha='center', va='bottom')\n",
    "\n",
    "# добавляю подписи осей\n",
    "plt.xlabel('Дата (Месяц-Год)')\n",
    "plt.ylabel('Количество просмотров')\n",
    "plt.title('Количество просмотров за последние 6 месяцев')\n",
    "plt.gca().get_yaxis().get_major_formatter().set_scientific(False)  # убираю экспоненциальное отображение\n",
    "plt.tight_layout()\n",
    "\n",
    "# сохраняю график в файл\n",
    "plt.savefig('last_six_months_views.png') \n",
    "# в DAG-е будет сохраняться в папке контейнера докера \n",
    "# plt.savefig('/opt/bitnami/airflow/dags/last_six_months_views.png')\n",
    "\n",
    "# отправляю через бот сообщение с изображением\n",
    "url = f\"https://api.telegram.org/bot{telegram_token}/sendPhoto\"\n",
    "files = {'photo': open('last_six_months_views.png', 'rb')}\n",
    "data = {'chat_id': telegram_chat_id}\n",
    "requests.post(url, files=files, data=data)"
   ]
  },
  {
   "cell_type": "markdown",
   "id": "24a907ea",
   "metadata": {},
   "source": [
    "##  статистика в txt - собираю, отправляю"
   ]
  },
  {
   "cell_type": "code",
   "execution_count": 8,
   "id": "f21ddda8",
   "metadata": {},
   "outputs": [
    {
     "name": "stdout",
     "output_type": "stream",
     "text": [
      "{'ok': True, 'result': {'message_id': 29, 'from': {'id': 7153747618, 'is_bot': True, 'first_name': 'konztruktiv_bot', 'username': 'konztruktiv_bot'}, 'chat': {'id': 102470223, 'first_name': 'Yulia', 'username': 'yu_lisichkina', 'type': 'private'}, 'date': 1713994866, 'text': 'В предыдущем месяце:\\n- Просмотров - 1275801\\n- Лайков - 22755\\n- Репостов - 307\\n- В среднем каждое видео смотрели 16356 раз(а)\\n- Самое популярное видео: Как изменилась жизнь в Мелитополе - 36065 просмотров\\n\\nПросмотров в этом месяце - 833803'}}\n"
     ]
    }
   ],
   "source": [
    "# сообщение с остальной информацией\n",
    "message = f\"В предыдущем месяце:\\n\" \\\n",
    "          f\"- Просмотров - {total_views_previous_month}\\n\" \\\n",
    "          f\"- Лайков - {total_likes_previous_month}\\n\" \\\n",
    "          f\"- Репостов - {total_reposts_previous_month}\\n\" \\\n",
    "          f\"- В среднем каждое видео смотрели {average_views_previous_month} раз(а)\\n\" \\\n",
    "          f\"- Самое популярное видео: {most_popular_video_title} - {most_popular_video_views} просмотров\\n\" \\\n",
    "          f\"\\n\" \\\n",
    "          f\"Просмотров в этом месяце - {total_views_current_month}\\n\"\n",
    "\n",
    "# отправляю через бот текстовое сообщение с остальной информацией\n",
    "url = f\"https://api.telegram.org/bot{telegram_token}/sendMessage?chat_id={telegram_chat_id}&text={message}\"\n",
    "print(requests.get(url).json())"
   ]
  },
  {
   "cell_type": "markdown",
   "id": "7553715d",
   "metadata": {},
   "source": [
    "Если код запустить до этой ячейки, то он отработает и полный отчет с текстом и графиком придет в Telegram. Но мне нужно, чтобы всё происходило автоматически и по расписанию"
   ]
  },
  {
   "cell_type": "markdown",
   "id": "ef07135c",
   "metadata": {},
   "source": [
    "##  делаю DAG  на основе кода выше "
   ]
  },
  {
   "cell_type": "raw",
   "id": "ae2e03b7",
   "metadata": {},
   "source": [
    "from datetime import datetime, timedelta\n",
    "from airflow import DAG\n",
    "from airflow.operators.python_operator import PythonOperator\n",
    "import pandas as pd\n",
    "import requests\n",
    "import matplotlib.pyplot as plt\n",
    "import seaborn as sns\n",
    "\n",
    "def fetch_and_save_vk_data():\n",
    "\n",
    "    # токен api telegram\n",
    "    telegram_token = '7153747618:AAHXa86EvoqS0mJLxbbNLHCINZ5E0VbONto'\n",
    "\n",
    "    # айди чата/группы, куда будем отправлять отчеты\n",
    "    telegram_chat_id = '102470223'\n",
    "    #'-1001615538353'\n",
    "\n",
    "    # токен для доступа к api vk\n",
    "    vk_token = 'vk1.a.ALPA52irF6ZJjvLmDLNIx5ZgEMeHv0Ut5V4by46pPlsDDeFcvSi7cM7klM1GpxFX13inEQMEQ4UbaU8YDXBMaQp9JuhQkJP6bPk1DILY4r6uAJin_BO5YkTzj48LxFdNsQeS-cK6o_pQXt_8lpmVG5xZ8BKydY2iT_YxgOyLP_gkI1vBwAbeI_DFI1d6UXi5WDMDvZX9ugkXErHthVcjrg&'\n",
    "\n",
    "    # айди группы вк, откуда будем тянуть данные для статистики\n",
    "    vk_group_id = 51512782\n",
    "\n",
    "    # токен api telegram\n",
    "    telegram_token = '7153747618:AAHXa86EvoqS0mJLxbbNLHCINZ5E0VbONto'\n",
    "\n",
    "    # айди чата/группы, куда будем отправлять отчеты\n",
    "    telegram_chat_id = '102470223'\n",
    "    #'-1001615538353'\n",
    "\n",
    "    # токен для доступа к api vk\n",
    "    vk_token = 'vk1.a.ALPA52irF6ZJjvLmDLNIx5ZgEMeHv0Ut5V4by46pPlsDDeFcvSi7cM7klM1GpxFX13inEQMEQ4UbaU8YDXBMaQp9JuhQkJP6bPk1DILY4r6uAJin_BO5YkTzj48LxFdNsQeS-cK6o_pQXt_8lpmVG5xZ8BKydY2iT_YxgOyLP_gkI1vBwAbeI_DFI1d6UXi5WDMDvZX9ugkXErHthVcjrg&'\n",
    "\n",
    "    # айди группы вк, откуда будем тянуть данные для статистики\n",
    "    vk_group_id = 51512782\n",
    "    \n",
    "    url = f\"https://api.vk.com/method/video.get?v=5.131&owner_id=-{vk_group_id}&access_token={vk_token}\"\n",
    "    response = requests.get(url)\n",
    "    data = response.json()\n",
    "\n",
    "    video_count = data['response']['count']\n",
    "\n",
    "    count = 200\n",
    "    offset = 0\n",
    "    video_data = []\n",
    "\n",
    "    while offset <= video_count:\n",
    "        url = f\"https://api.vk.com/method/video.get?v=5.131&owner_id=-{vk_group_id}&access_token={vk_token}&count={count}&offset={offset}\"\n",
    "        response = requests.get(url)\n",
    "        data = response.json()\n",
    "        videos = data['response']['items']\n",
    "        \n",
    "        for video in videos:\n",
    "            video_info = {\n",
    "                \"id\": video['id'],\n",
    "                \"name\": video['title'],\n",
    "                \"add_date\": datetime.fromtimestamp(video['date']).strftime('%Y-%m-%d'), \n",
    "                \"views\": video['views'],\n",
    "                \"likes_count\": video['likes']['count'] if 'likes' in video else 0,\n",
    "                \"reposts\": video['reposts']['count'] if 'reposts' in video else 0\n",
    "            }\n",
    "            video_data.append(video_info)\n",
    "            \n",
    "        offset += count \n",
    "    \n",
    "\n",
    "    vkvideos = pd.DataFrame(video_data)\n",
    "    vkvideos['add_date'] = pd.to_datetime(vkvideos['add_date'])\n",
    "    vkvideos['year'] = vkvideos['add_date'].dt.year\n",
    "    vkvideos['month'] = vkvideos['add_date'].dt.month\n",
    "    \n",
    "    current_date = datetime.now()\n",
    "    views_current_month = vkvideos[(vkvideos['year'] == current_date.year) & (vkvideos['month'] == current_date.month)]\n",
    "    total_views_current_month = views_current_month['views'].sum()\n",
    "    \n",
    "    # создаю новые столбцы 'year' и 'month' с годом и месяцем соответственно\n",
    "    vkvideos['year'] = vkvideos['add_date'].dt.year\n",
    "    vkvideos['month'] = vkvideos['add_date'].dt.month\n",
    "\n",
    "    # получу первый день предыдущего месяца\n",
    "    first_day_previous_month = datetime.now().replace(day=1) - timedelta(days=1)\n",
    "    previous_month_year = first_day_previous_month.year\n",
    "    previous_month = first_day_previous_month.month\n",
    "      \n",
    "    # беру видео за предыдущий месяц\n",
    "    videos_previous_month = vkvideos[(vkvideos['year'] == previous_month_year) & (vkvideos['month'] == previous_month)]\n",
    "    # нахожу видео с максимальным количеством просмотров за предыдущий месяц\n",
    "    most_popular_video = videos_previous_month[videos_previous_month['views'] == videos_previous_month['views'].max()]\n",
    "    # беру название и кол-во просмотров самого популярного видео\n",
    "    most_popular_video_title = most_popular_video.iloc[0]['name']\n",
    "    most_popular_video_views = most_popular_video.iloc[0]['views']\n",
    "\n",
    "    # собираю кол-во просмотров, лайков, репостов, плюс среднее кол-во просмотров. все - за предыдущий месяц\n",
    "    views_previous_month = vkvideos[(vkvideos['year'] == previous_month_year) & (vkvideos['month'] == previous_month)]\n",
    "    total_views_previous_month = views_previous_month['views'].sum()\n",
    "    total_likes_previous_month = views_previous_month['likes_count'].sum()\n",
    "    total_reposts_previous_month = views_previous_month['reposts'].sum()\n",
    "    average_views_previous_month = round(total_views_previous_month / len(views_previous_month))\n",
    "\n",
    "    # группирую данные по году и месяцу и считаю сумму просмотров\n",
    "    monthly_views = vkvideos.groupby(['year', 'month'])['views'].sum()\n",
    "\n",
    "    # преобразую объект Series в DataFrame\n",
    "    monthly_views_df = monthly_views.reset_index()\n",
    "\n",
    "    # переименую столбец с суммой просмотров\n",
    "    monthly_views_df = monthly_views_df.rename(columns={'views': 'общее кол-во просмотров'})\n",
    "\n",
    "    # сортирую по убыванию даты\n",
    "    monthly_views_sorted = monthly_views_df.sort_values(by=['year', 'month'], ascending=False)\n",
    "    monthly_views_sorted = monthly_views_sorted.rename(columns={'year': 'год', 'month': 'месяц'})\n",
    "\n",
    "    # беру только последние 6 мес\n",
    "    last_six_months = monthly_views_sorted.head(6)\n",
    "\n",
    "    # рисую барплот\n",
    "    plt.figure(figsize=(10, 6))\n",
    "    bars = sns.barplot(x=last_six_months['месяц'].astype(str) + '-' + last_six_months['год'].astype(str), y=last_six_months['общее кол-во просмотров'], palette=['#B2E672'])\n",
    "\n",
    "    # добавляю подписи над каждым столбцом\n",
    "    for i, v in enumerate(last_six_months['общее кол-во просмотров']):\n",
    "        plt.text(i, v + 10, str(round(v, 2)), ha='center', va='bottom')\n",
    "\n",
    "    # добавляю подписи осей\n",
    "    plt.xlabel('Дата (Месяц-Год)')\n",
    "    plt.ylabel('Количество просмотров')\n",
    "    plt.title('Количество просмотров за последние 6 месяцев')\n",
    "    plt.gca().get_yaxis().get_major_formatter().set_scientific(False)  # убираю экспоненциальное отображение\n",
    "    plt.tight_layout()\n",
    "    \n",
    "    # сохраняю график в файл\n",
    "    plt.savefig('/opt/bitnami/airflow/dags/last_six_months_views.png')\n",
    "\n",
    "    # отправляю через бот сообщение с изображением\n",
    "    url = f\"https://api.telegram.org/bot{telegram_token}/sendPhoto\"\n",
    "    files = {'photo': open('/opt/bitnami/airflow/dags/last_six_months_views.png', 'rb')}\n",
    "    data = {'chat_id': telegram_chat_id}\n",
    "    requests.post(url, files=files, data=data)\n",
    "\n",
    "    # сообщение с остальной информацией\n",
    "    message = f\"В предыдущем месяце:\\n\" \\\n",
    "              f\"- Просмотров - {total_views_previous_month}\\n\" \\\n",
    "              f\"- Лайков - {total_likes_previous_month}\\n\" \\\n",
    "              f\"- Репостов - {total_reposts_previous_month}\\n\" \\\n",
    "              f\"- В среднем каждое видео смотрели {average_views_previous_month} раз(а)\\n\" \\\n",
    "              f\"- Самое популярное видео: {most_popular_video_title} - {most_popular_video_views} просмотров\\n\" \\\n",
    "              f\"\\n\" \\\n",
    "              f\"Просмотров в этом месяце - {total_views_current_month}\\n\"\n",
    "\n",
    "    # отправляю через бот текстовое сообщение с остальной информацией\n",
    "    url = f\"https://api.telegram.org/bot{telegram_token}/sendMessage?chat_id={telegram_chat_id}&text={message}\"\n",
    "    print(requests.get(url).json())\n",
    "\n",
    "    with open(f'/opt/bitnami/airflow/dags/vk_stats_{current_date}.txt', 'w') as f:\n",
    "        f.write(\"В предыдущем месяце:\\n\")\n",
    "        f.write(f\"- Просмотров - {total_views_previous_month}\\n\")\n",
    "        f.write(f\"- Лайков - {total_likes_previous_month}\\n\")\n",
    "        f.write(f\"- Репостов - {total_reposts_previous_month}\\n\")\n",
    "        f.write(f\"- В среднем каждое видео смотрели {average_views_previous_month} раз(а)\\n\")\n",
    "        f.write(f\"- Самое популярное видео: {most_popular_video_title} - {most_popular_video_views} просмотров\\n\")\n",
    "        f.write(\" \")\n",
    "        f.write(f\"Просмотров в этом месяце - {total_views_current_month}\\n\")\n",
    "\n",
    "default_args = {\n",
    "    'owner': 'airflow',\n",
    "    'depends_on_past': False,\n",
    "    'start_date': datetime(2024, 2, 26),\n",
    "    'email_on_failure': False,\n",
    "    'email_on_retry': False,\n",
    "    'retries': 3,\n",
    "    'retry_delay': timedelta(minutes=5),\n",
    "}\n",
    "\n",
    "dag = DAG(\n",
    "    'vk_api_fetch_and_save_matplotlib',\n",
    "    default_args=default_args,\n",
    "    description='Fetch VK API data and save to file',\n",
    "    schedule_interval='@daily',\n",
    ")\n",
    "\n",
    "fetch_and_save_task = PythonOperator(\n",
    "    task_id='fetch_and_save_vk_data',\n",
    "    python_callable=fetch_and_save_vk_data,\n",
    "    dag=dag,\n",
    ")\n",
    "\n",
    "fetch_and_save_task"
   ]
  },
  {
   "cell_type": "markdown",
   "id": "aa8c6a5e",
   "metadata": {},
   "source": [
    "## Вуаля, а вот он, результат!"
   ]
  },
  {
   "cell_type": "markdown",
   "id": "4c18e6ac",
   "metadata": {},
   "source": [
    "Пример сообщения, которое присылает бот."
   ]
  },
  {
   "cell_type": "markdown",
   "id": "dcba39c1",
   "metadata": {},
   "source": [
    "\n",
    "<a href=\"https://ibb.co/swTJGwD\"><img src=\"https://i.ibb.co/R0X4m0M/IMG-8575.jpg\" alt=\"IMG-8575\" border=\"0\" width=\"300\" height=\"300\" align=\"left\"></a>\n"
   ]
  },
  {
   "cell_type": "markdown",
   "id": "b857379a",
   "metadata": {},
   "source": [
    "- Часто метрик, которые встроены в статистику ВК на сайте, недостаточно, и, например, кол-ва просмотров за месяц + в сравнении с предыдущими месяцами нам очень не хватало\n",
    "- эту программу можно менять, вставляя любую нужную метрику, если понадобится что-то еще\n",
    "- Рассылка бота приходила в рабочий чат, в котором состояли сотрудники отдела смм, что удобно - сразу все в курсе дел - падаем мы по просмотрам или растем\n",
    "- если руководителю срочно был нужен отчет - свежие цифры + график рисовались за считаные минуты = мы довольны, руководитель тоже)"
   ]
  },
  {
   "cell_type": "markdown",
   "id": "7307ba0a",
   "metadata": {},
   "source": [
    "Такой получился результат. Первый самостоятельный проект успешно реализован, принес достаточно пользы, а прежде всего практического опыта. \n",
    "\n",
    "\n",
    "Кодом я поделюсь с коллегами из смм отделов других редакций, даже без Airflow могут запускать и пользоваться для отслеживания статистики своих сообществ ВК. "
   ]
  }
 ],
 "metadata": {
  "kernelspec": {
   "display_name": "Python 3 (ipykernel)",
   "language": "python",
   "name": "python3"
  },
  "language_info": {
   "codemirror_mode": {
    "name": "ipython",
    "version": 3
   },
   "file_extension": ".py",
   "mimetype": "text/x-python",
   "name": "python",
   "nbconvert_exporter": "python",
   "pygments_lexer": "ipython3",
   "version": "3.9.15"
  },
  "toc": {
   "base_numbering": 1,
   "nav_menu": {},
   "number_sections": true,
   "sideBar": true,
   "skip_h1_title": false,
   "title_cell": "Table of Contents",
   "title_sidebar": "Contents",
   "toc_cell": false,
   "toc_position": {},
   "toc_section_display": true,
   "toc_window_display": false
  }
 },
 "nbformat": 4,
 "nbformat_minor": 5
}
