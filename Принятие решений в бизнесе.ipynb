{
 "cells": [
  {
   "cell_type": "markdown",
   "metadata": {},
   "source": [
    "<span style=\"font-size:15pt;\">ПРОЕКТ: принятие решений в бизнесе</span>"
   ]
  },
  {
   "cell_type": "markdown",
   "metadata": {},
   "source": [
    "#### Описание"
   ]
  },
  {
   "cell_type": "markdown",
   "metadata": {},
   "source": [
    "Я аналитик крупного интернет-магазина. Вместе с отделом маркетинга я подготовила список гипотез для увеличения выручки.\n",
    "Нужно приоритизировать гипотезы, запустить A/B-тест и проанализировать результаты. Нужно построить графики, чтобы сравнить результаты тестов, посчитать статистическую значимость между группами данных, посмотреть, насколько различаются сырые данные и данные, очищенные от выбросов."
   ]
  },
  {
   "cell_type": "markdown",
   "metadata": {},
   "source": [
    "Описание данных\n",
    "\n",
    "Данные для первой части:\n",
    "Файл hypothesis\n",
    "- `Hypothesis` — краткое описание гипотезы;\n",
    "- `Reach` — охват пользователей по 10-балльной шкале;\n",
    "- `Impact` — влияние на пользователей по 10-балльной шкале;\n",
    "- `Confidence` — уверенность в гипотезе по 10-балльной шкале;\n",
    "- `Efforts` — затраты ресурсов на проверку гипотезы по 10-балльной шкале. Чем больше значение Efforts, тем дороже проверка гипотезы.\n",
    "\n",
    "\n",
    "Данные для второй части\n",
    "Файл orders\n",
    "- `transactionId` — идентификатор заказа;\n",
    "- `visitorId` — идентификатор пользователя, совершившего заказ;\n",
    "- `date` — дата, когда был совершён заказ;\n",
    "- `revenue` — выручка заказа;\n",
    "- `group` — группа A/B-теста, в которую попал заказ.\n",
    "\n",
    "Файл visitors\n",
    "- `date` — дата;\n",
    "- `group` — группа A/B-теста;\n",
    "- `visitors` — количество пользователей в указанную дату в указанной группе A/B-теста\n"
   ]
  },
  {
   "cell_type": "markdown",
   "metadata": {},
   "source": [
    "#### Подгружаю библиотеки"
   ]
  },
  {
   "cell_type": "code",
   "execution_count": 1,
   "metadata": {},
   "outputs": [],
   "source": [
    "import pandas as pd\n",
    "import numpy as np\n",
    "import matplotlib.pyplot as plt\n",
    "import scipy.stats as stats\n",
    "import warnings\n",
    "import seaborn as sns"
   ]
  },
  {
   "cell_type": "markdown",
   "metadata": {},
   "source": [
    "#### Загружаю датафреймы"
   ]
  },
  {
   "cell_type": "code",
   "execution_count": 2,
   "metadata": {},
   "outputs": [],
   "source": [
    "hypothesis = pd.read_csv('/datasets/hypothesis.csv')"
   ]
  },
  {
   "cell_type": "code",
   "execution_count": 3,
   "metadata": {},
   "outputs": [],
   "source": [
    "orders = pd.read_csv('/datasets/orders.csv')"
   ]
  },
  {
   "cell_type": "code",
   "execution_count": 4,
   "metadata": {},
   "outputs": [],
   "source": [
    "visitors = pd.read_csv('/datasets/visitors.csv')"
   ]
  },
  {
   "cell_type": "code",
   "execution_count": 5,
   "metadata": {
    "scrolled": false
   },
   "outputs": [
    {
     "name": "stdout",
     "output_type": "stream",
     "text": [
      "Info for DataFrame hypothesis:\n",
      "\n",
      "<class 'pandas.core.frame.DataFrame'>\n",
      "RangeIndex: 9 entries, 0 to 8\n",
      "Data columns (total 5 columns):\n",
      " #   Column      Non-Null Count  Dtype \n",
      "---  ------      --------------  ----- \n",
      " 0   Hypothesis  9 non-null      object\n",
      " 1   Reach       9 non-null      int64 \n",
      " 2   Impact      9 non-null      int64 \n",
      " 3   Confidence  9 non-null      int64 \n",
      " 4   Efforts     9 non-null      int64 \n",
      "dtypes: int64(4), object(1)\n",
      "memory usage: 488.0+ bytes\n",
      "\n",
      "==================================================\n",
      "\n",
      "Describe for DataFrame hypothesis:\n",
      "\n",
      "           Reach     Impact  Confidence    Efforts\n",
      "count   9.000000   9.000000    9.000000   9.000000\n",
      "mean    4.777778   4.777778    5.555556   4.888889\n",
      "std     3.153481   3.192874    3.045944   2.803767\n",
      "min     1.000000   1.000000    1.000000   1.000000\n",
      "25%     3.000000   3.000000    3.000000   3.000000\n",
      "50%     3.000000   3.000000    7.000000   5.000000\n",
      "75%     8.000000   7.000000    8.000000   6.000000\n",
      "max    10.000000  10.000000    9.000000  10.000000\n",
      "\n",
      "==================================================\n",
      "\n",
      "Missing Values in DataFrame hypothesis:\n",
      "\n",
      "Hypothesis    0\n",
      "Reach         0\n",
      "Impact        0\n",
      "Confidence    0\n",
      "Efforts       0\n",
      "dtype: int64\n",
      "\n",
      "==================================================\n",
      "\n",
      "Head of DataFrame hypothesis:\n",
      "\n",
      "                                          Hypothesis  Reach  Impact  \\\n",
      "0  Добавить два новых канала привлечения трафика,...      3      10   \n",
      "1  Запустить собственную службу доставки, что сок...      2       5   \n",
      "2  Добавить блоки рекомендаций товаров на сайт ин...      8       3   \n",
      "3  Изменить структура категорий, что увеличит кон...      8       3   \n",
      "4  Изменить цвет фона главной страницы, чтобы уве...      3       1   \n",
      "\n",
      "   Confidence  Efforts  \n",
      "0           8        6  \n",
      "1           4       10  \n",
      "2           7        3  \n",
      "3           3        8  \n",
      "4           1        1  \n",
      "\n",
      "==================================================\n",
      "\n",
      "Info for DataFrame orders:\n",
      "\n",
      "<class 'pandas.core.frame.DataFrame'>\n",
      "RangeIndex: 1197 entries, 0 to 1196\n",
      "Data columns (total 5 columns):\n",
      " #   Column         Non-Null Count  Dtype \n",
      "---  ------         --------------  ----- \n",
      " 0   transactionId  1197 non-null   int64 \n",
      " 1   visitorId      1197 non-null   int64 \n",
      " 2   date           1197 non-null   object\n",
      " 3   revenue        1197 non-null   int64 \n",
      " 4   group          1197 non-null   object\n",
      "dtypes: int64(3), object(2)\n",
      "memory usage: 46.9+ KB\n",
      "\n",
      "==================================================\n",
      "\n",
      "Describe for DataFrame orders:\n",
      "\n",
      "       transactionId     visitorId       revenue\n",
      "count   1.197000e+03  1.197000e+03  1.197000e+03\n",
      "mean    2.155621e+09  2.165960e+09  8.348006e+03\n",
      "std     1.229085e+09  1.236014e+09  3.919113e+04\n",
      "min     1.062393e+06  5.114589e+06  5.000000e+01\n",
      "25%     1.166776e+09  1.111826e+09  1.220000e+03\n",
      "50%     2.145194e+09  2.217985e+09  2.978000e+03\n",
      "75%     3.237740e+09  3.177606e+09  8.290000e+03\n",
      "max     4.293856e+09  4.283872e+09  1.294500e+06\n",
      "\n",
      "==================================================\n",
      "\n",
      "Missing Values in DataFrame orders:\n",
      "\n",
      "transactionId    0\n",
      "visitorId        0\n",
      "date             0\n",
      "revenue          0\n",
      "group            0\n",
      "dtype: int64\n",
      "\n",
      "==================================================\n",
      "\n",
      "Head of DataFrame orders:\n",
      "\n",
      "   transactionId   visitorId        date  revenue group\n",
      "0     3667963787  3312258926  2019-08-15     1650     B\n",
      "1     2804400009  3642806036  2019-08-15      730     B\n",
      "2     2961555356  4069496402  2019-08-15      400     A\n",
      "3     3797467345  1196621759  2019-08-15     9759     B\n",
      "4     2282983706  2322279887  2019-08-15     2308     B\n",
      "\n",
      "==================================================\n",
      "\n",
      "Info for DataFrame visitors:\n",
      "\n",
      "<class 'pandas.core.frame.DataFrame'>\n",
      "RangeIndex: 62 entries, 0 to 61\n",
      "Data columns (total 3 columns):\n",
      " #   Column    Non-Null Count  Dtype \n",
      "---  ------    --------------  ----- \n",
      " 0   date      62 non-null     object\n",
      " 1   group     62 non-null     object\n",
      " 2   visitors  62 non-null     int64 \n",
      "dtypes: int64(1), object(2)\n",
      "memory usage: 1.6+ KB\n",
      "\n",
      "==================================================\n",
      "\n",
      "Describe for DataFrame visitors:\n",
      "\n",
      "         visitors\n",
      "count   62.000000\n",
      "mean   607.290323\n",
      "std    114.400560\n",
      "min    361.000000\n",
      "25%    534.000000\n",
      "50%    624.500000\n",
      "75%    710.500000\n",
      "max    770.000000\n",
      "\n",
      "==================================================\n",
      "\n",
      "Missing Values in DataFrame visitors:\n",
      "\n",
      "date        0\n",
      "group       0\n",
      "visitors    0\n",
      "dtype: int64\n",
      "\n",
      "==================================================\n",
      "\n",
      "Head of DataFrame visitors:\n",
      "\n",
      "         date group  visitors\n",
      "0  2019-08-01     A       719\n",
      "1  2019-08-02     A       619\n",
      "2  2019-08-03     A       507\n",
      "3  2019-08-04     A       717\n",
      "4  2019-08-05     A       756\n",
      "\n",
      "==================================================\n",
      "\n"
     ]
    }
   ],
   "source": [
    "def analyze_dataframes(dataframes):\n",
    "    for df_name, df in dataframes.items():\n",
    "        \n",
    "        # Вывожу инфо о каждом датафрейме\n",
    "        print(f\"Info for DataFrame {df_name}:\\n\")\n",
    "        df.info()\n",
    "        print(\"\\n\" + \"=\"*50 + \"\\n\")  # Для разделения вывода\n",
    "\n",
    "        # Вывожу describe для каждого датафрейма\n",
    "        print(f\"Describe for DataFrame {df_name}:\\n\")\n",
    "        print(df.describe())\n",
    "        print(\"\\n\" + \"=\"*50 + \"\\n\")  # Для разделения вывода\n",
    "\n",
    "        # Считаю количество пропущенных значений\n",
    "        print(f\"Missing Values in DataFrame {df_name}:\\n\")\n",
    "        missing_values = df.isnull().sum()\n",
    "        print(missing_values)\n",
    "        print(\"\\n\" + \"=\"*50 + \"\\n\")  # Для разделения вывода\n",
    "\n",
    "        # Вывожу первые строки датафрейма\n",
    "        print(f\"Head of DataFrame {df_name}:\\n\")\n",
    "        print(df.head())\n",
    "        print(\"\\n\" + \"=\"*50 + \"\\n\")  # Для разделения вывода\n",
    "\n",
    "# Делаю словарь с датафреймами\n",
    "dataframes = {\n",
    "    \"hypothesis\": hypothesis,\n",
    "    \"orders\": orders,\n",
    "    \"visitors\": visitors\n",
    "}\n",
    "\n",
    "# Вызываю функцию\n",
    "analyze_dataframes(dataframes)"
   ]
  },
  {
   "cell_type": "markdown",
   "metadata": {},
   "source": [
    "Все норм, пропусков в датафреймах нет, тип данных почти везде ок, нужно только дату будет поменять с object на datetime"
   ]
  },
  {
   "cell_type": "markdown",
   "metadata": {},
   "source": [
    "####  Приоритизация гипотез"
   ]
  },
  {
   "cell_type": "markdown",
   "metadata": {},
   "source": [
    "##### Применю фреймворк ICE для приоритизации гипотез. Отсортирую их по убыванию приоритета."
   ]
  },
  {
   "cell_type": "code",
   "execution_count": 6,
   "metadata": {},
   "outputs": [],
   "source": [
    "pd.set_option('display.max_colwidth', False)"
   ]
  },
  {
   "cell_type": "code",
   "execution_count": 7,
   "metadata": {},
   "outputs": [],
   "source": [
    "hypothesis['ICE'] = hypothesis['Impact'] * hypothesis['Confidence'] / hypothesis['Efforts']"
   ]
  },
  {
   "cell_type": "code",
   "execution_count": 8,
   "metadata": {},
   "outputs": [],
   "source": [
    "hypothesis_ice = hypothesis[['Hypothesis', 'ICE']].sort_values(by='ICE', ascending=False)"
   ]
  },
  {
   "cell_type": "code",
   "execution_count": 9,
   "metadata": {},
   "outputs": [
    {
     "data": {
      "text/html": [
       "<div>\n",
       "<style scoped>\n",
       "    .dataframe tbody tr th:only-of-type {\n",
       "        vertical-align: middle;\n",
       "    }\n",
       "\n",
       "    .dataframe tbody tr th {\n",
       "        vertical-align: top;\n",
       "    }\n",
       "\n",
       "    .dataframe thead th {\n",
       "        text-align: right;\n",
       "    }\n",
       "</style>\n",
       "<table border=\"1\" class=\"dataframe\">\n",
       "  <thead>\n",
       "    <tr style=\"text-align: right;\">\n",
       "      <th></th>\n",
       "      <th>Hypothesis</th>\n",
       "      <th>ICE</th>\n",
       "    </tr>\n",
       "  </thead>\n",
       "  <tbody>\n",
       "    <tr>\n",
       "      <th>8</th>\n",
       "      <td>Запустить акцию, дающую скидку на товар в день рождения</td>\n",
       "      <td>16.20</td>\n",
       "    </tr>\n",
       "    <tr>\n",
       "      <th>0</th>\n",
       "      <td>Добавить два новых канала привлечения трафика, что позволит привлекать на 30% больше пользователей</td>\n",
       "      <td>13.33</td>\n",
       "    </tr>\n",
       "    <tr>\n",
       "      <th>7</th>\n",
       "      <td>Добавить форму подписки на все основные страницы, чтобы собрать базу клиентов для email-рассылок</td>\n",
       "      <td>11.20</td>\n",
       "    </tr>\n",
       "    <tr>\n",
       "      <th>6</th>\n",
       "      <td>Показать на главной странице баннеры с актуальными акциями и распродажами, чтобы увеличить конверсию</td>\n",
       "      <td>8.00</td>\n",
       "    </tr>\n",
       "    <tr>\n",
       "      <th>2</th>\n",
       "      <td>Добавить блоки рекомендаций товаров на сайт интернет магазина, чтобы повысить конверсию и средний чек заказа</td>\n",
       "      <td>7.00</td>\n",
       "    </tr>\n",
       "    <tr>\n",
       "      <th>1</th>\n",
       "      <td>Запустить собственную службу доставки, что сократит срок доставки заказов</td>\n",
       "      <td>2.00</td>\n",
       "    </tr>\n",
       "    <tr>\n",
       "      <th>5</th>\n",
       "      <td>Добавить страницу отзывов клиентов о магазине, что позволит увеличить количество заказов</td>\n",
       "      <td>1.33</td>\n",
       "    </tr>\n",
       "    <tr>\n",
       "      <th>3</th>\n",
       "      <td>Изменить структура категорий, что увеличит конверсию, т.к. пользователи быстрее найдут нужный товар</td>\n",
       "      <td>1.12</td>\n",
       "    </tr>\n",
       "    <tr>\n",
       "      <th>4</th>\n",
       "      <td>Изменить цвет фона главной страницы, чтобы увеличить вовлеченность пользователей</td>\n",
       "      <td>1.00</td>\n",
       "    </tr>\n",
       "  </tbody>\n",
       "</table>\n",
       "</div>"
      ],
      "text/plain": [
       "                                                                                                     Hypothesis  \\\n",
       "8  Запустить акцию, дающую скидку на товар в день рождения                                                        \n",
       "0  Добавить два новых канала привлечения трафика, что позволит привлекать на 30% больше пользователей             \n",
       "7  Добавить форму подписки на все основные страницы, чтобы собрать базу клиентов для email-рассылок               \n",
       "6  Показать на главной странице баннеры с актуальными акциями и распродажами, чтобы увеличить конверсию           \n",
       "2  Добавить блоки рекомендаций товаров на сайт интернет магазина, чтобы повысить конверсию и средний чек заказа   \n",
       "1  Запустить собственную службу доставки, что сократит срок доставки заказов                                      \n",
       "5  Добавить страницу отзывов клиентов о магазине, что позволит увеличить количество заказов                       \n",
       "3  Изменить структура категорий, что увеличит конверсию, т.к. пользователи быстрее найдут нужный товар            \n",
       "4  Изменить цвет фона главной страницы, чтобы увеличить вовлеченность пользователей                               \n",
       "\n",
       "     ICE  \n",
       "8  16.20  \n",
       "0  13.33  \n",
       "7  11.20  \n",
       "6  8.00   \n",
       "2  7.00   \n",
       "1  2.00   \n",
       "5  1.33   \n",
       "3  1.12   \n",
       "4  1.00   "
      ]
     },
     "execution_count": 9,
     "metadata": {},
     "output_type": "execute_result"
    }
   ],
   "source": [
    "hypothesis_ice.round(2)"
   ]
  },
  {
   "cell_type": "markdown",
   "metadata": {},
   "source": [
    "- Здесь вижу, что <b> на первом месте акция, дающая скидку на товар в ДР</b>. Видимо, скидки - это один из самых привлекательных инструментов. \n",
    "- <b>На последнем месте - изменение цвета фона главной страницы</b>. Ну да, скидки кажутся (и есть) более привлекательными"
   ]
  },
  {
   "cell_type": "markdown",
   "metadata": {},
   "source": [
    "##### Применю фреймворк RICE для приоритизации гипотез. Отсортирую их по убыванию приоритета."
   ]
  },
  {
   "cell_type": "code",
   "execution_count": 10,
   "metadata": {},
   "outputs": [],
   "source": [
    "hypothesis['RICE'] = hypothesis['Reach'] * hypothesis['Impact'] * hypothesis['Confidence'] / hypothesis['Efforts']\n",
    "hypothesis_rice = hypothesis[['Hypothesis', 'RICE']].sort_values(by='RICE', ascending=False)"
   ]
  },
  {
   "cell_type": "code",
   "execution_count": 11,
   "metadata": {},
   "outputs": [
    {
     "data": {
      "text/html": [
       "<div>\n",
       "<style scoped>\n",
       "    .dataframe tbody tr th:only-of-type {\n",
       "        vertical-align: middle;\n",
       "    }\n",
       "\n",
       "    .dataframe tbody tr th {\n",
       "        vertical-align: top;\n",
       "    }\n",
       "\n",
       "    .dataframe thead th {\n",
       "        text-align: right;\n",
       "    }\n",
       "</style>\n",
       "<table border=\"1\" class=\"dataframe\">\n",
       "  <thead>\n",
       "    <tr style=\"text-align: right;\">\n",
       "      <th></th>\n",
       "      <th>Hypothesis</th>\n",
       "      <th>RICE</th>\n",
       "    </tr>\n",
       "  </thead>\n",
       "  <tbody>\n",
       "    <tr>\n",
       "      <th>7</th>\n",
       "      <td>Добавить форму подписки на все основные страницы, чтобы собрать базу клиентов для email-рассылок</td>\n",
       "      <td>112.0</td>\n",
       "    </tr>\n",
       "    <tr>\n",
       "      <th>2</th>\n",
       "      <td>Добавить блоки рекомендаций товаров на сайт интернет магазина, чтобы повысить конверсию и средний чек заказа</td>\n",
       "      <td>56.0</td>\n",
       "    </tr>\n",
       "    <tr>\n",
       "      <th>0</th>\n",
       "      <td>Добавить два новых канала привлечения трафика, что позволит привлекать на 30% больше пользователей</td>\n",
       "      <td>40.0</td>\n",
       "    </tr>\n",
       "    <tr>\n",
       "      <th>6</th>\n",
       "      <td>Показать на главной странице баннеры с актуальными акциями и распродажами, чтобы увеличить конверсию</td>\n",
       "      <td>40.0</td>\n",
       "    </tr>\n",
       "    <tr>\n",
       "      <th>8</th>\n",
       "      <td>Запустить акцию, дающую скидку на товар в день рождения</td>\n",
       "      <td>16.2</td>\n",
       "    </tr>\n",
       "    <tr>\n",
       "      <th>3</th>\n",
       "      <td>Изменить структура категорий, что увеличит конверсию, т.к. пользователи быстрее найдут нужный товар</td>\n",
       "      <td>9.0</td>\n",
       "    </tr>\n",
       "    <tr>\n",
       "      <th>1</th>\n",
       "      <td>Запустить собственную службу доставки, что сократит срок доставки заказов</td>\n",
       "      <td>4.0</td>\n",
       "    </tr>\n",
       "    <tr>\n",
       "      <th>5</th>\n",
       "      <td>Добавить страницу отзывов клиентов о магазине, что позволит увеличить количество заказов</td>\n",
       "      <td>4.0</td>\n",
       "    </tr>\n",
       "    <tr>\n",
       "      <th>4</th>\n",
       "      <td>Изменить цвет фона главной страницы, чтобы увеличить вовлеченность пользователей</td>\n",
       "      <td>3.0</td>\n",
       "    </tr>\n",
       "  </tbody>\n",
       "</table>\n",
       "</div>"
      ],
      "text/plain": [
       "                                                                                                     Hypothesis  \\\n",
       "7  Добавить форму подписки на все основные страницы, чтобы собрать базу клиентов для email-рассылок               \n",
       "2  Добавить блоки рекомендаций товаров на сайт интернет магазина, чтобы повысить конверсию и средний чек заказа   \n",
       "0  Добавить два новых канала привлечения трафика, что позволит привлекать на 30% больше пользователей             \n",
       "6  Показать на главной странице баннеры с актуальными акциями и распродажами, чтобы увеличить конверсию           \n",
       "8  Запустить акцию, дающую скидку на товар в день рождения                                                        \n",
       "3  Изменить структура категорий, что увеличит конверсию, т.к. пользователи быстрее найдут нужный товар            \n",
       "1  Запустить собственную службу доставки, что сократит срок доставки заказов                                      \n",
       "5  Добавить страницу отзывов клиентов о магазине, что позволит увеличить количество заказов                       \n",
       "4  Изменить цвет фона главной страницы, чтобы увеличить вовлеченность пользователей                               \n",
       "\n",
       "    RICE  \n",
       "7  112.0  \n",
       "2  56.0   \n",
       "0  40.0   \n",
       "6  40.0   \n",
       "8  16.2   \n",
       "3  9.0    \n",
       "1  4.0    \n",
       "5  4.0    \n",
       "4  3.0    "
      ]
     },
     "execution_count": 11,
     "metadata": {},
     "output_type": "execute_result"
    }
   ],
   "source": [
    "hypothesis_rice"
   ]
  },
  {
   "cell_type": "markdown",
   "metadata": {},
   "source": [
    "##### Как изменилась приоритизация гипотез при применении RICE вместо ICE, почему так произошло?"
   ]
  },
  {
   "cell_type": "markdown",
   "metadata": {},
   "source": [
    "- Произошли перестановки в топ-5 гипотез, но этот топ сохранился прежним. \n",
    "- Гипотеза 7 переместилась на 1-е место из-за того, что reach у нее самый высокий, и это добавило \"очков\" при расчетах. \n",
    "- Гипотеза 2 поднялась на 2 место опять же по причине высокого reach близок к 0, и тогда даже самая эффективная гипотеза не совсем оправдает ожидания, если ее применить на практике.\n",
    "- Цвет фона, кстати, так и остался на последнем месте) "
   ]
  },
  {
   "cell_type": "markdown",
   "metadata": {},
   "source": [
    "#### Анализ A/B-теста"
   ]
  },
  {
   "cell_type": "markdown",
   "metadata": {},
   "source": [
    "переведу дату в orders формат datetime"
   ]
  },
  {
   "cell_type": "code",
   "execution_count": 12,
   "metadata": {},
   "outputs": [],
   "source": [
    "orders['date'] = pd.to_datetime(orders['date'])"
   ]
  },
  {
   "cell_type": "markdown",
   "metadata": {},
   "source": [
    "переведу дату в visitors в формат datetime"
   ]
  },
  {
   "cell_type": "code",
   "execution_count": 13,
   "metadata": {},
   "outputs": [],
   "source": [
    "visitors['date'] = pd.to_datetime(visitors['date'])"
   ]
  },
  {
   "cell_type": "code",
   "execution_count": 14,
   "metadata": {},
   "outputs": [
    {
     "data": {
      "text/plain": [
       "array(['B', 'A'], dtype=object)"
      ]
     },
     "execution_count": 14,
     "metadata": {},
     "output_type": "execute_result"
    }
   ],
   "source": [
    "orders['group'].unique()"
   ]
  },
  {
   "cell_type": "markdown",
   "metadata": {},
   "source": [
    "В тесте у нас две группы - А и В."
   ]
  },
  {
   "cell_type": "code",
   "execution_count": 15,
   "metadata": {},
   "outputs": [],
   "source": [
    "start_date = orders['date'].min()\n",
    "end_date = orders['date'].max()"
   ]
  },
  {
   "cell_type": "code",
   "execution_count": 16,
   "metadata": {},
   "outputs": [
    {
     "name": "stdout",
     "output_type": "stream",
     "text": [
      "Дата начала теста: 2019-08-01 00:00:00\n",
      "Дата окончания теста: 2019-08-31 00:00:00\n"
     ]
    }
   ],
   "source": [
    "print(f\"Дата начала теста: {start_date}\")\n",
    "print(f\"Дата окончания теста: {end_date}\")"
   ]
  },
  {
   "cell_type": "markdown",
   "metadata": {},
   "source": [
    "Посмотрим, не попадают ли пользователи в обе группы"
   ]
  },
  {
   "cell_type": "code",
   "execution_count": 17,
   "metadata": {},
   "outputs": [
    {
     "name": "stdout",
     "output_type": "stream",
     "text": [
      "Пользователи, попавшие в обе группы в разных заказах:\n",
      "visitorId\n",
      "8300375       2\n",
      "199603092     2\n",
      "232979603     2\n",
      "237748145     2\n",
      "276558944     2\n",
      "351125977     2\n",
      "393266494     2\n",
      "457167155     2\n",
      "471551937     2\n",
      "477780734     2\n",
      "818047933     2\n",
      "963407295     2\n",
      "1230306981    2\n",
      "1294878855    2\n",
      "1316129916    2\n",
      "1333886533    2\n",
      "1404934699    2\n",
      "1602967004    2\n",
      "1614305549    2\n",
      "1648269707    2\n",
      "1668030113    2\n",
      "1738359350    2\n",
      "1801183820    2\n",
      "1959144690    2\n",
      "2038680547    2\n",
      "2044997962    2\n",
      "2378935119    2\n",
      "2458001652    2\n",
      "2579882178    2\n",
      "2587333274    2\n",
      "2600415354    2\n",
      "2654030115    2\n",
      "2686716486    2\n",
      "2712142231    2\n",
      "2716752286    2\n",
      "2780786433    2\n",
      "2927087541    2\n",
      "2949041841    2\n",
      "2954449915    2\n",
      "3062433592    2\n",
      "3202540741    2\n",
      "3234906277    2\n",
      "3656415546    2\n",
      "3717692402    2\n",
      "3766097110    2\n",
      "3803269165    2\n",
      "3891541246    2\n",
      "3941795274    2\n",
      "3951559397    2\n",
      "3957174400    2\n",
      "3963646447    2\n",
      "3972127743    2\n",
      "3984495233    2\n",
      "4069496402    2\n",
      "4120364173    2\n",
      "4186807279    2\n",
      "4256040402    2\n",
      "4266935830    2\n",
      "Name: group, dtype: int64\n"
     ]
    }
   ],
   "source": [
    "visitor_group_counts = orders.groupby('visitorId')['group'].nunique()\n",
    "\n",
    "# Выбираю пользователей, у которых более одной уникальной группы\n",
    "users_in_multiple_groups = visitor_group_counts[visitor_group_counts > 1]\n",
    "\n",
    "# Вывожу информацию о пользователях, попавших в обе группы в разных заказах\n",
    "if not users_in_multiple_groups.empty:\n",
    "    print(\"Пользователи, попавшие в обе группы в разных заказах:\")\n",
    "    print(users_in_multiple_groups)\n",
    "else:\n",
    "    print(\"Нет пользователей, попавших в обе группы в разных заказах.\")"
   ]
  },
  {
   "cell_type": "markdown",
   "metadata": {},
   "source": [
    "ага, интересно, и вот что мне с ними делать? \n",
    "логично было бы их все удалить, ведь мы не знаем, в какой группе тот или иной юзер точно состоял...\n",
    "тогда, получается, этих юзеров нужно удалять и из orders и из visitors... покажу как я это сделала бы в следующей ячейке в NBconvert"
   ]
  },
  {
   "cell_type": "raw",
   "metadata": {},
   "source": [
    "# Получаю список пользователей, попавших в обе группы в разных заказах\n",
    "users_to_remove = users_in_multiple_groups.index.tolist()\n",
    "\n",
    "# Фильтрую DataFrame orders, оставляя только тех пользователей, которые не входят в список для удаления\n",
    "orders_filtered = orders[~orders['visitor_id'].isin(users_to_remove)]\n",
    "\n",
    "# Фильтрую DataFrame visitors аналогичным образом\n",
    "visitors_filtered = visitors[~visitors['visitor_id'].isin(users_to_remove)]\n"
   ]
  },
  {
   "cell_type": "markdown",
   "metadata": {},
   "source": [
    "Чтобы построить графики, нужно собрать кумулятивные данные"
   ]
  },
  {
   "cell_type": "code",
   "execution_count": 18,
   "metadata": {},
   "outputs": [],
   "source": [
    "# создаю массив уникальных пар значений дат и групп теста\n",
    "datesGroups = orders[['date','group']].drop_duplicates() "
   ]
  },
  {
   "cell_type": "markdown",
   "metadata": {},
   "source": [
    "Нужно собрать кумулятивные по дням данные о заказах "
   ]
  },
  {
   "cell_type": "code",
   "execution_count": 19,
   "metadata": {},
   "outputs": [],
   "source": [
    "ordersAggregated = datesGroups.apply(lambda x: orders[np.logical_and(orders['date'] <= x['date'], \n",
    "                                                                     orders['group'] == x['group'])]\\\n",
    ".agg({'date' : 'max', 'group' : 'max', 'transactionId' : 'nunique', \n",
    "      'visitorId' : 'nunique', 'revenue' : 'sum'}), axis=1).sort_values(by=['date','group']) "
   ]
  },
  {
   "cell_type": "markdown",
   "metadata": {},
   "source": [
    "Аналогично получаю агрегированные кумулятивные по дням данные о посетителях "
   ]
  },
  {
   "cell_type": "code",
   "execution_count": 20,
   "metadata": {},
   "outputs": [],
   "source": [
    "visitorsAggregated = datesGroups.apply(lambda x: visitors[np.logical_and(visitors['date'] <= x['date'], \n",
    "                                                                         visitors['group'] == x['group'])]\n",
    "                                       .agg({'date' : 'max', 'group' : 'max', 'visitors' : 'sum'}), \n",
    "                                       axis=1).sort_values(by=['date','group']) "
   ]
  },
  {
   "cell_type": "markdown",
   "metadata": {},
   "source": [
    "Объединяю кумулятивные данные в одной таблице и присваиваю ее столбцам понятные названия"
   ]
  },
  {
   "cell_type": "code",
   "execution_count": 21,
   "metadata": {},
   "outputs": [],
   "source": [
    "cumulativeData = ordersAggregated.merge(visitorsAggregated, left_on=['date', 'group'], \n",
    "                                        right_on=['date', 'group'])\n",
    "cumulativeData.columns = ['date', 'group', 'orders', 'buyers', 'revenue', 'visitors']"
   ]
  },
  {
   "cell_type": "code",
   "execution_count": 22,
   "metadata": {
    "scrolled": true
   },
   "outputs": [
    {
     "data": {
      "text/html": [
       "<div>\n",
       "<style scoped>\n",
       "    .dataframe tbody tr th:only-of-type {\n",
       "        vertical-align: middle;\n",
       "    }\n",
       "\n",
       "    .dataframe tbody tr th {\n",
       "        vertical-align: top;\n",
       "    }\n",
       "\n",
       "    .dataframe thead th {\n",
       "        text-align: right;\n",
       "    }\n",
       "</style>\n",
       "<table border=\"1\" class=\"dataframe\">\n",
       "  <thead>\n",
       "    <tr style=\"text-align: right;\">\n",
       "      <th></th>\n",
       "      <th>date</th>\n",
       "      <th>group</th>\n",
       "      <th>orders</th>\n",
       "      <th>buyers</th>\n",
       "      <th>revenue</th>\n",
       "      <th>visitors</th>\n",
       "    </tr>\n",
       "  </thead>\n",
       "  <tbody>\n",
       "    <tr>\n",
       "      <th>0</th>\n",
       "      <td>2019-08-01</td>\n",
       "      <td>A</td>\n",
       "      <td>24</td>\n",
       "      <td>20</td>\n",
       "      <td>148579</td>\n",
       "      <td>719</td>\n",
       "    </tr>\n",
       "    <tr>\n",
       "      <th>1</th>\n",
       "      <td>2019-08-01</td>\n",
       "      <td>B</td>\n",
       "      <td>21</td>\n",
       "      <td>20</td>\n",
       "      <td>101217</td>\n",
       "      <td>713</td>\n",
       "    </tr>\n",
       "    <tr>\n",
       "      <th>2</th>\n",
       "      <td>2019-08-02</td>\n",
       "      <td>A</td>\n",
       "      <td>44</td>\n",
       "      <td>38</td>\n",
       "      <td>242401</td>\n",
       "      <td>1338</td>\n",
       "    </tr>\n",
       "    <tr>\n",
       "      <th>3</th>\n",
       "      <td>2019-08-02</td>\n",
       "      <td>B</td>\n",
       "      <td>45</td>\n",
       "      <td>43</td>\n",
       "      <td>266748</td>\n",
       "      <td>1294</td>\n",
       "    </tr>\n",
       "    <tr>\n",
       "      <th>4</th>\n",
       "      <td>2019-08-03</td>\n",
       "      <td>A</td>\n",
       "      <td>68</td>\n",
       "      <td>62</td>\n",
       "      <td>354874</td>\n",
       "      <td>1845</td>\n",
       "    </tr>\n",
       "  </tbody>\n",
       "</table>\n",
       "</div>"
      ],
      "text/plain": [
       "        date group  orders  buyers  revenue  visitors\n",
       "0 2019-08-01  A     24      20      148579   719     \n",
       "1 2019-08-01  B     21      20      101217   713     \n",
       "2 2019-08-02  A     44      38      242401   1338    \n",
       "3 2019-08-02  B     45      43      266748   1294    \n",
       "4 2019-08-03  A     68      62      354874   1845    "
      ]
     },
     "execution_count": 22,
     "metadata": {},
     "output_type": "execute_result"
    }
   ],
   "source": [
    "cumulativeData.head()"
   ]
  },
  {
   "cell_type": "code",
   "execution_count": 23,
   "metadata": {},
   "outputs": [
    {
     "name": "stdout",
     "output_type": "stream",
     "text": [
      "<class 'pandas.core.frame.DataFrame'>\n",
      "Int64Index: 62 entries, 0 to 61\n",
      "Data columns (total 6 columns):\n",
      " #   Column    Non-Null Count  Dtype         \n",
      "---  ------    --------------  -----         \n",
      " 0   date      62 non-null     datetime64[ns]\n",
      " 1   group     62 non-null     object        \n",
      " 2   orders    62 non-null     int64         \n",
      " 3   buyers    62 non-null     int64         \n",
      " 4   revenue   62 non-null     int64         \n",
      " 5   visitors  62 non-null     int64         \n",
      "dtypes: datetime64[ns](1), int64(4), object(1)\n",
      "memory usage: 3.4+ KB\n"
     ]
    }
   ],
   "source": [
    "cumulativeData.info()"
   ]
  },
  {
   "cell_type": "markdown",
   "metadata": {},
   "source": [
    "##### График кумулятивной выручки по группам. Выводы и предположения."
   ]
  },
  {
   "cell_type": "code",
   "execution_count": 24,
   "metadata": {},
   "outputs": [],
   "source": [
    "cumulativeRevenueA = cumulativeData[cumulativeData['group']=='A'][['date','revenue', 'orders']]"
   ]
  },
  {
   "cell_type": "code",
   "execution_count": 25,
   "metadata": {},
   "outputs": [],
   "source": [
    "cumulativeRevenueB = cumulativeData[cumulativeData['group']=='B'][['date','revenue', 'orders']]"
   ]
  },
  {
   "cell_type": "code",
   "execution_count": 26,
   "metadata": {},
   "outputs": [
    {
     "data": {
      "image/png": "[encoded data removed]",
      "text/plain": [
       "<Figure size 864x432 with 1 Axes>"
      ]
     },
     "metadata": {
      "needs_background": "light"
     },
     "output_type": "display_data"
    }
   ],
   "source": [
    "plt.figure(figsize=(12, 6))\n",
    "\n",
    "# График выручки группы A \n",
    "plt.plot(cumulativeRevenueA['date'], \n",
    "         cumulativeRevenueA['revenue'], \n",
    "         label='группа A', \n",
    "         color='pink', \n",
    "         linewidth=3)\n",
    "\n",
    "# График выручки группы B \n",
    "plt.plot(cumulativeRevenueB['date'], \n",
    "         cumulativeRevenueB['revenue'], \n",
    "         label='группа B', \n",
    "         color='skyblue', \n",
    "         linewidth=3)\n",
    "\n",
    "plt.title('Кумулятивная выручка по группам')\n",
    "plt.xlabel('Дата')\n",
    "plt.ylabel('Кумулятивная выручка')\n",
    "plt.legend()\n",
    "plt.ticklabel_format(axis = 'y', style = 'plain')\n",
    "plt.grid(True)\n",
    "\n",
    "plt.show()"
   ]
  },
  {
   "cell_type": "markdown",
   "metadata": {},
   "source": [
    "- Выручка на обоих графиках увеличивается в течение теста. \n",
    "- Но график группы В резко растет 19 августа. Это может говорить о всплесках числа заказов либо о появлении очень дорогих заказов в выборке. \n",
    "- глядя на этот график, я могу сказать, что кумулятивная выручка в группе В больше, чем в А, и группа В по этому показателю побеждает группу А. "
   ]
  },
  {
   "cell_type": "markdown",
   "metadata": {},
   "source": [
    "##### График кумулятивного среднего чека по группам. Выводы и предположения."
   ]
  },
  {
   "cell_type": "code",
   "execution_count": 27,
   "metadata": {},
   "outputs": [
    {
     "data": {
      "image/png": "[encoded data removed]",
      "text/plain": [
       "<Figure size 864x576 with 1 Axes>"
      ]
     },
     "metadata": {
      "needs_background": "light"
     },
     "output_type": "display_data"
    }
   ],
   "source": [
    "plt.figure(figsize=(12, 8)) \n",
    "\n",
    "# График кумулятивного среднего чека для группы A\n",
    "plt.plot(cumulativeRevenueA['date'], cumulativeRevenueA['revenue'] / \n",
    "         cumulativeRevenueA['orders'], label='группа A', color='pink', linewidth=3)\n",
    "\n",
    "# График кумулятивного среднего чека для группы B\n",
    "plt.plot(cumulativeRevenueB['date'], cumulativeRevenueB['revenue'] / \n",
    "         cumulativeRevenueB['orders'], label='группа B', color='skyblue', linewidth=3)\n",
    "\n",
    "plt.title('Кумулятивный средний чек по группам')\n",
    "plt.xlabel('Дата')\n",
    "plt.ylabel('Кумулятивный средний чек')\n",
    "plt.legend()\n",
    "plt.grid(True)  \n",
    "\n",
    "plt.show()"
   ]
  },
  {
   "cell_type": "markdown",
   "metadata": {},
   "source": [
    "- для группы А средний чек становится равномерным ближе к концу теста - линия более-менее прямая и есть небольшой рост\n",
    "- снова видим, что то, что случилось 19 августа, вызвало очень сильный рост на графике для группы В, затем значение начало падать и продолжило падать до конца теста"
   ]
  },
  {
   "cell_type": "markdown",
   "metadata": {},
   "source": [
    "##### График относительного изменения кумулятивного среднего чека группы B к группе A. Выводы и предположения."
   ]
  },
  {
   "cell_type": "code",
   "execution_count": 28,
   "metadata": {},
   "outputs": [
    {
     "data": {
      "image/png": "[encoded data removed]",
      "text/plain": [
       "<Figure size 864x576 with 1 Axes>"
      ]
     },
     "metadata": {
      "needs_background": "light"
     },
     "output_type": "display_data"
    }
   ],
   "source": [
    "plt.figure(figsize=(12, 8))\n",
    "\n",
    "# Собираю данные в одном датафрейме\n",
    "mergedCumulativeRevenue = cumulativeRevenueA.merge(cumulativeRevenueB, left_on='date', \n",
    "                                                   right_on='date', how='left', suffixes=['A', 'B'])\n",
    "\n",
    "# Строю отношение средних чеков с измененными параметрами\n",
    "plt.plot(mergedCumulativeRevenue['date'], \n",
    "         (mergedCumulativeRevenue['revenueB'] / mergedCumulativeRevenue['ordersB']) / \n",
    "         (mergedCumulativeRevenue['revenueA'] / mergedCumulativeRevenue['ordersA']) - 1,\n",
    "         color='lightgreen', label='Относительное изменение',  \n",
    "         linewidth=3  \n",
    "        )\n",
    "\n",
    "# Добавляю ось X\n",
    "plt.axhline(y=0, color='black', linestyle='--')\n",
    "\n",
    "plt.xticks(rotation=90)\n",
    "\n",
    "plt.title('Относительное изменение кумулятивного среднего чека группы B к группе A')\n",
    "plt.xlabel('Дата')\n",
    "plt.ylabel('Относительное изменение среднего чека')\n",
    "plt.grid(True)\n",
    "plt.legend()\n",
    "\n",
    "plt.show()\n"
   ]
  },
  {
   "cell_type": "markdown",
   "metadata": {},
   "source": [
    "- График скачет относительно нуля, но в целом я вижу, что средний чек в совокупности значений больше, чем у группы А\n",
    "- Снова надо обратить внимание на событие 19 августа - тут тоже скачок"
   ]
  },
  {
   "cell_type": "markdown",
   "metadata": {},
   "source": [
    "##### График кумулятивного среднего количества заказов на посетителя по группам. Выводы и предположения."
   ]
  },
  {
   "cell_type": "code",
   "execution_count": 29,
   "metadata": {},
   "outputs": [
    {
     "data": {
      "image/png": "[encoded data removed]",
      "text/plain": [
       "<Figure size 864x432 with 1 Axes>"
      ]
     },
     "metadata": {
      "needs_background": "light"
     },
     "output_type": "display_data"
    }
   ],
   "source": [
    "# Рассчитываю кумулятивное среднее количество заказов на посетителя для каждой группы\n",
    "cumulativeData['cumulative_avg_orders_per_visitor'] = cumulativeData['orders'] / cumulativeData['visitors']\n",
    "\n",
    "# Разделяю данные по группам\n",
    "groupA_data = cumulativeData[cumulativeData['group'] == 'A']\n",
    "groupB_data = cumulativeData[cumulativeData['group'] == 'B']\n",
    "\n",
    "plt.figure(figsize=(12, 6))\n",
    "plt.plot(groupA_data['date'], groupA_data['cumulative_avg_orders_per_visitor'], \n",
    "         label='Группа A', color='pink', linewidth=3)\n",
    "plt.plot(groupB_data['date'], groupB_data['cumulative_avg_orders_per_visitor'], \n",
    "         label='Группа B', color='skyblue', linewidth=3)\n",
    "\n",
    "plt.title('Кумулятивное среднее количество заказов на посетителя по группам')\n",
    "plt.xlabel('Дата')\n",
    "plt.ylabel('Кумулятивное среднее количество заказов на посетителя')\n",
    "plt.legend()\n",
    "plt.grid(True)\n",
    "\n",
    "plt.show()\n"
   ]
  },
  {
   "cell_type": "markdown",
   "metadata": {},
   "source": [
    "- группа В здесь снова превалирует после резкого скачка вверх начиная с 5 августа\n",
    "- получается, что у группы В кумулятивное среднее кол-во заказов на посетителя примерно на 20% больше, чем у А\n",
    "\n",
    "можно говорить о стабилизации результатов у обеих групп к концу теста"
   ]
  },
  {
   "cell_type": "markdown",
   "metadata": {},
   "source": [
    "##### График относительного изменения кумулятивного среднего количества заказов на посетителя группы B к группе A. Выводы и предположения."
   ]
  },
  {
   "cell_type": "code",
   "execution_count": 30,
   "metadata": {},
   "outputs": [
    {
     "data": {
      "text/html": [
       "<div>\n",
       "<style scoped>\n",
       "    .dataframe tbody tr th:only-of-type {\n",
       "        vertical-align: middle;\n",
       "    }\n",
       "\n",
       "    .dataframe tbody tr th {\n",
       "        vertical-align: top;\n",
       "    }\n",
       "\n",
       "    .dataframe thead th {\n",
       "        text-align: right;\n",
       "    }\n",
       "</style>\n",
       "<table border=\"1\" class=\"dataframe\">\n",
       "  <thead>\n",
       "    <tr style=\"text-align: right;\">\n",
       "      <th></th>\n",
       "      <th>date</th>\n",
       "      <th>group</th>\n",
       "      <th>orders</th>\n",
       "      <th>buyers</th>\n",
       "      <th>revenue</th>\n",
       "      <th>visitors</th>\n",
       "      <th>cumulative_avg_orders_per_visitor</th>\n",
       "    </tr>\n",
       "  </thead>\n",
       "  <tbody>\n",
       "    <tr>\n",
       "      <th>0</th>\n",
       "      <td>2019-08-01</td>\n",
       "      <td>A</td>\n",
       "      <td>24</td>\n",
       "      <td>20</td>\n",
       "      <td>148579</td>\n",
       "      <td>719</td>\n",
       "      <td>0.033380</td>\n",
       "    </tr>\n",
       "    <tr>\n",
       "      <th>1</th>\n",
       "      <td>2019-08-01</td>\n",
       "      <td>B</td>\n",
       "      <td>21</td>\n",
       "      <td>20</td>\n",
       "      <td>101217</td>\n",
       "      <td>713</td>\n",
       "      <td>0.029453</td>\n",
       "    </tr>\n",
       "    <tr>\n",
       "      <th>2</th>\n",
       "      <td>2019-08-02</td>\n",
       "      <td>A</td>\n",
       "      <td>44</td>\n",
       "      <td>38</td>\n",
       "      <td>242401</td>\n",
       "      <td>1338</td>\n",
       "      <td>0.032885</td>\n",
       "    </tr>\n",
       "    <tr>\n",
       "      <th>3</th>\n",
       "      <td>2019-08-02</td>\n",
       "      <td>B</td>\n",
       "      <td>45</td>\n",
       "      <td>43</td>\n",
       "      <td>266748</td>\n",
       "      <td>1294</td>\n",
       "      <td>0.034776</td>\n",
       "    </tr>\n",
       "    <tr>\n",
       "      <th>4</th>\n",
       "      <td>2019-08-03</td>\n",
       "      <td>A</td>\n",
       "      <td>68</td>\n",
       "      <td>62</td>\n",
       "      <td>354874</td>\n",
       "      <td>1845</td>\n",
       "      <td>0.036856</td>\n",
       "    </tr>\n",
       "    <tr>\n",
       "      <th>...</th>\n",
       "      <td>...</td>\n",
       "      <td>...</td>\n",
       "      <td>...</td>\n",
       "      <td>...</td>\n",
       "      <td>...</td>\n",
       "      <td>...</td>\n",
       "      <td>...</td>\n",
       "    </tr>\n",
       "    <tr>\n",
       "      <th>57</th>\n",
       "      <td>2019-08-29</td>\n",
       "      <td>B</td>\n",
       "      <td>596</td>\n",
       "      <td>544</td>\n",
       "      <td>5559398</td>\n",
       "      <td>17708</td>\n",
       "      <td>0.033657</td>\n",
       "    </tr>\n",
       "    <tr>\n",
       "      <th>58</th>\n",
       "      <td>2019-08-30</td>\n",
       "      <td>A</td>\n",
       "      <td>545</td>\n",
       "      <td>493</td>\n",
       "      <td>4022970</td>\n",
       "      <td>18037</td>\n",
       "      <td>0.030216</td>\n",
       "    </tr>\n",
       "    <tr>\n",
       "      <th>59</th>\n",
       "      <td>2019-08-30</td>\n",
       "      <td>B</td>\n",
       "      <td>620</td>\n",
       "      <td>567</td>\n",
       "      <td>5774631</td>\n",
       "      <td>18198</td>\n",
       "      <td>0.034070</td>\n",
       "    </tr>\n",
       "    <tr>\n",
       "      <th>60</th>\n",
       "      <td>2019-08-31</td>\n",
       "      <td>A</td>\n",
       "      <td>557</td>\n",
       "      <td>503</td>\n",
       "      <td>4084803</td>\n",
       "      <td>18736</td>\n",
       "      <td>0.029729</td>\n",
       "    </tr>\n",
       "    <tr>\n",
       "      <th>61</th>\n",
       "      <td>2019-08-31</td>\n",
       "      <td>B</td>\n",
       "      <td>640</td>\n",
       "      <td>586</td>\n",
       "      <td>5907760</td>\n",
       "      <td>18916</td>\n",
       "      <td>0.033834</td>\n",
       "    </tr>\n",
       "  </tbody>\n",
       "</table>\n",
       "<p>62 rows × 7 columns</p>\n",
       "</div>"
      ],
      "text/plain": [
       "         date group  orders  buyers  revenue  visitors  \\\n",
       "0  2019-08-01  A     24      20      148579   719        \n",
       "1  2019-08-01  B     21      20      101217   713        \n",
       "2  2019-08-02  A     44      38      242401   1338       \n",
       "3  2019-08-02  B     45      43      266748   1294       \n",
       "4  2019-08-03  A     68      62      354874   1845       \n",
       "..        ... ..     ..      ..         ...    ...       \n",
       "57 2019-08-29  B     596     544     5559398  17708      \n",
       "58 2019-08-30  A     545     493     4022970  18037      \n",
       "59 2019-08-30  B     620     567     5774631  18198      \n",
       "60 2019-08-31  A     557     503     4084803  18736      \n",
       "61 2019-08-31  B     640     586     5907760  18916      \n",
       "\n",
       "    cumulative_avg_orders_per_visitor  \n",
       "0   0.033380                           \n",
       "1   0.029453                           \n",
       "2   0.032885                           \n",
       "3   0.034776                           \n",
       "4   0.036856                           \n",
       "..       ...                           \n",
       "57  0.033657                           \n",
       "58  0.030216                           \n",
       "59  0.034070                           \n",
       "60  0.029729                           \n",
       "61  0.033834                           \n",
       "\n",
       "[62 rows x 7 columns]"
      ]
     },
     "execution_count": 30,
     "metadata": {},
     "output_type": "execute_result"
    }
   ],
   "source": [
    "cumulativeData"
   ]
  },
  {
   "cell_type": "code",
   "execution_count": 31,
   "metadata": {},
   "outputs": [
    {
     "data": {
      "image/png": "[encoded data removed]",
      "text/plain": [
       "<Figure size 864x432 with 1 Axes>"
      ]
     },
     "metadata": {
      "needs_background": "light"
     },
     "output_type": "display_data"
    }
   ],
   "source": [
    "# Рассчитываю кумулятивное среднее количество заказов на покупателя для каждой группы\n",
    "cumulativeData['cumulative_avg_orders_per_buyer'] = cumulativeData['orders'] / cumulativeData['visitors']\n",
    "\n",
    "# Разделяю данные по группам\n",
    "groupA_data = cumulativeData[cumulativeData['group'] == 'A']\n",
    "groupB_data = cumulativeData[cumulativeData['group'] == 'B']\n",
    "\n",
    "# Объединяю данные в одном датафрейме\n",
    "mergedCumulativeOrders = groupA_data[['date', 'cumulative_avg_orders_per_buyer']].merge(\n",
    "    groupB_data[['date', 'cumulative_avg_orders_per_buyer']], \n",
    "    left_on='date', \n",
    "    right_on='date', \n",
    "    how='left', \n",
    "    suffixes=['A', 'B']\n",
    ")\n",
    "\n",
    "plt.figure(figsize=(12, 6))\n",
    "plt.plot(mergedCumulativeOrders['date'], (mergedCumulativeOrders['cumulative_avg_orders_per_buyerB'] / \n",
    "                                          mergedCumulativeOrders['cumulative_avg_orders_per_buyerA']) - 1, \n",
    "         label='Относительное изменение', color='red', linewidth=3)\n",
    "\n",
    "plt.axhline(y=0, color='black', linestyle='--')\n",
    "\n",
    "plt.title('Относит. изменение кумулятивн. средн. кол-ва заказов на посетителя между группами A и B')\n",
    "plt.xlabel('Дата')\n",
    "plt.ylabel('Относит. изменение кумулятивн. средн. кол-ва заказов на посетителя')\n",
    "plt.legend()\n",
    "plt.grid(True)\n",
    "\n",
    "plt.show()\n"
   ]
  },
  {
   "cell_type": "markdown",
   "metadata": {},
   "source": [
    "- Относительное изменение кумулятивного среднего кол-ва заказов на посетителя для группы В хоть и было нестабильно в первые 5 дней, но затем постоянно было выше, чем для группы А, \n",
    "- и к концу теста скачки перестали быть такими сильными, можно просто сказать что группа В стабильно тут побеждает"
   ]
  },
  {
   "cell_type": "markdown",
   "metadata": {},
   "source": [
    "##### Точечный график количества заказов по пользователям. Выводы и предположения."
   ]
  },
  {
   "cell_type": "code",
   "execution_count": 32,
   "metadata": {},
   "outputs": [
    {
     "data": {
      "image/png": "[encoded data removed]",
      "text/plain": [
       "<Figure size 864x432 with 1 Axes>"
      ]
     },
     "metadata": {
      "needs_background": "light"
     },
     "output_type": "display_data"
    }
   ],
   "source": [
    "# Группирую данные по пользователям и считаю количество заказов\n",
    "orders_per_user = orders.groupby('visitorId')['transactionId'].count().reset_index()\n",
    "orders_per_user.columns = ['visitorId', 'orders_count']\n",
    "\n",
    "plt.figure(figsize=(12, 6))\n",
    "sns.scatterplot(x='visitorId', y='orders_count', data=orders_per_user, color='red', alpha=0.5)\n",
    "\n",
    "plt.title('Точечный график количества заказов по пользователям')\n",
    "plt.xlabel('Идентификатор пользователя')\n",
    "plt.ylabel('Количество заказов')\n",
    "plt.ticklabel_format(axis = 'x', style = 'plain')\n",
    "\n",
    "plt.show()"
   ]
  },
  {
   "cell_type": "code",
   "execution_count": 33,
   "metadata": {},
   "outputs": [],
   "source": [
    "value_counts_orders = orders_per_user['orders_count'].value_counts()"
   ]
  },
  {
   "cell_type": "code",
   "execution_count": 34,
   "metadata": {},
   "outputs": [
    {
     "data": {
      "text/plain": [
       "1     937\n",
       "2     64 \n",
       "3     17 \n",
       "5     6  \n",
       "4     3  \n",
       "11    2  \n",
       "8     1  \n",
       "9     1  \n",
       "Name: orders_count, dtype: int64"
      ]
     },
     "execution_count": 34,
     "metadata": {},
     "output_type": "execute_result"
    }
   ],
   "source": [
    "value_counts_orders"
   ]
  },
  {
   "cell_type": "markdown",
   "metadata": {},
   "source": [
    "Вижу, что бОльшая часть юзеров сделала по одному заказу, много кто и по два, есть единицы тех, кто сделал по 5 заказов, остальное визуально определяю как выбросы, и value_counts это показывает"
   ]
  },
  {
   "cell_type": "markdown",
   "metadata": {},
   "source": [
    "##### Считаю 95-й и 99-й перцентили количества заказов на пользователя. Выберу границу для определения аномальных пользователей."
   ]
  },
  {
   "cell_type": "code",
   "execution_count": 35,
   "metadata": {},
   "outputs": [
    {
     "name": "stdout",
     "output_type": "stream",
     "text": [
      "95-й перцентиль: 2.0\n",
      "99-й перцентиль: 4.0\n"
     ]
    }
   ],
   "source": [
    "orders_percentile_95 = np.percentile(orders_per_user['orders_count'], 95)\n",
    "orders_percentile_99 = np.percentile(orders_per_user['orders_count'], 99)\n",
    "\n",
    "\n",
    "print(f'95-й перцентиль: {orders_percentile_95}')\n",
    "print(f'99-й перцентиль: {orders_percentile_99}')"
   ]
  },
  {
   "cell_type": "markdown",
   "metadata": {},
   "source": [
    "здесь я бы удалила выбросы выше 99 перцентиля. те, кто сделал больше 4 заказов - точно выбросы"
   ]
  },
  {
   "cell_type": "markdown",
   "metadata": {},
   "source": [
    "##### Точечный график стоимостей заказов. Сделайте выводы и предположения."
   ]
  },
  {
   "cell_type": "code",
   "execution_count": 36,
   "metadata": {},
   "outputs": [
    {
     "data": {
      "image/png": "[encoded data removed]",
      "text/plain": [
       "<Figure size 720x720 with 1 Axes>"
      ]
     },
     "metadata": {
      "needs_background": "light"
     },
     "output_type": "display_data"
    }
   ],
   "source": [
    "# Создаю Series для x_values\n",
    "x_values = pd.Series(range(0, len(orders['revenue'])))\n",
    "\n",
    "# Строю точечный график\n",
    "plt.figure(figsize=(10, 10))\n",
    "plt.scatter(x_values, orders['revenue'], color='purple', alpha=0.5)\n",
    "\n",
    "# Настройка графика\n",
    "plt.title('Точечный график стоимостей заказов')\n",
    "plt.xlabel('Заказы')\n",
    "plt.ylabel('Стоимость заказа')\n",
    "plt.ticklabel_format(axis='y', style='plain')  \n",
    "\n",
    "plt.show()"
   ]
  },
  {
   "cell_type": "markdown",
   "metadata": {},
   "source": [
    "- Тут явно видны выбросы, которые явно искажают картину и возможно влияют на среднее значение. От них точно предстоит избавиться\n",
    "- в своей массе цены почти всех заказов точно лежат в пределах 50000"
   ]
  },
  {
   "cell_type": "code",
   "execution_count": 37,
   "metadata": {},
   "outputs": [],
   "source": [
    "description = orders['revenue'].describe().apply(lambda x: format(x, ','))"
   ]
  },
  {
   "cell_type": "code",
   "execution_count": 38,
   "metadata": {},
   "outputs": [
    {
     "data": {
      "text/plain": [
       "count    1,197.0           \n",
       "mean     8,348.005847953216\n",
       "std      39,191.13177395123\n",
       "min      50.0              \n",
       "25%      1,220.0           \n",
       "50%      2,978.0           \n",
       "75%      8,290.0           \n",
       "max      1,294,500.0       \n",
       "Name: revenue, dtype: object"
      ]
     },
     "execution_count": 38,
     "metadata": {},
     "output_type": "execute_result"
    }
   ],
   "source": [
    "description"
   ]
  },
  {
   "cell_type": "markdown",
   "metadata": {},
   "source": [
    "Да уж, при среднем около 3000, максимальное значение - 1294500 - это уж слишком. Когда удалю выбросы, среднее станет еще меньше.После удаления кстати будет интересно еще раз взглянуть на scatterplot"
   ]
  },
  {
   "cell_type": "markdown",
   "metadata": {},
   "source": [
    "##### Считаю 95-й и 99-й перцентили стоимости заказов. Выберите границу для определения аномальных заказов."
   ]
  },
  {
   "cell_type": "code",
   "execution_count": 39,
   "metadata": {},
   "outputs": [
    {
     "name": "stdout",
     "output_type": "stream",
     "text": [
      "95-й перцентиль: 28000.000000000004\n",
      "99-й перцентиль: 58233.19999999999\n"
     ]
    }
   ],
   "source": [
    "revenue_percentile_95 = np.percentile(orders['revenue'], 95)\n",
    "revenue_percentile_99 = np.percentile(orders['revenue'], 99)\n",
    "\n",
    "\n",
    "print(f'95-й перцентиль: {revenue_percentile_95}')\n",
    "print(f'99-й перцентиль: {revenue_percentile_99}')"
   ]
  },
  {
   "cell_type": "markdown",
   "metadata": {},
   "source": [
    "Вот здесь я бы посчитала выбросами все что больше 95 перцентиля. 58000 это слишком много при таком небольшом среднем около 3к"
   ]
  },
  {
   "cell_type": "markdown",
   "metadata": {},
   "source": [
    "##### Считаю статистическую значимость различий в среднем количестве заказов на посетителя между группами по «сырым» данным. Выводы и предположения."
   ]
  },
  {
   "cell_type": "markdown",
   "metadata": {},
   "source": [
    "Формулирую гипотезы:\n",
    "- нулевая - различий в среднем кол-ве заказов на посетителя между группами нет\n",
    "- альтернативная - различия в среднем кол-ве заказов на посетителя между группами есть\n",
    "\n",
    "Для посдчета буду использовать тест Манна-Уитни."
   ]
  },
  {
   "cell_type": "code",
   "execution_count": 40,
   "metadata": {},
   "outputs": [
    {
     "name": "stdout",
     "output_type": "stream",
     "text": [
      "P-value: 0.01679\n",
      "Есть статистически значимые различия между двумя группами.\n",
      "Относительное различие: 13.81%\n"
     ]
    }
   ],
   "source": [
    "visitorsADaily = visitors[visitors['group'] == 'A'][['date', 'visitors']]\n",
    "visitorsADaily.columns = ['date', 'visitorsPerDateA']\n",
    "\n",
    "visitorsACummulative = visitorsADaily.apply(\n",
    "    lambda x: visitorsADaily[visitorsADaily['date'] <= x['date']].agg(\n",
    "        {'date': 'max', 'visitorsPerDateA': 'sum'}\n",
    "    ),\n",
    "    axis=1,\n",
    ")\n",
    "visitorsACummulative.columns = ['date', 'visitorsCummulativeA']\n",
    "\n",
    "visitorsBDaily = visitors[visitors['group'] == 'B'][['date', 'visitors']]\n",
    "visitorsBDaily.columns = ['date', 'visitorsPerDateB']\n",
    "\n",
    "visitorsBCummulative = visitorsBDaily.apply(\n",
    "    lambda x: visitorsBDaily[visitorsBDaily['date'] <= x['date']].agg(\n",
    "        {'date': 'max', 'visitorsPerDateB': 'sum'}\n",
    "    ),\n",
    "    axis=1,\n",
    ")\n",
    "visitorsBCummulative.columns = ['date', 'visitorsCummulativeB']\n",
    "\n",
    "ordersADaily = (\n",
    "    orders[orders['group'] == 'A'][['date', 'transactionId', 'visitorId', 'revenue']]\n",
    "    .groupby('date', as_index=False)\n",
    "    .agg({'transactionId': pd.Series.nunique, 'revenue': 'sum'})\n",
    ")\n",
    "ordersADaily.columns = ['date', 'ordersPerDateA', 'revenuePerDateA']\n",
    "\n",
    "ordersACummulative = ordersADaily.apply(\n",
    "    lambda x: ordersADaily[ordersADaily['date'] <= x['date']].agg(\n",
    "        {'date': 'max', 'ordersPerDateA': 'sum', 'revenuePerDateA': 'sum'}\n",
    "    ),\n",
    "    axis=1,\n",
    ").sort_values(by=['date'])\n",
    "ordersACummulative.columns = [\n",
    "    'date',\n",
    "    'ordersCummulativeA',\n",
    "    'revenueCummulativeA',\n",
    "]\n",
    "\n",
    "ordersBDaily = (\n",
    "    orders[orders['group'] == 'B'][['date', 'transactionId', 'visitorId', 'revenue']]\n",
    "    .groupby('date', as_index=False)\n",
    "    .agg({'transactionId': pd.Series.nunique, 'revenue': 'sum'})\n",
    ")\n",
    "ordersBDaily.columns = ['date', 'ordersPerDateB', 'revenuePerDateB']\n",
    "\n",
    "ordersBCummulative = ordersBDaily.apply(\n",
    "    lambda x: ordersBDaily[ordersBDaily['date'] <= x['date']].agg(\n",
    "        {'date': 'max', 'ordersPerDateB': 'sum', 'revenuePerDateB': 'sum'}\n",
    "    ),\n",
    "    axis=1,\n",
    ").sort_values(by=['date'])\n",
    "ordersBCummulative.columns = [\n",
    "    'date',\n",
    "    'ordersCummulativeB',\n",
    "    'revenueCummulativeB',\n",
    "]\n",
    "\n",
    "data = (\n",
    "    ordersADaily.merge(\n",
    "        ordersBDaily, left_on='date', right_on='date', how='left'\n",
    "    )\n",
    "    .merge(ordersACummulative, left_on='date', right_on='date', how='left')\n",
    "    .merge(ordersBCummulative, left_on='date', right_on='date', how='left')\n",
    "    .merge(visitorsADaily, left_on='date', right_on='date', how='left')\n",
    "    .merge(visitorsBDaily, left_on='date', right_on='date', how='left')\n",
    "    .merge(visitorsACummulative, left_on='date', right_on='date', how='left')\n",
    "    .merge(visitorsBCummulative, left_on='date', right_on='date', how='left')\n",
    ")\n",
    "\n",
    "ordersByUsersA = (\n",
    "    orders[orders['group'] == 'A']\n",
    "    .groupby('visitorId', as_index=False)\n",
    "    .agg({'transactionId': pd.Series.nunique})\n",
    ")\n",
    "ordersByUsersA.columns = ['visitorId', 'orders']\n",
    "\n",
    "ordersByUsersB = (\n",
    "    orders[orders['group'] == 'B']\n",
    "    .groupby('visitorId', as_index=False)\n",
    "    .agg({'transactionId': pd.Series.nunique})\n",
    ")\n",
    "ordersByUsersB.columns = ['visitorId', 'orders']\n",
    "\n",
    "sampleA = pd.concat([ordersByUsersA['orders'],\n",
    "                     pd.Series(0, index=np.arange(data['visitorsPerDateA']\n",
    "                                                  .sum() - len(ordersByUsersA['orders']))\n",
    "                               , name='orders')],axis=0)\n",
    "\n",
    "sampleB = pd.concat([ordersByUsersB['orders']\n",
    "                     ,pd.Series(0, index=np.arange(data['visitorsPerDateB']\n",
    "                                                   .sum() - len(ordersByUsersB['orders']))\n",
    "                                , name='orders')],axis=0) \n",
    "\n",
    "\n",
    "sampleA = pd.concat(\n",
    "    [\n",
    "        ordersByUsersA['orders'],\n",
    "        pd.Series(\n",
    "            0,\n",
    "            index=np.arange(\n",
    "                data['visitorsPerDateA'].sum() - len(ordersByUsersA['orders'])\n",
    "            ),\n",
    "            name='orders',\n",
    "        ),\n",
    "    ],\n",
    "    axis=0,\n",
    ")\n",
    "\n",
    "sampleB = pd.concat(\n",
    "    [\n",
    "        ordersByUsersB['orders'],\n",
    "        pd.Series(\n",
    "            0,\n",
    "            index=np.arange(\n",
    "                data['visitorsPerDateB'].sum() - len(ordersByUsersB['orders'])\n",
    "            ),\n",
    "            name='orders',\n",
    "        ),\n",
    "    ],\n",
    "    axis=0,\n",
    ")\n",
    "p_value_order = stats.mannwhitneyu(sampleA, sampleB)[1]\n",
    "relative_difference_order = sampleB.mean() / sampleA.mean() - 1\n",
    "\n",
    "print(f\"P-value: {p_value_order:.5f}\")\n",
    "alpha=0.05\n",
    "\n",
    "if p_value_order < alpha:\n",
    "    print(\"Есть статистически значимые различия между двумя группами.\")\n",
    "else:\n",
    "    print(\"Нельзя говорить о том, что есть статистически значимые различия между двумя группами.\")\n",
    "print(f\"Относительное различие: {relative_difference_order:.2%}\")\n"
   ]
  },
  {
   "cell_type": "markdown",
   "metadata": {},
   "source": [
    "- при p-value менее 0.05 можно говорить о том, что есть статистически значимые различия между двумя группами.\n",
    "- это значит что среднее количество заказов на пользователя по группам значительно отличается\n",
    "- различие составляет 13,8%"
   ]
  },
  {
   "cell_type": "markdown",
   "metadata": {},
   "source": [
    "##### Считаю статистическую значимость различий в среднем чеке заказа между группами по «сырым» данным. Выводы и предположения."
   ]
  },
  {
   "cell_type": "markdown",
   "metadata": {},
   "source": [
    "Формулирую гипотезы:\n",
    "- нулевая - различий в среднем чеке заказа между группами нет\n",
    "- альтернативная - различия в среднем чеке заказа на посетителя между группами есть\n",
    "\n",
    "Для посдчета буду использовать тест Манна-Уитни."
   ]
  },
  {
   "cell_type": "code",
   "execution_count": 41,
   "metadata": {},
   "outputs": [
    {
     "name": "stdout",
     "output_type": "stream",
     "text": [
      "Нельзя говорить о том, что есть статистически значимые различия в выручке между двумя группами.\n",
      "P-value для выручки: 0.72929\n",
      "Относительное различие в выручке: 25.87%\n"
     ]
    }
   ],
   "source": [
    "p_value_revenue = stats.mannwhitneyu(\n",
    "    orders[orders['group']=='A']['revenue'], \n",
    "    orders[orders['group']=='B']['revenue']\n",
    ")[1]\n",
    "\n",
    "relative_difference_revenue = (\n",
    "    orders[orders['group']=='B']['revenue'].mean() /\n",
    "    orders[orders['group']=='A']['revenue'].mean() - 1\n",
    ")\n",
    "\n",
    "# Проверка на статистическую значимость и вывод сообщения\n",
    "alpha = 0.05\n",
    "statistically_significant_revenue = p_value_revenue < alpha\n",
    "\n",
    "# Вывод сообщений и результатов\n",
    "if statistically_significant_revenue:\n",
    "    print(\"Есть статистически значимые различия в выручке между двумя группами.\")\n",
    "else:\n",
    "    print(\"Нельзя говорить о том, что есть статистически значимые различия в выручке между двумя группами.\")\n",
    "\n",
    "print(f\"P-value для выручки: {p_value_revenue:.5f}\")\n",
    "print(f\"Относительное различие в выручке: {relative_difference_revenue:.2%}\")"
   ]
  },
  {
   "cell_type": "markdown",
   "metadata": {},
   "source": [
    "- статистически значимых различий в среднем чеке нет, т.к. p-value значительно больше, чем 0.05\n",
    "- это значит что средний чек в двух группах равен"
   ]
  },
  {
   "cell_type": "markdown",
   "metadata": {},
   "source": [
    "##### Статистическая значимость различий в среднем количестве заказов на посетителя между группами по «очищенным» данным. Выводы и предположения."
   ]
  },
  {
   "cell_type": "markdown",
   "metadata": {},
   "source": [
    "Формулирую гипотезы:\n",
    "- нулевая - различий в среднем кол-ве заказов на посетителя между группами нет\n",
    "- альтернативная - различия в среднем кол-ве заказов на посетителя между группами есть\n",
    "\n",
    "Для посдчета буду использовать тест Манна-Уитни."
   ]
  },
  {
   "cell_type": "code",
   "execution_count": 42,
   "metadata": {},
   "outputs": [
    {
     "name": "stdout",
     "output_type": "stream",
     "text": [
      "P-value для фильтрованных данных: 0.01846\n",
      "Есть статистически значимые различия между двумя группами (фильтрованные данные).\n",
      "Относительное различие для фильтрованных данных: 14.53%\n"
     ]
    }
   ],
   "source": [
    "usersWithManyOrders = pd.concat(\n",
    "    [\n",
    "        ordersByUsersA[ordersByUsersA['orders'] > orders_percentile_99]['visitorId'],\n",
    "        ordersByUsersB[ordersByUsersB['orders'] > orders_percentile_99]['visitorId'],\n",
    "    ],\n",
    "    axis=0,\n",
    ")\n",
    "usersWithExpensiveOrders = orders[orders['revenue'] > revenue_percentile_95]['visitorId']\n",
    "abnormalUsers = (\n",
    "    pd.concat([usersWithManyOrders, usersWithExpensiveOrders], axis=0)\n",
    "    .drop_duplicates()\n",
    "    .sort_values()\n",
    ")\n",
    "\n",
    "\n",
    "\n",
    "sampleAFiltered = pd.concat(\n",
    "    [\n",
    "        ordersByUsersA[\n",
    "            np.logical_not(ordersByUsersA['visitorId'].isin(abnormalUsers))\n",
    "        ]['orders'],\n",
    "        pd.Series(\n",
    "            0,\n",
    "            index=np.arange(\n",
    "                data['visitorsPerDateA'].sum() - len(ordersByUsersA['orders'])\n",
    "            ),\n",
    "            name='orders',\n",
    "        ),\n",
    "    ],\n",
    "    axis=0,\n",
    ")\n",
    "\n",
    "sampleBFiltered = pd.concat(\n",
    "    [\n",
    "        ordersByUsersB[\n",
    "            np.logical_not(ordersByUsersB['visitorId'].isin(abnormalUsers))\n",
    "        ]['orders'],\n",
    "        pd.Series(\n",
    "            0,\n",
    "            index=np.arange(\n",
    "                data['visitorsPerDateB'].sum() - len(ordersByUsersB['orders'])\n",
    "            ),\n",
    "            name='orders',\n",
    "        ),\n",
    "    ],\n",
    "    axis=0,\n",
    ")\n",
    "\n",
    "\n",
    "p_value_filtered = stats.mannwhitneyu(sampleAFiltered, sampleBFiltered)[1]\n",
    "relative_difference_filtered = sampleBFiltered.mean() / sampleAFiltered.mean() - 1\n",
    "\n",
    "alpha=0.05\n",
    "statistically_significant_filtered = p_value_filtered < alpha\n",
    "\n",
    "\n",
    "print(f\"P-value для фильтрованных данных: {p_value_filtered:.5f}\")\n",
    "if statistically_significant_filtered:\n",
    "    print(\"Есть статистически значимые различия между двумя группами (фильтрованные данные).\")\n",
    "else:\n",
    "    print(\"Нельзя говорить о том, что есть статистически значимые различия между двумя группами (фильтрованные данные).\")\n",
    "\n",
    "print(f\"Относительное различие для фильтрованных данных: {relative_difference_filtered:.2%}\")"
   ]
  },
  {
   "cell_type": "markdown",
   "metadata": {},
   "source": [
    "- здесь есть статистически значимые различия, так как p-value меньше 0.05. значит среднее кол-во заказов на посетителя между группами достаточно сильно отличается\n",
    "- данные очистили, а результат не поменялся. значит различия между группами по колву заказов есть\n",
    "- группа В на 14,5% лучше группы А по кол-ву заказов"
   ]
  },
  {
   "cell_type": "markdown",
   "metadata": {},
   "source": [
    "##### Статистическая значимость различий в среднем чеке заказа между группами по «очищенным» данным. Выводы и предположения."
   ]
  },
  {
   "cell_type": "markdown",
   "metadata": {},
   "source": [
    "Формулирую гипотезы:\n",
    "\n",
    "- нулевая - различий в среднем чеке заказа между группами нет\n",
    "- альтернативная - различия в среднем чеке заказа между группами есть\n",
    "\n",
    "Для посдчета буду использовать тест Манна-Уитни."
   ]
  },
  {
   "cell_type": "code",
   "execution_count": 43,
   "metadata": {},
   "outputs": [
    {
     "name": "stdout",
     "output_type": "stream",
     "text": [
      "P-value для фильтрованных данных по выручке: 0.961\n",
      "Нельзя говорить о том, что есть статистически значимые различия между двумя группами (фильтрованные данные по выручке).\n",
      "Относительное различие для фильтрованных данных по выручке: -1.38%\n"
     ]
    }
   ],
   "source": [
    "p_value_filtered_revenue = float('{0:.3f}'.format(\n",
    "    stats.mannwhitneyu(\n",
    "        orders[\n",
    "            np.logical_and(\n",
    "                orders['group'] == 'A',\n",
    "                np.logical_not(orders['visitorId'].isin(abnormalUsers)),\n",
    "            )\n",
    "        ]['revenue'],\n",
    "        orders[\n",
    "            np.logical_and(\n",
    "                orders['group'] == 'B',\n",
    "                np.logical_not(orders['visitorId'].isin(abnormalUsers)),\n",
    "            )\n",
    "        ]['revenue'],\n",
    "    )[1]\n",
    "))\n",
    "\n",
    "relative_difference_filtered_revenue = (\n",
    "    orders[\n",
    "        np.logical_and(\n",
    "            orders['group'] == 'B',\n",
    "            np.logical_not(orders['visitorId'].isin(abnormalUsers)),\n",
    "        )\n",
    "    ]['revenue'].mean()\n",
    "    / orders[\n",
    "        np.logical_and(\n",
    "            orders['group'] == 'A',\n",
    "            np.logical_not(orders['visitorId'].isin(abnormalUsers)),\n",
    "        )\n",
    "    ]['revenue'].mean()\n",
    "    - 1\n",
    ")\n",
    "\n",
    "alpha = 0.05\n",
    "statistically_significant_filtered_revenue = p_value_filtered_revenue < alpha\n",
    "\n",
    "print(f\"P-value для фильтрованных данных по выручке: {p_value_filtered_revenue}\")\n",
    "if statistically_significant_filtered_revenue:\n",
    "    print(\"Есть статистически значимые различия между двумя группами (фильтрованные данные по выручке).\")\n",
    "else:\n",
    "    print(\"Нельзя говорить о том, что есть статистически значимые различия между двумя группами (фильтрованные данные по выручке).\")\n",
    "\n",
    "print(f\"Относительное различие для фильтрованных данных по выручке: {relative_difference_filtered_revenue:.2%}\")\n"
   ]
  },
  {
   "cell_type": "markdown",
   "metadata": {},
   "source": [
    "- так как p-value больше чем 0.05, можно сказать, что статистически значимых различий между группами нет, это значит, что средние чеки между группами по очищенным данным примерно одинаковы.\n",
    "- здесь так же - данные очищены а результат не изменился.\n",
    "- группа B хуже чем группа А по среднему чеку всего на 1,4 процента"
   ]
  },
  {
   "cell_type": "markdown",
   "metadata": {},
   "source": [
    "##### Решение по результатам теста. Варианты решений:\n",
    "1. Остановить тест, зафиксировать победу одной из групп.\n",
    "2. Остановить тест, зафиксировать отсутствие различий между группами.\n",
    "3. Продолжить тест."
   ]
  },
  {
   "cell_type": "markdown",
   "metadata": {},
   "source": [
    "Принимаю решение <b>Остановить тест, зафиксировать победу одной из групп.</b>\n",
    "\n",
    "ВЫВОД И ОБОСНОВАНИЕ РЕШЕНИЯ \n",
    "\n",
    "после применения метода ICE, который учитывает воздействие на пользователя, уверенность в оценках других параметров, уровень трудности при оценке гипотезы: \n",
    "\n",
    "- лучшая гипотеза – запустить акцию, дающую скидку\n",
    "- худшая – изменить цвет фона главной страницы\n",
    "\n",
    "\n",
    "Но если учитывать не только эти параметры но и охват (использовать RICE), то тогда:\n",
    "- лучшая гипотеза – добавить форму подписки\n",
    "- худшая – все та же – изменить цвет фона главной страницы\n",
    "\n",
    "по графикам:\n",
    "- кумулятивная выручка по группам растет у обеих групп\n",
    "- по кумулятивной выручке по сырым данным группа В побеждает\n",
    "- кумулятивный средний чек для обеих групп постепенно растет\n",
    "- по кумулятивному среднему чеку по сырым данным группа В снова побеждает\n",
    "- кумулятивный средний чек у группы В по сырым данным больше, чем у группы А, в процессе теста он лишь ненадолго стал меньше, чем у группы А\n",
    "- среднее кол-во заказов на посетителя по группампо сырым данным у группы В тоже больше\n",
    "- по сырым данным относительное изменение кумулятивного среднего кол-ва заказов на посетителя для группы В также больше, чем для группы А\n",
    "- на графиках с кол-вом заказов по пользователям и стоимости заказа были заметные выбросы, я их убрала \n",
    "\n",
    "\n",
    "по анализу А/В теста:\n",
    "- по сырым данным среднее количество заказов на пользователя по группам значительно отличается. различие составляет 13,8%\n",
    "- по очищенным данным среднее кол-во заказов на посетителя между группами достаточно сильно отличается. данные очистили, а результат не поменялся. значит различия между группами по колву заказов есть. группа В на 14% лучше группы А по кол-ву заказов\n",
    "- статистически значимых различий в среднем чеке между группами по сырым данным нет\n",
    "- средние чеки между группами по очищенным данным примерно одинаковы. здесь также данные очищены а результат не изменился. группа B хуже чем группа А по среднему чеку всего на 1,4 процента\n",
    "\n",
    "Считаю, что тест можно остановить, тк группа В практически по всем покзателям лучше, чем группа А. \n",
    "- Хотя у группы В и случился один заказ на очень большую сумму и мы это посчитали выбросом, после его удаления результат группы В не стал хуже, чем у группы А. \n",
    "- Среднее кол-во заказов у группы В больше, хоть и группа В хуже чем группа А по среднему чеку. Зато у них заказов больше.\n",
    "- если учитывать все выбросы, не удалять их (хотя анализировать их надо!), то группа В вообще по всем фронтам лидирует\n",
    "\n",
    "!!! И я, кстати интересуюсь и ставлю под сомнение – а почему надо вообще очень дорогие заказы или людей с большим кол-вом заказов считать аномалиями? Если они есть, значит есть, не просто так они там появились (только если это не ошибка, конечно). я считаю, надо учитывать результаты и с выбросами, и без, и принимать решение где-то посередине. В моем случае я прихожу к выводу о победе группы В.  \n",
    "\n"
   ]
  }
 ],
 "metadata": {
  "ExecuteTimeLog": [
   {
    "duration": 404,
    "start_time": "2023-11-26T14:41:15.410Z"
   },
   {
    "duration": 73,
    "start_time": "2023-11-26T14:42:25.170Z"
   },
   {
    "duration": 27,
    "start_time": "2023-11-26T14:42:28.147Z"
   },
   {
    "duration": 84,
    "start_time": "2023-11-26T15:05:40.998Z"
   },
   {
    "duration": 68,
    "start_time": "2023-11-26T15:06:17.705Z"
   },
   {
    "duration": 14,
    "start_time": "2023-11-26T15:06:59.695Z"
   },
   {
    "duration": 69,
    "start_time": "2023-11-26T15:12:51.772Z"
   },
   {
    "duration": 8,
    "start_time": "2023-11-26T15:13:02.105Z"
   },
   {
    "duration": 60,
    "start_time": "2023-11-26T19:55:34.360Z"
   },
   {
    "duration": 6,
    "start_time": "2023-11-26T19:55:52.143Z"
   },
   {
    "duration": 373,
    "start_time": "2023-11-26T19:55:57.039Z"
   },
   {
    "duration": 57,
    "start_time": "2023-11-26T19:55:57.414Z"
   },
   {
    "duration": 22,
    "start_time": "2023-11-26T19:55:57.473Z"
   },
   {
    "duration": 78,
    "start_time": "2023-11-26T19:55:57.498Z"
   },
   {
    "duration": 53,
    "start_time": "2023-11-26T19:55:57.577Z"
   },
   {
    "duration": 44,
    "start_time": "2023-11-26T19:56:01.265Z"
   },
   {
    "duration": 9,
    "start_time": "2023-11-26T19:56:07.576Z"
   },
   {
    "duration": 12,
    "start_time": "2023-11-26T19:56:09.579Z"
   },
   {
    "duration": 1218,
    "start_time": "2023-11-26T19:58:41.579Z"
   },
   {
    "duration": 5,
    "start_time": "2023-11-26T19:59:45.669Z"
   },
   {
    "duration": 7,
    "start_time": "2023-11-26T19:59:45.964Z"
   },
   {
    "duration": 1161,
    "start_time": "2023-11-26T19:59:47.293Z"
   },
   {
    "duration": 12,
    "start_time": "2023-11-26T20:01:55.342Z"
   },
   {
    "duration": 5,
    "start_time": "2023-11-26T20:02:02.299Z"
   },
   {
    "duration": 7,
    "start_time": "2023-11-26T20:02:04.545Z"
   },
   {
    "duration": 6,
    "start_time": "2023-11-26T20:03:07.159Z"
   },
   {
    "duration": 11,
    "start_time": "2023-11-26T20:12:02.910Z"
   },
   {
    "duration": 53,
    "start_time": "2023-11-29T10:51:01.240Z"
   },
   {
    "duration": 417,
    "start_time": "2023-11-29T10:51:05.470Z"
   },
   {
    "duration": 65,
    "start_time": "2023-11-29T10:51:05.890Z"
   },
   {
    "duration": 16,
    "start_time": "2023-11-29T10:51:05.957Z"
   },
   {
    "duration": 131,
    "start_time": "2023-11-29T10:51:05.975Z"
   },
   {
    "duration": 55,
    "start_time": "2023-11-29T10:51:06.109Z"
   },
   {
    "duration": 8,
    "start_time": "2023-11-29T10:51:06.166Z"
   },
   {
    "duration": 43,
    "start_time": "2023-11-29T10:51:06.176Z"
   },
   {
    "duration": 19,
    "start_time": "2023-11-29T10:51:06.221Z"
   },
   {
    "duration": 10,
    "start_time": "2023-11-29T10:51:06.242Z"
   },
   {
    "duration": 14,
    "start_time": "2023-11-29T10:51:06.254Z"
   },
   {
    "duration": 15,
    "start_time": "2023-11-29T10:51:06.269Z"
   },
   {
    "duration": 4,
    "start_time": "2023-11-29T10:53:19.273Z"
   },
   {
    "duration": 10,
    "start_time": "2023-11-29T11:19:57.403Z"
   },
   {
    "duration": 11,
    "start_time": "2023-11-29T11:20:09.761Z"
   },
   {
    "duration": 4,
    "start_time": "2023-11-29T11:20:46.961Z"
   },
   {
    "duration": 6,
    "start_time": "2023-11-29T11:26:16.623Z"
   },
   {
    "duration": 30,
    "start_time": "2023-11-29T11:50:50.349Z"
   },
   {
    "duration": 3,
    "start_time": "2023-11-29T11:51:14.728Z"
   },
   {
    "duration": 7,
    "start_time": "2023-11-29T11:51:21.078Z"
   },
   {
    "duration": 22,
    "start_time": "2023-11-29T11:52:07.055Z"
   },
   {
    "duration": 211,
    "start_time": "2023-11-29T11:53:16.347Z"
   },
   {
    "duration": 115,
    "start_time": "2023-11-29T12:06:06.504Z"
   },
   {
    "duration": 8,
    "start_time": "2023-11-29T12:07:02.697Z"
   },
   {
    "duration": 8,
    "start_time": "2023-11-29T12:07:04.627Z"
   },
   {
    "duration": 9,
    "start_time": "2023-11-29T12:07:19.722Z"
   },
   {
    "duration": 399,
    "start_time": "2023-11-29T12:12:50.097Z"
   },
   {
    "duration": 6,
    "start_time": "2023-11-29T12:16:10.824Z"
   },
   {
    "duration": 5,
    "start_time": "2023-11-29T12:16:30.075Z"
   },
   {
    "duration": 258,
    "start_time": "2023-11-29T12:16:44.185Z"
   },
   {
    "duration": 175,
    "start_time": "2023-11-29T12:16:53.631Z"
   },
   {
    "duration": 82,
    "start_time": "2023-11-29T12:17:14.458Z"
   },
   {
    "duration": 167,
    "start_time": "2023-11-29T12:18:57.646Z"
   },
   {
    "duration": 93,
    "start_time": "2023-11-29T12:19:31.625Z"
   },
   {
    "duration": 401,
    "start_time": "2023-11-29T12:20:56.482Z"
   },
   {
    "duration": 18,
    "start_time": "2023-11-29T12:27:25.806Z"
   },
   {
    "duration": 133,
    "start_time": "2023-11-29T12:35:39.119Z"
   },
   {
    "duration": 76,
    "start_time": "2023-11-29T12:36:07.892Z"
   },
   {
    "duration": 126,
    "start_time": "2023-11-29T12:45:48.851Z"
   },
   {
    "duration": 4,
    "start_time": "2023-11-29T13:15:49.977Z"
   },
   {
    "duration": 6,
    "start_time": "2023-11-29T13:15:53.416Z"
   },
   {
    "duration": 5,
    "start_time": "2023-11-29T13:16:16.347Z"
   },
   {
    "duration": 780,
    "start_time": "2023-11-29T18:40:37.596Z"
   },
   {
    "duration": 74,
    "start_time": "2023-11-29T18:40:38.378Z"
   },
   {
    "duration": 11,
    "start_time": "2023-11-29T18:40:38.454Z"
   },
   {
    "duration": 85,
    "start_time": "2023-11-29T18:40:38.466Z"
   },
   {
    "duration": 58,
    "start_time": "2023-11-29T18:40:38.553Z"
   },
   {
    "duration": 7,
    "start_time": "2023-11-29T18:40:38.612Z"
   },
   {
    "duration": 30,
    "start_time": "2023-11-29T18:40:38.620Z"
   },
   {
    "duration": 24,
    "start_time": "2023-11-29T18:40:38.651Z"
   },
   {
    "duration": 26,
    "start_time": "2023-11-29T18:40:38.676Z"
   },
   {
    "duration": 32,
    "start_time": "2023-11-29T18:40:38.703Z"
   },
   {
    "duration": 20,
    "start_time": "2023-11-29T18:40:38.737Z"
   },
   {
    "duration": 39,
    "start_time": "2023-11-29T18:40:38.759Z"
   },
   {
    "duration": 18,
    "start_time": "2023-11-29T18:40:38.799Z"
   },
   {
    "duration": 26,
    "start_time": "2023-11-29T18:40:38.821Z"
   },
   {
    "duration": 29,
    "start_time": "2023-11-29T18:40:38.848Z"
   },
   {
    "duration": 27,
    "start_time": "2023-11-29T18:40:38.878Z"
   },
   {
    "duration": 157,
    "start_time": "2023-11-29T18:40:38.906Z"
   },
   {
    "duration": 115,
    "start_time": "2023-11-29T18:40:39.065Z"
   },
   {
    "duration": 6,
    "start_time": "2023-11-29T18:40:39.181Z"
   },
   {
    "duration": 16,
    "start_time": "2023-11-29T18:40:39.199Z"
   },
   {
    "duration": 25,
    "start_time": "2023-11-29T18:40:39.217Z"
   },
   {
    "duration": 32,
    "start_time": "2023-11-29T18:40:39.243Z"
   },
   {
    "duration": 257,
    "start_time": "2023-11-29T18:40:39.276Z"
   },
   {
    "duration": 169,
    "start_time": "2023-11-29T18:40:39.534Z"
   },
   {
    "duration": 309,
    "start_time": "2023-11-29T18:40:39.704Z"
   },
   {
    "duration": 169,
    "start_time": "2023-11-29T18:40:40.014Z"
   },
   {
    "duration": 4,
    "start_time": "2023-11-29T18:40:40.184Z"
   },
   {
    "duration": 2,
    "start_time": "2023-11-29T18:59:55.634Z"
   },
   {
    "duration": 175,
    "start_time": "2023-11-29T19:00:00.465Z"
   },
   {
    "duration": 11,
    "start_time": "2023-11-29T19:14:45.030Z"
   },
   {
    "duration": 227,
    "start_time": "2023-11-29T19:19:11.538Z"
   },
   {
    "duration": 11,
    "start_time": "2023-11-29T19:42:14.402Z"
   },
   {
    "duration": 346,
    "start_time": "2023-11-29T19:51:10.917Z"
   },
   {
    "duration": 127,
    "start_time": "2023-11-29T20:07:45.906Z"
   },
   {
    "duration": 388,
    "start_time": "2023-11-29T20:19:04.717Z"
   },
   {
    "duration": 485,
    "start_time": "2023-11-29T20:19:49.384Z"
   },
   {
    "duration": 323,
    "start_time": "2023-11-29T20:19:54.904Z"
   },
   {
    "duration": 10,
    "start_time": "2023-11-29T20:33:18.352Z"
   },
   {
    "duration": 3,
    "start_time": "2023-11-29T20:52:18.076Z"
   },
   {
    "duration": 3,
    "start_time": "2023-11-29T21:08:55.971Z"
   },
   {
    "duration": 64,
    "start_time": "2023-11-29T21:15:31.949Z"
   },
   {
    "duration": 74,
    "start_time": "2023-11-29T21:17:08.416Z"
   },
   {
    "duration": 3,
    "start_time": "2023-11-29T21:18:12.475Z"
   },
   {
    "duration": 5,
    "start_time": "2023-11-29T21:18:16.686Z"
   },
   {
    "duration": 3,
    "start_time": "2023-11-29T21:18:30.545Z"
   },
   {
    "duration": 4,
    "start_time": "2023-11-29T21:18:31.032Z"
   },
   {
    "duration": 7,
    "start_time": "2023-11-29T21:18:31.577Z"
   },
   {
    "duration": 11,
    "start_time": "2023-11-29T22:08:36.757Z"
   },
   {
    "duration": 1279,
    "start_time": "2023-11-30T19:52:02.356Z"
   },
   {
    "duration": 62,
    "start_time": "2023-11-30T19:52:03.637Z"
   },
   {
    "duration": 82,
    "start_time": "2023-11-30T19:52:03.700Z"
   },
   {
    "duration": 55,
    "start_time": "2023-11-30T19:52:03.785Z"
   },
   {
    "duration": 72,
    "start_time": "2023-11-30T19:52:03.842Z"
   },
   {
    "duration": 10,
    "start_time": "2023-11-30T19:52:03.915Z"
   },
   {
    "duration": 15,
    "start_time": "2023-11-30T19:52:03.927Z"
   },
   {
    "duration": 38,
    "start_time": "2023-11-30T19:52:03.943Z"
   },
   {
    "duration": 30,
    "start_time": "2023-11-30T19:52:03.983Z"
   },
   {
    "duration": 30,
    "start_time": "2023-11-30T19:52:04.016Z"
   },
   {
    "duration": 45,
    "start_time": "2023-11-30T19:52:04.048Z"
   },
   {
    "duration": 29,
    "start_time": "2023-11-30T19:52:04.094Z"
   },
   {
    "duration": 51,
    "start_time": "2023-11-30T19:52:04.124Z"
   },
   {
    "duration": 41,
    "start_time": "2023-11-30T19:52:04.177Z"
   },
   {
    "duration": 32,
    "start_time": "2023-11-30T19:52:04.220Z"
   },
   {
    "duration": 33,
    "start_time": "2023-11-30T19:52:04.254Z"
   },
   {
    "duration": 9,
    "start_time": "2023-11-30T19:52:04.288Z"
   },
   {
    "duration": 26,
    "start_time": "2023-11-30T19:52:04.299Z"
   },
   {
    "duration": 168,
    "start_time": "2023-11-30T19:52:04.327Z"
   },
   {
    "duration": 117,
    "start_time": "2023-11-30T19:52:04.496Z"
   },
   {
    "duration": 7,
    "start_time": "2023-11-30T19:52:04.615Z"
   },
   {
    "duration": 19,
    "start_time": "2023-11-30T19:52:04.623Z"
   },
   {
    "duration": 30,
    "start_time": "2023-11-30T19:52:04.644Z"
   },
   {
    "duration": 14,
    "start_time": "2023-11-30T19:52:04.676Z"
   },
   {
    "duration": 23,
    "start_time": "2023-11-30T19:52:04.691Z"
   },
   {
    "duration": 277,
    "start_time": "2023-11-30T19:52:04.716Z"
   },
   {
    "duration": 189,
    "start_time": "2023-11-30T19:52:04.994Z"
   },
   {
    "duration": 305,
    "start_time": "2023-11-30T19:52:05.186Z"
   },
   {
    "duration": 254,
    "start_time": "2023-11-30T19:52:05.493Z"
   },
   {
    "duration": 410,
    "start_time": "2023-11-30T19:52:05.748Z"
   },
   {
    "duration": 14,
    "start_time": "2023-11-30T19:52:06.159Z"
   },
   {
    "duration": 147,
    "start_time": "2023-11-30T19:52:06.174Z"
   },
   {
    "duration": 3,
    "start_time": "2023-11-30T19:52:06.323Z"
   },
   {
    "duration": 368,
    "start_time": "2023-11-30T19:52:06.328Z"
   },
   {
    "duration": 11,
    "start_time": "2023-11-30T19:52:06.697Z"
   },
   {
    "duration": 9,
    "start_time": "2023-11-30T19:55:07.691Z"
   },
   {
    "duration": 167,
    "start_time": "2023-11-30T20:43:12.998Z"
   },
   {
    "duration": 8,
    "start_time": "2023-11-30T20:55:27.979Z"
   },
   {
    "duration": 115,
    "start_time": "2023-11-30T20:55:31.431Z"
   },
   {
    "duration": 71,
    "start_time": "2023-11-30T20:55:44.079Z"
   },
   {
    "duration": 127,
    "start_time": "2023-11-30T20:55:54.947Z"
   },
   {
    "duration": 6,
    "start_time": "2023-11-30T20:55:59.353Z"
   },
   {
    "duration": 10,
    "start_time": "2023-11-30T20:56:00.009Z"
   },
   {
    "duration": 11,
    "start_time": "2023-11-30T20:56:02.151Z"
   },
   {
    "duration": 103,
    "start_time": "2023-11-30T20:56:40.069Z"
   },
   {
    "duration": 5,
    "start_time": "2023-11-30T20:56:43.657Z"
   },
   {
    "duration": 226,
    "start_time": "2023-11-30T20:59:05.318Z"
   },
   {
    "duration": 251,
    "start_time": "2023-11-30T22:14:27.907Z"
   },
   {
    "duration": 220,
    "start_time": "2023-11-30T22:14:37.553Z"
   },
   {
    "duration": 223,
    "start_time": "2023-11-30T22:15:12.981Z"
   },
   {
    "duration": 228,
    "start_time": "2023-11-30T22:16:13.138Z"
   },
   {
    "duration": 210,
    "start_time": "2023-11-30T22:16:50.171Z"
   },
   {
    "duration": 209,
    "start_time": "2023-11-30T22:16:58.498Z"
   },
   {
    "duration": 213,
    "start_time": "2023-11-30T22:17:40.597Z"
   },
   {
    "duration": 229,
    "start_time": "2023-11-30T22:17:50.366Z"
   },
   {
    "duration": 107,
    "start_time": "2023-11-30T22:20:35.907Z"
   },
   {
    "duration": 246,
    "start_time": "2023-11-30T22:20:45.799Z"
   },
   {
    "duration": 221,
    "start_time": "2023-11-30T22:21:08.308Z"
   },
   {
    "duration": 326,
    "start_time": "2023-11-30T22:21:36.290Z"
   },
   {
    "duration": 372,
    "start_time": "2023-11-30T22:27:35.167Z"
   },
   {
    "duration": 314,
    "start_time": "2023-11-30T22:27:51.823Z"
   },
   {
    "duration": 339,
    "start_time": "2023-11-30T22:28:50.560Z"
   },
   {
    "duration": 231,
    "start_time": "2023-11-30T22:30:59.930Z"
   },
   {
    "duration": 213,
    "start_time": "2023-11-30T22:31:36.927Z"
   },
   {
    "duration": 205,
    "start_time": "2023-11-30T22:31:43.991Z"
   },
   {
    "duration": 224,
    "start_time": "2023-11-30T22:31:56.277Z"
   },
   {
    "duration": 211,
    "start_time": "2023-11-30T22:32:04.158Z"
   },
   {
    "duration": 219,
    "start_time": "2023-11-30T22:32:17.140Z"
   },
   {
    "duration": 224,
    "start_time": "2023-11-30T22:32:21.550Z"
   },
   {
    "duration": 400,
    "start_time": "2023-11-30T22:32:41.432Z"
   },
   {
    "duration": 234,
    "start_time": "2023-11-30T22:33:00.635Z"
   },
   {
    "duration": 9,
    "start_time": "2023-11-30T22:34:07.064Z"
   },
   {
    "duration": 316,
    "start_time": "2023-11-30T22:37:03.315Z"
   },
   {
    "duration": 366,
    "start_time": "2023-11-30T22:37:24.054Z"
   },
   {
    "duration": 354,
    "start_time": "2023-11-30T22:37:41.835Z"
   },
   {
    "duration": 364,
    "start_time": "2023-11-30T22:38:01.269Z"
   },
   {
    "duration": 355,
    "start_time": "2023-11-30T22:38:14.267Z"
   },
   {
    "duration": 338,
    "start_time": "2023-11-30T22:39:00.779Z"
   },
   {
    "duration": 347,
    "start_time": "2023-11-30T22:39:26.331Z"
   },
   {
    "duration": 328,
    "start_time": "2023-11-30T22:40:02.924Z"
   },
   {
    "duration": 369,
    "start_time": "2023-11-30T22:40:31.759Z"
   },
   {
    "duration": 303,
    "start_time": "2023-11-30T22:42:48.302Z"
   },
   {
    "duration": 338,
    "start_time": "2023-11-30T22:43:57.934Z"
   },
   {
    "duration": 95,
    "start_time": "2023-11-30T22:44:49.946Z"
   },
   {
    "duration": 356,
    "start_time": "2023-11-30T22:44:57.535Z"
   },
   {
    "duration": 357,
    "start_time": "2023-11-30T22:45:07.651Z"
   },
   {
    "duration": 345,
    "start_time": "2023-11-30T22:45:14.927Z"
   },
   {
    "duration": 163,
    "start_time": "2023-11-30T22:46:49.406Z"
   },
   {
    "duration": 178,
    "start_time": "2023-11-30T22:47:00.761Z"
   },
   {
    "duration": 176,
    "start_time": "2023-11-30T22:47:08.739Z"
   },
   {
    "duration": 149,
    "start_time": "2023-11-30T22:47:19.033Z"
   },
   {
    "duration": 158,
    "start_time": "2023-11-30T22:47:54.126Z"
   },
   {
    "duration": 44,
    "start_time": "2023-12-03T21:02:52.486Z"
   },
   {
    "duration": 1333,
    "start_time": "2023-12-03T21:02:57.371Z"
   },
   {
    "duration": 69,
    "start_time": "2023-12-03T21:02:58.706Z"
   },
   {
    "duration": 69,
    "start_time": "2023-12-03T21:02:58.777Z"
   },
   {
    "duration": 54,
    "start_time": "2023-12-03T21:02:58.848Z"
   },
   {
    "duration": 66,
    "start_time": "2023-12-03T21:02:58.904Z"
   },
   {
    "duration": 10,
    "start_time": "2023-12-03T21:02:58.972Z"
   },
   {
    "duration": 7,
    "start_time": "2023-12-03T21:02:58.983Z"
   },
   {
    "duration": 13,
    "start_time": "2023-12-03T21:02:58.991Z"
   },
   {
    "duration": 26,
    "start_time": "2023-12-03T21:02:59.005Z"
   },
   {
    "duration": 8,
    "start_time": "2023-12-03T21:02:59.034Z"
   },
   {
    "duration": 10,
    "start_time": "2023-12-03T21:02:59.043Z"
   },
   {
    "duration": 11,
    "start_time": "2023-12-03T21:02:59.055Z"
   },
   {
    "duration": 9,
    "start_time": "2023-12-03T21:02:59.068Z"
   },
   {
    "duration": 11,
    "start_time": "2023-12-03T21:02:59.078Z"
   },
   {
    "duration": 7,
    "start_time": "2023-12-03T21:02:59.090Z"
   },
   {
    "duration": 17,
    "start_time": "2023-12-03T21:02:59.099Z"
   },
   {
    "duration": 155,
    "start_time": "2023-12-03T21:02:59.131Z"
   },
   {
    "duration": 117,
    "start_time": "2023-12-03T21:02:59.289Z"
   },
   {
    "duration": 8,
    "start_time": "2023-12-03T21:02:59.407Z"
   },
   {
    "duration": 21,
    "start_time": "2023-12-03T21:02:59.416Z"
   },
   {
    "duration": 21,
    "start_time": "2023-12-03T21:02:59.439Z"
   },
   {
    "duration": 5,
    "start_time": "2023-12-03T21:02:59.462Z"
   },
   {
    "duration": 20,
    "start_time": "2023-12-03T21:02:59.469Z"
   },
   {
    "duration": 293,
    "start_time": "2023-12-03T21:02:59.491Z"
   },
   {
    "duration": 230,
    "start_time": "2023-12-03T21:02:59.785Z"
   },
   {
    "duration": 413,
    "start_time": "2023-12-03T21:03:00.017Z"
   },
   {
    "duration": 234,
    "start_time": "2023-12-03T21:03:00.432Z"
   },
   {
    "duration": 322,
    "start_time": "2023-12-03T21:03:00.669Z"
   },
   {
    "duration": 11,
    "start_time": "2023-12-03T21:03:00.992Z"
   },
   {
    "duration": 170,
    "start_time": "2023-12-03T21:03:01.005Z"
   },
   {
    "duration": 5,
    "start_time": "2023-12-03T21:03:01.177Z"
   },
   {
    "duration": 366,
    "start_time": "2023-12-03T21:03:01.184Z"
   },
   {
    "duration": 12,
    "start_time": "2023-12-03T21:03:01.552Z"
   },
   {
    "duration": 142,
    "start_time": "2023-12-03T21:07:16.563Z"
   },
   {
    "duration": 272,
    "start_time": "2023-12-03T21:08:34.851Z"
   },
   {
    "duration": 169,
    "start_time": "2023-12-03T21:09:05.778Z"
   },
   {
    "duration": 148,
    "start_time": "2023-12-03T21:09:16.960Z"
   },
   {
    "duration": 146,
    "start_time": "2023-12-03T21:18:40.415Z"
   },
   {
    "duration": 142,
    "start_time": "2023-12-03T21:18:46.981Z"
   },
   {
    "duration": 148,
    "start_time": "2023-12-03T21:18:52.396Z"
   },
   {
    "duration": 3,
    "start_time": "2023-12-03T21:21:37.219Z"
   },
   {
    "duration": 5,
    "start_time": "2023-12-03T21:21:37.763Z"
   },
   {
    "duration": 4,
    "start_time": "2023-12-03T21:22:27.074Z"
   },
   {
    "duration": 5,
    "start_time": "2023-12-03T21:22:27.482Z"
   },
   {
    "duration": 67,
    "start_time": "2023-12-03T21:23:50.128Z"
   },
   {
    "duration": 5,
    "start_time": "2023-12-03T21:24:01.733Z"
   },
   {
    "duration": 153,
    "start_time": "2023-12-03T21:33:37.326Z"
   },
   {
    "duration": 8,
    "start_time": "2023-12-03T21:36:16.386Z"
   },
   {
    "duration": 9,
    "start_time": "2023-12-03T21:36:59.784Z"
   },
   {
    "duration": 6,
    "start_time": "2023-12-03T21:38:43.371Z"
   },
   {
    "duration": 5,
    "start_time": "2023-12-03T21:38:44.139Z"
   },
   {
    "duration": 4,
    "start_time": "2023-12-03T21:45:48.935Z"
   },
   {
    "duration": 5,
    "start_time": "2023-12-03T21:47:56.254Z"
   },
   {
    "duration": 5,
    "start_time": "2023-12-03T21:49:20.525Z"
   },
   {
    "duration": 328,
    "start_time": "2023-12-03T21:55:15.905Z"
   },
   {
    "duration": 324,
    "start_time": "2023-12-03T21:58:19.126Z"
   },
   {
    "duration": 8,
    "start_time": "2023-12-03T22:06:55.288Z"
   },
   {
    "duration": 1324,
    "start_time": "2023-12-03T22:14:29.289Z"
   },
   {
    "duration": 1291,
    "start_time": "2023-12-03T22:14:59.446Z"
   },
   {
    "duration": 1238,
    "start_time": "2023-12-03T22:15:46.777Z"
   },
   {
    "duration": 33,
    "start_time": "2023-12-03T22:16:02.533Z"
   },
   {
    "duration": 1220,
    "start_time": "2023-12-03T22:17:55.644Z"
   },
   {
    "duration": 10,
    "start_time": "2023-12-03T22:18:12.219Z"
   },
   {
    "duration": 207,
    "start_time": "2023-12-03T22:39:48.713Z"
   },
   {
    "duration": 5,
    "start_time": "2023-12-03T23:03:12.352Z"
   },
   {
    "duration": 159,
    "start_time": "2023-12-03T23:04:22.716Z"
   },
   {
    "duration": 10,
    "start_time": "2023-12-03T23:10:18.491Z"
   },
   {
    "duration": 10,
    "start_time": "2023-12-03T23:12:38.135Z"
   },
   {
    "duration": 1083,
    "start_time": "2023-12-03T23:12:47.749Z"
   },
   {
    "duration": 27,
    "start_time": "2023-12-03T23:12:48.834Z"
   },
   {
    "duration": 36,
    "start_time": "2023-12-03T23:12:48.862Z"
   },
   {
    "duration": 15,
    "start_time": "2023-12-03T23:12:48.900Z"
   },
   {
    "duration": 59,
    "start_time": "2023-12-03T23:12:48.917Z"
   },
   {
    "duration": 9,
    "start_time": "2023-12-03T23:12:48.978Z"
   },
   {
    "duration": 7,
    "start_time": "2023-12-03T23:12:48.988Z"
   },
   {
    "duration": 5,
    "start_time": "2023-12-03T23:12:48.997Z"
   },
   {
    "duration": 29,
    "start_time": "2023-12-03T23:12:49.003Z"
   },
   {
    "duration": 10,
    "start_time": "2023-12-03T23:12:49.033Z"
   },
   {
    "duration": 11,
    "start_time": "2023-12-03T23:12:49.045Z"
   },
   {
    "duration": 10,
    "start_time": "2023-12-03T23:12:49.058Z"
   },
   {
    "duration": 5,
    "start_time": "2023-12-03T23:12:49.069Z"
   },
   {
    "duration": 12,
    "start_time": "2023-12-03T23:12:49.076Z"
   },
   {
    "duration": 5,
    "start_time": "2023-12-03T23:12:49.090Z"
   },
   {
    "duration": 7,
    "start_time": "2023-12-03T23:12:49.097Z"
   },
   {
    "duration": 176,
    "start_time": "2023-12-03T23:12:49.105Z"
   },
   {
    "duration": 117,
    "start_time": "2023-12-03T23:12:49.282Z"
   },
   {
    "duration": 6,
    "start_time": "2023-12-03T23:12:49.400Z"
   },
   {
    "duration": 23,
    "start_time": "2023-12-03T23:12:49.408Z"
   },
   {
    "duration": 9,
    "start_time": "2023-12-03T23:12:49.433Z"
   },
   {
    "duration": 5,
    "start_time": "2023-12-03T23:12:49.444Z"
   },
   {
    "duration": 6,
    "start_time": "2023-12-03T23:12:49.450Z"
   },
   {
    "duration": 302,
    "start_time": "2023-12-03T23:12:49.457Z"
   },
   {
    "duration": 226,
    "start_time": "2023-12-03T23:12:49.760Z"
   },
   {
    "duration": 324,
    "start_time": "2023-12-03T23:12:49.987Z"
   },
   {
    "duration": 236,
    "start_time": "2023-12-03T23:12:50.313Z"
   },
   {
    "duration": 327,
    "start_time": "2023-12-03T23:12:50.550Z"
   },
   {
    "duration": 102,
    "start_time": "2023-12-03T23:12:50.878Z"
   },
   {
    "duration": 0,
    "start_time": "2023-12-03T23:12:50.982Z"
   },
   {
    "duration": 0,
    "start_time": "2023-12-03T23:12:50.983Z"
   },
   {
    "duration": 0,
    "start_time": "2023-12-03T23:12:50.984Z"
   },
   {
    "duration": 0,
    "start_time": "2023-12-03T23:12:50.985Z"
   },
   {
    "duration": 0,
    "start_time": "2023-12-03T23:12:50.986Z"
   },
   {
    "duration": 0,
    "start_time": "2023-12-03T23:12:50.987Z"
   },
   {
    "duration": 0,
    "start_time": "2023-12-03T23:12:50.988Z"
   },
   {
    "duration": 0,
    "start_time": "2023-12-03T23:12:50.989Z"
   },
   {
    "duration": 0,
    "start_time": "2023-12-03T23:12:50.990Z"
   },
   {
    "duration": 0,
    "start_time": "2023-12-03T23:12:50.991Z"
   },
   {
    "duration": 0,
    "start_time": "2023-12-03T23:12:50.992Z"
   },
   {
    "duration": 66,
    "start_time": "2023-12-03T23:13:41.592Z"
   },
   {
    "duration": 163,
    "start_time": "2023-12-03T23:14:12.311Z"
   },
   {
    "duration": 4,
    "start_time": "2023-12-03T23:14:18.545Z"
   },
   {
    "duration": 5,
    "start_time": "2023-12-03T23:14:19.039Z"
   },
   {
    "duration": 4,
    "start_time": "2023-12-03T23:14:20.751Z"
   },
   {
    "duration": 229,
    "start_time": "2023-12-03T23:14:21.984Z"
   },
   {
    "duration": 6,
    "start_time": "2023-12-03T23:14:22.765Z"
   },
   {
    "duration": 5,
    "start_time": "2023-12-03T23:14:23.329Z"
   },
   {
    "duration": 5,
    "start_time": "2023-12-03T23:14:25.348Z"
   },
   {
    "duration": 338,
    "start_time": "2023-12-03T23:14:27.246Z"
   },
   {
    "duration": 9,
    "start_time": "2023-12-03T23:14:36.880Z"
   },
   {
    "duration": 8,
    "start_time": "2023-12-03T23:15:18.189Z"
   },
   {
    "duration": 32,
    "start_time": "2023-12-03T23:16:18.443Z"
   },
   {
    "duration": 31,
    "start_time": "2023-12-03T23:16:21.909Z"
   },
   {
    "duration": 1307,
    "start_time": "2023-12-03T23:17:54.536Z"
   },
   {
    "duration": 14,
    "start_time": "2023-12-03T23:18:06.035Z"
   },
   {
    "duration": 49,
    "start_time": "2023-12-04T20:06:05.048Z"
   },
   {
    "duration": 1329,
    "start_time": "2023-12-04T20:06:10.054Z"
   },
   {
    "duration": 58,
    "start_time": "2023-12-04T20:06:11.386Z"
   },
   {
    "duration": 78,
    "start_time": "2023-12-04T20:06:11.445Z"
   },
   {
    "duration": 50,
    "start_time": "2023-12-04T20:06:12.262Z"
   },
   {
    "duration": 63,
    "start_time": "2023-12-04T20:06:13.911Z"
   },
   {
    "duration": 10,
    "start_time": "2023-12-04T20:06:19.333Z"
   },
   {
    "duration": 5,
    "start_time": "2023-12-04T20:06:39.536Z"
   },
   {
    "duration": 5,
    "start_time": "2023-12-04T20:06:40.282Z"
   },
   {
    "duration": 7,
    "start_time": "2023-12-04T20:06:40.948Z"
   },
   {
    "duration": 5,
    "start_time": "2023-12-04T20:08:19.559Z"
   },
   {
    "duration": 8,
    "start_time": "2023-12-04T20:08:20.025Z"
   },
   {
    "duration": 7,
    "start_time": "2023-12-04T20:11:11.215Z"
   },
   {
    "duration": 7,
    "start_time": "2023-12-04T20:11:18.197Z"
   },
   {
    "duration": 8,
    "start_time": "2023-12-04T20:36:06.724Z"
   },
   {
    "duration": 5,
    "start_time": "2023-12-04T20:37:27.066Z"
   },
   {
    "duration": 4,
    "start_time": "2023-12-04T20:37:51.462Z"
   },
   {
    "duration": 6,
    "start_time": "2023-12-04T20:37:52.909Z"
   },
   {
    "duration": 162,
    "start_time": "2023-12-04T20:37:54.659Z"
   },
   {
    "duration": 112,
    "start_time": "2023-12-04T20:38:44.073Z"
   },
   {
    "duration": 7,
    "start_time": "2023-12-04T20:38:47.275Z"
   },
   {
    "duration": 8,
    "start_time": "2023-12-04T20:38:49.879Z"
   },
   {
    "duration": 10,
    "start_time": "2023-12-04T20:38:50.552Z"
   },
   {
    "duration": 5,
    "start_time": "2023-12-04T20:38:54.485Z"
   },
   {
    "duration": 4,
    "start_time": "2023-12-04T20:38:57.018Z"
   },
   {
    "duration": 376,
    "start_time": "2023-12-04T22:23:24.493Z"
   },
   {
    "duration": 11,
    "start_time": "2023-12-04T22:25:07.856Z"
   },
   {
    "duration": 394,
    "start_time": "2023-12-04T22:41:42.717Z"
   },
   {
    "duration": 10,
    "start_time": "2023-12-04T22:42:57.584Z"
   },
   {
    "duration": 9,
    "start_time": "2023-12-04T22:43:06.289Z"
   },
   {
    "duration": 12,
    "start_time": "2023-12-04T22:43:13.255Z"
   },
   {
    "duration": 13,
    "start_time": "2023-12-04T22:43:20.737Z"
   },
   {
    "duration": 84,
    "start_time": "2023-12-04T22:44:27.273Z"
   },
   {
    "duration": 1108,
    "start_time": "2023-12-04T22:46:43.168Z"
   },
   {
    "duration": 27,
    "start_time": "2023-12-04T22:46:44.278Z"
   },
   {
    "duration": 36,
    "start_time": "2023-12-04T22:46:44.307Z"
   },
   {
    "duration": 15,
    "start_time": "2023-12-04T22:46:44.346Z"
   },
   {
    "duration": 68,
    "start_time": "2023-12-04T22:46:44.363Z"
   },
   {
    "duration": 13,
    "start_time": "2023-12-04T22:46:44.432Z"
   },
   {
    "duration": 15,
    "start_time": "2023-12-04T22:46:44.446Z"
   },
   {
    "duration": 20,
    "start_time": "2023-12-04T22:46:44.463Z"
   },
   {
    "duration": 22,
    "start_time": "2023-12-04T22:46:44.485Z"
   },
   {
    "duration": 37,
    "start_time": "2023-12-04T22:46:44.510Z"
   },
   {
    "duration": 22,
    "start_time": "2023-12-04T22:46:44.548Z"
   },
   {
    "duration": 28,
    "start_time": "2023-12-04T22:46:44.571Z"
   },
   {
    "duration": 24,
    "start_time": "2023-12-04T22:46:44.600Z"
   },
   {
    "duration": 210,
    "start_time": "2023-12-04T22:46:44.626Z"
   },
   {
    "duration": 129,
    "start_time": "2023-12-04T22:46:44.837Z"
   },
   {
    "duration": 6,
    "start_time": "2023-12-04T22:46:44.968Z"
   },
   {
    "duration": 22,
    "start_time": "2023-12-04T22:46:44.975Z"
   },
   {
    "duration": 48,
    "start_time": "2023-12-04T22:46:44.999Z"
   },
   {
    "duration": 108,
    "start_time": "2023-12-04T22:46:45.048Z"
   },
   {
    "duration": 55,
    "start_time": "2023-12-04T22:46:45.157Z"
   },
   {
    "duration": 327,
    "start_time": "2023-12-04T22:46:45.213Z"
   },
   {
    "duration": 235,
    "start_time": "2023-12-04T22:46:45.542Z"
   },
   {
    "duration": 337,
    "start_time": "2023-12-04T22:46:45.779Z"
   },
   {
    "duration": 226,
    "start_time": "2023-12-04T22:46:46.118Z"
   },
   {
    "duration": 332,
    "start_time": "2023-12-04T22:46:46.346Z"
   },
   {
    "duration": 150,
    "start_time": "2023-12-04T22:46:46.680Z"
   },
   {
    "duration": 12,
    "start_time": "2023-12-04T22:46:46.831Z"
   },
   {
    "duration": 27,
    "start_time": "2023-12-04T22:46:46.846Z"
   },
   {
    "duration": 38,
    "start_time": "2023-12-04T22:46:46.875Z"
   },
   {
    "duration": 186,
    "start_time": "2023-12-04T22:46:46.915Z"
   },
   {
    "duration": 6,
    "start_time": "2023-12-04T22:46:47.103Z"
   },
   {
    "duration": 36,
    "start_time": "2023-12-04T22:46:47.110Z"
   },
   {
    "duration": 40,
    "start_time": "2023-12-04T22:46:47.148Z"
   },
   {
    "duration": 427,
    "start_time": "2023-12-04T22:46:47.189Z"
   },
   {
    "duration": 9,
    "start_time": "2023-12-04T22:46:47.618Z"
   },
   {
    "duration": 53,
    "start_time": "2023-12-04T22:46:47.629Z"
   },
   {
    "duration": 12,
    "start_time": "2023-12-04T22:46:47.684Z"
   },
   {
    "duration": 10,
    "start_time": "2023-12-04T22:48:04.844Z"
   },
   {
    "duration": 1182,
    "start_time": "2023-12-04T22:48:13.438Z"
   },
   {
    "duration": 26,
    "start_time": "2023-12-04T22:48:14.622Z"
   },
   {
    "duration": 36,
    "start_time": "2023-12-04T22:48:14.649Z"
   },
   {
    "duration": 15,
    "start_time": "2023-12-04T22:48:14.686Z"
   },
   {
    "duration": 69,
    "start_time": "2023-12-04T22:48:14.703Z"
   },
   {
    "duration": 5,
    "start_time": "2023-12-04T22:48:14.773Z"
   },
   {
    "duration": 11,
    "start_time": "2023-12-04T22:48:14.780Z"
   },
   {
    "duration": 12,
    "start_time": "2023-12-04T22:48:14.793Z"
   },
   {
    "duration": 10,
    "start_time": "2023-12-04T22:48:14.807Z"
   },
   {
    "duration": 25,
    "start_time": "2023-12-04T22:48:14.818Z"
   },
   {
    "duration": 6,
    "start_time": "2023-12-04T22:48:14.845Z"
   },
   {
    "duration": 7,
    "start_time": "2023-12-04T22:48:14.852Z"
   },
   {
    "duration": 7,
    "start_time": "2023-12-04T22:48:14.861Z"
   },
   {
    "duration": 178,
    "start_time": "2023-12-04T22:48:14.871Z"
   },
   {
    "duration": 126,
    "start_time": "2023-12-04T22:48:15.051Z"
   },
   {
    "duration": 7,
    "start_time": "2023-12-04T22:48:15.179Z"
   },
   {
    "duration": 10,
    "start_time": "2023-12-04T22:48:15.187Z"
   },
   {
    "duration": 10,
    "start_time": "2023-12-04T22:48:15.198Z"
   },
   {
    "duration": 5,
    "start_time": "2023-12-04T22:48:15.209Z"
   },
   {
    "duration": 30,
    "start_time": "2023-12-04T22:48:15.215Z"
   },
   {
    "duration": 308,
    "start_time": "2023-12-04T22:48:15.247Z"
   },
   {
    "duration": 233,
    "start_time": "2023-12-04T22:48:15.556Z"
   },
   {
    "duration": 326,
    "start_time": "2023-12-04T22:48:15.790Z"
   },
   {
    "duration": 234,
    "start_time": "2023-12-04T22:48:16.117Z"
   },
   {
    "duration": 344,
    "start_time": "2023-12-04T22:48:16.352Z"
   },
   {
    "duration": 156,
    "start_time": "2023-12-04T22:48:16.698Z"
   },
   {
    "duration": 4,
    "start_time": "2023-12-04T22:48:16.855Z"
   },
   {
    "duration": 5,
    "start_time": "2023-12-04T22:48:16.860Z"
   },
   {
    "duration": 5,
    "start_time": "2023-12-04T22:48:16.866Z"
   },
   {
    "duration": 179,
    "start_time": "2023-12-04T22:48:16.872Z"
   },
   {
    "duration": 6,
    "start_time": "2023-12-04T22:48:17.052Z"
   },
   {
    "duration": 6,
    "start_time": "2023-12-04T22:48:17.059Z"
   },
   {
    "duration": 16,
    "start_time": "2023-12-04T22:48:17.066Z"
   },
   {
    "duration": 444,
    "start_time": "2023-12-04T22:48:17.084Z"
   },
   {
    "duration": 19,
    "start_time": "2023-12-04T22:48:17.530Z"
   },
   {
    "duration": 32,
    "start_time": "2023-12-04T22:48:17.551Z"
   },
   {
    "duration": 13,
    "start_time": "2023-12-04T22:48:17.584Z"
   },
   {
    "duration": 1299,
    "start_time": "2023-12-04T23:43:17.019Z"
   },
   {
    "duration": 65,
    "start_time": "2023-12-04T23:43:18.320Z"
   },
   {
    "duration": 84,
    "start_time": "2023-12-04T23:43:18.386Z"
   },
   {
    "duration": 54,
    "start_time": "2023-12-04T23:43:18.472Z"
   },
   {
    "duration": 64,
    "start_time": "2023-12-04T23:43:18.527Z"
   },
   {
    "duration": 4,
    "start_time": "2023-12-04T23:43:18.593Z"
   },
   {
    "duration": 3,
    "start_time": "2023-12-04T23:43:18.599Z"
   },
   {
    "duration": 11,
    "start_time": "2023-12-04T23:43:18.604Z"
   },
   {
    "duration": 6,
    "start_time": "2023-12-04T23:43:18.616Z"
   },
   {
    "duration": 10,
    "start_time": "2023-12-04T23:43:18.624Z"
   },
   {
    "duration": 7,
    "start_time": "2023-12-04T23:43:18.635Z"
   },
   {
    "duration": 5,
    "start_time": "2023-12-04T23:43:18.643Z"
   },
   {
    "duration": 13,
    "start_time": "2023-12-04T23:43:18.649Z"
   },
   {
    "duration": 173,
    "start_time": "2023-12-04T23:43:18.663Z"
   },
   {
    "duration": 130,
    "start_time": "2023-12-04T23:43:18.837Z"
   },
   {
    "duration": 7,
    "start_time": "2023-12-04T23:43:18.968Z"
   },
   {
    "duration": 13,
    "start_time": "2023-12-04T23:43:18.976Z"
   },
   {
    "duration": 21,
    "start_time": "2023-12-04T23:43:18.991Z"
   },
   {
    "duration": 4,
    "start_time": "2023-12-04T23:43:19.014Z"
   },
   {
    "duration": 6,
    "start_time": "2023-12-04T23:43:19.020Z"
   },
   {
    "duration": 307,
    "start_time": "2023-12-04T23:43:19.028Z"
   },
   {
    "duration": 217,
    "start_time": "2023-12-04T23:43:19.336Z"
   },
   {
    "duration": 351,
    "start_time": "2023-12-04T23:43:19.555Z"
   },
   {
    "duration": 222,
    "start_time": "2023-12-04T23:43:19.911Z"
   },
   {
    "duration": 319,
    "start_time": "2023-12-04T23:43:20.135Z"
   },
   {
    "duration": 146,
    "start_time": "2023-12-04T23:43:20.455Z"
   },
   {
    "duration": 4,
    "start_time": "2023-12-04T23:43:20.602Z"
   },
   {
    "duration": 7,
    "start_time": "2023-12-04T23:43:20.612Z"
   },
   {
    "duration": 6,
    "start_time": "2023-12-04T23:43:20.620Z"
   },
   {
    "duration": 159,
    "start_time": "2023-12-04T23:43:20.627Z"
   },
   {
    "duration": 6,
    "start_time": "2023-12-04T23:43:20.788Z"
   },
   {
    "duration": 17,
    "start_time": "2023-12-04T23:43:20.795Z"
   },
   {
    "duration": 6,
    "start_time": "2023-12-04T23:43:20.813Z"
   },
   {
    "duration": 408,
    "start_time": "2023-12-04T23:43:20.821Z"
   },
   {
    "duration": 10,
    "start_time": "2023-12-04T23:43:21.231Z"
   },
   {
    "duration": 33,
    "start_time": "2023-12-04T23:43:21.242Z"
   },
   {
    "duration": 34,
    "start_time": "2023-12-04T23:43:21.277Z"
   },
   {
    "duration": 4,
    "start_time": "2023-12-05T17:58:39.970Z"
   },
   {
    "duration": 120,
    "start_time": "2023-12-05T18:00:42.521Z"
   },
   {
    "duration": 1413,
    "start_time": "2023-12-05T18:01:23.347Z"
   },
   {
    "duration": 60,
    "start_time": "2023-12-05T18:01:24.761Z"
   },
   {
    "duration": 78,
    "start_time": "2023-12-05T18:01:24.822Z"
   },
   {
    "duration": 51,
    "start_time": "2023-12-05T18:01:24.902Z"
   },
   {
    "duration": 65,
    "start_time": "2023-12-05T18:01:24.955Z"
   },
   {
    "duration": 4,
    "start_time": "2023-12-05T18:01:25.022Z"
   },
   {
    "duration": 10,
    "start_time": "2023-12-05T18:01:25.028Z"
   },
   {
    "duration": 16,
    "start_time": "2023-12-05T18:01:25.041Z"
   },
   {
    "duration": 12,
    "start_time": "2023-12-05T18:01:25.059Z"
   },
   {
    "duration": 15,
    "start_time": "2023-12-05T18:01:25.073Z"
   },
   {
    "duration": 21,
    "start_time": "2023-12-05T18:01:25.089Z"
   },
   {
    "duration": 33,
    "start_time": "2023-12-05T18:01:25.112Z"
   },
   {
    "duration": 18,
    "start_time": "2023-12-05T18:01:25.147Z"
   },
   {
    "duration": 165,
    "start_time": "2023-12-05T18:01:25.168Z"
   },
   {
    "duration": 129,
    "start_time": "2023-12-05T18:01:25.335Z"
   },
   {
    "duration": 7,
    "start_time": "2023-12-05T18:01:25.466Z"
   },
   {
    "duration": 28,
    "start_time": "2023-12-05T18:01:25.474Z"
   },
   {
    "duration": 17,
    "start_time": "2023-12-05T18:01:25.504Z"
   },
   {
    "duration": 7,
    "start_time": "2023-12-05T18:01:25.523Z"
   },
   {
    "duration": 14,
    "start_time": "2023-12-05T18:01:25.532Z"
   },
   {
    "duration": 336,
    "start_time": "2023-12-05T18:01:25.548Z"
   },
   {
    "duration": 246,
    "start_time": "2023-12-05T18:01:25.887Z"
   },
   {
    "duration": 397,
    "start_time": "2023-12-05T18:01:26.135Z"
   },
   {
    "duration": 278,
    "start_time": "2023-12-05T18:01:26.533Z"
   },
   {
    "duration": 353,
    "start_time": "2023-12-05T18:01:26.813Z"
   },
   {
    "duration": 169,
    "start_time": "2023-12-05T18:01:27.168Z"
   },
   {
    "duration": 4,
    "start_time": "2023-12-05T18:01:27.339Z"
   },
   {
    "duration": 13,
    "start_time": "2023-12-05T18:01:27.344Z"
   },
   {
    "duration": 8,
    "start_time": "2023-12-05T18:01:27.359Z"
   },
   {
    "duration": 183,
    "start_time": "2023-12-05T18:01:27.369Z"
   },
   {
    "duration": 7,
    "start_time": "2023-12-05T18:01:27.554Z"
   },
   {
    "duration": 15,
    "start_time": "2023-12-05T18:01:27.563Z"
   },
   {
    "duration": 14,
    "start_time": "2023-12-05T18:01:27.580Z"
   },
   {
    "duration": 465,
    "start_time": "2023-12-05T18:01:27.596Z"
   },
   {
    "duration": 11,
    "start_time": "2023-12-05T18:01:28.063Z"
   },
   {
    "duration": 64,
    "start_time": "2023-12-05T18:01:28.076Z"
   },
   {
    "duration": 14,
    "start_time": "2023-12-05T18:01:28.142Z"
   },
   {
    "duration": 92,
    "start_time": "2023-12-05T18:02:23.770Z"
   },
   {
    "duration": 72,
    "start_time": "2023-12-05T18:03:03.945Z"
   },
   {
    "duration": 3,
    "start_time": "2023-12-05T18:17:32.416Z"
   },
   {
    "duration": 4,
    "start_time": "2023-12-05T18:17:33.189Z"
   },
   {
    "duration": 5,
    "start_time": "2023-12-05T18:17:33.702Z"
   },
   {
    "duration": 8,
    "start_time": "2023-12-05T18:17:34.194Z"
   },
   {
    "duration": 9,
    "start_time": "2023-12-05T18:19:39.667Z"
   },
   {
    "duration": 6,
    "start_time": "2023-12-05T18:20:12.530Z"
   },
   {
    "duration": 8,
    "start_time": "2023-12-05T18:20:13.239Z"
   },
   {
    "duration": 74,
    "start_time": "2023-12-05T18:22:10.348Z"
   },
   {
    "duration": 5,
    "start_time": "2023-12-05T18:22:36.730Z"
   },
   {
    "duration": 100,
    "start_time": "2023-12-05T18:22:43.664Z"
   },
   {
    "duration": 5,
    "start_time": "2023-12-05T18:22:49.398Z"
   },
   {
    "duration": 5,
    "start_time": "2023-12-05T18:23:38.384Z"
   },
   {
    "duration": 4,
    "start_time": "2023-12-05T18:23:51.243Z"
   },
   {
    "duration": 4,
    "start_time": "2023-12-05T18:26:10.307Z"
   },
   {
    "duration": 8,
    "start_time": "2023-12-05T18:26:11.379Z"
   },
   {
    "duration": 4,
    "start_time": "2023-12-05T18:26:21.838Z"
   },
   {
    "duration": 3,
    "start_time": "2023-12-05T18:26:23.527Z"
   },
   {
    "duration": 14,
    "start_time": "2023-12-05T18:31:13.073Z"
   },
   {
    "duration": 6,
    "start_time": "2023-12-05T18:31:41.995Z"
   },
   {
    "duration": 88,
    "start_time": "2023-12-05T18:34:42.091Z"
   },
   {
    "duration": 7,
    "start_time": "2023-12-05T18:34:48.552Z"
   },
   {
    "duration": 14,
    "start_time": "2023-12-05T18:42:17.538Z"
   },
   {
    "duration": 341,
    "start_time": "2023-12-05T18:42:33.160Z"
   },
   {
    "duration": 65,
    "start_time": "2023-12-05T18:43:59.259Z"
   },
   {
    "duration": 86,
    "start_time": "2023-12-05T18:57:18.619Z"
   },
   {
    "duration": 391,
    "start_time": "2023-12-05T19:01:53.127Z"
   },
   {
    "duration": 388,
    "start_time": "2023-12-05T19:02:05.213Z"
   },
   {
    "duration": 374,
    "start_time": "2023-12-05T19:04:43.369Z"
   },
   {
    "duration": 379,
    "start_time": "2023-12-05T19:05:10.004Z"
   },
   {
    "duration": 369,
    "start_time": "2023-12-05T19:05:27.390Z"
   },
   {
    "duration": 372,
    "start_time": "2023-12-05T19:05:44.567Z"
   },
   {
    "duration": 367,
    "start_time": "2023-12-05T19:06:05.370Z"
   },
   {
    "duration": 362,
    "start_time": "2023-12-05T19:08:13.248Z"
   },
   {
    "duration": 77,
    "start_time": "2023-12-05T19:08:51.174Z"
   },
   {
    "duration": 13,
    "start_time": "2023-12-05T19:09:11.216Z"
   },
   {
    "duration": 11,
    "start_time": "2023-12-05T19:10:44.094Z"
   },
   {
    "duration": 26,
    "start_time": "2023-12-05T19:10:52.641Z"
   },
   {
    "duration": 5,
    "start_time": "2023-12-05T19:12:09.569Z"
   },
   {
    "duration": 4,
    "start_time": "2023-12-05T19:12:23.189Z"
   },
   {
    "duration": 4,
    "start_time": "2023-12-05T19:12:26.860Z"
   },
   {
    "duration": 4,
    "start_time": "2023-12-05T19:12:29.659Z"
   },
   {
    "duration": 9,
    "start_time": "2023-12-05T19:13:38.002Z"
   },
   {
    "duration": 15,
    "start_time": "2023-12-05T19:14:11.295Z"
   },
   {
    "duration": 97,
    "start_time": "2023-12-05T19:15:18.687Z"
   },
   {
    "duration": 84,
    "start_time": "2023-12-05T19:23:42.566Z"
   },
   {
    "duration": 89,
    "start_time": "2023-12-05T19:26:01.329Z"
   },
   {
    "duration": 39,
    "start_time": "2023-12-05T19:46:21.186Z"
   },
   {
    "duration": 42,
    "start_time": "2023-12-05T19:46:52.712Z"
   },
   {
    "duration": 71,
    "start_time": "2023-12-05T19:49:38.952Z"
   },
   {
    "duration": 36,
    "start_time": "2023-12-05T19:52:31.162Z"
   },
   {
    "duration": 13,
    "start_time": "2023-12-05T19:54:33.007Z"
   },
   {
    "duration": 15,
    "start_time": "2023-12-05T19:54:42.697Z"
   },
   {
    "duration": 15,
    "start_time": "2023-12-05T19:54:51.165Z"
   },
   {
    "duration": 15,
    "start_time": "2023-12-05T19:55:00.495Z"
   },
   {
    "duration": 14,
    "start_time": "2023-12-05T19:55:36.814Z"
   },
   {
    "duration": 1177,
    "start_time": "2023-12-05T19:56:43.898Z"
   },
   {
    "duration": 27,
    "start_time": "2023-12-05T19:56:45.077Z"
   },
   {
    "duration": 36,
    "start_time": "2023-12-05T19:56:45.105Z"
   },
   {
    "duration": 23,
    "start_time": "2023-12-05T19:56:45.143Z"
   },
   {
    "duration": 64,
    "start_time": "2023-12-05T19:56:45.167Z"
   },
   {
    "duration": 3,
    "start_time": "2023-12-05T19:56:45.233Z"
   },
   {
    "duration": 6,
    "start_time": "2023-12-05T19:56:45.238Z"
   },
   {
    "duration": 4,
    "start_time": "2023-12-05T19:56:45.246Z"
   },
   {
    "duration": 14,
    "start_time": "2023-12-05T19:56:45.251Z"
   },
   {
    "duration": 5,
    "start_time": "2023-12-05T19:56:45.267Z"
   },
   {
    "duration": 24,
    "start_time": "2023-12-05T19:56:45.274Z"
   },
   {
    "duration": 4,
    "start_time": "2023-12-05T19:56:45.307Z"
   },
   {
    "duration": 18,
    "start_time": "2023-12-05T19:56:45.312Z"
   },
   {
    "duration": 6,
    "start_time": "2023-12-05T19:56:45.332Z"
   },
   {
    "duration": 5,
    "start_time": "2023-12-05T19:56:45.340Z"
   },
   {
    "duration": 13,
    "start_time": "2023-12-05T19:56:45.346Z"
   },
   {
    "duration": 73,
    "start_time": "2023-12-05T19:56:45.360Z"
   },
   {
    "duration": 0,
    "start_time": "2023-12-05T19:56:45.435Z"
   },
   {
    "duration": 0,
    "start_time": "2023-12-05T19:56:45.437Z"
   },
   {
    "duration": 0,
    "start_time": "2023-12-05T19:56:45.438Z"
   },
   {
    "duration": 0,
    "start_time": "2023-12-05T19:56:45.439Z"
   },
   {
    "duration": 0,
    "start_time": "2023-12-05T19:56:45.440Z"
   },
   {
    "duration": 0,
    "start_time": "2023-12-05T19:56:45.442Z"
   },
   {
    "duration": 0,
    "start_time": "2023-12-05T19:56:45.443Z"
   },
   {
    "duration": 0,
    "start_time": "2023-12-05T19:56:45.444Z"
   },
   {
    "duration": 0,
    "start_time": "2023-12-05T19:56:45.445Z"
   },
   {
    "duration": 0,
    "start_time": "2023-12-05T19:56:45.446Z"
   },
   {
    "duration": 0,
    "start_time": "2023-12-05T19:56:45.447Z"
   },
   {
    "duration": 0,
    "start_time": "2023-12-05T19:56:45.448Z"
   },
   {
    "duration": 0,
    "start_time": "2023-12-05T19:56:45.449Z"
   },
   {
    "duration": 0,
    "start_time": "2023-12-05T19:56:45.451Z"
   },
   {
    "duration": 0,
    "start_time": "2023-12-05T19:56:45.452Z"
   },
   {
    "duration": 0,
    "start_time": "2023-12-05T19:56:45.453Z"
   },
   {
    "duration": 0,
    "start_time": "2023-12-05T19:56:45.454Z"
   },
   {
    "duration": 0,
    "start_time": "2023-12-05T19:56:45.455Z"
   },
   {
    "duration": 0,
    "start_time": "2023-12-05T19:56:45.457Z"
   },
   {
    "duration": 0,
    "start_time": "2023-12-05T19:56:45.458Z"
   },
   {
    "duration": 0,
    "start_time": "2023-12-05T19:56:45.459Z"
   },
   {
    "duration": 0,
    "start_time": "2023-12-05T19:56:45.460Z"
   },
   {
    "duration": 0,
    "start_time": "2023-12-05T19:56:45.461Z"
   },
   {
    "duration": 0,
    "start_time": "2023-12-05T19:56:45.462Z"
   },
   {
    "duration": 0,
    "start_time": "2023-12-05T19:56:45.463Z"
   },
   {
    "duration": 0,
    "start_time": "2023-12-05T19:56:45.465Z"
   },
   {
    "duration": 1,
    "start_time": "2023-12-05T19:56:45.465Z"
   },
   {
    "duration": 7,
    "start_time": "2023-12-05T19:57:51.257Z"
   },
   {
    "duration": 5,
    "start_time": "2023-12-05T19:58:38.975Z"
   },
   {
    "duration": 163,
    "start_time": "2023-12-05T19:58:40.739Z"
   },
   {
    "duration": 115,
    "start_time": "2023-12-05T19:58:41.568Z"
   },
   {
    "duration": 6,
    "start_time": "2023-12-05T19:58:54.011Z"
   },
   {
    "duration": 166,
    "start_time": "2023-12-05T19:58:54.729Z"
   },
   {
    "duration": 132,
    "start_time": "2023-12-05T19:58:55.480Z"
   },
   {
    "duration": 7,
    "start_time": "2023-12-05T19:58:56.354Z"
   },
   {
    "duration": 9,
    "start_time": "2023-12-05T19:58:56.729Z"
   },
   {
    "duration": 10,
    "start_time": "2023-12-05T19:58:57.897Z"
   },
   {
    "duration": 4,
    "start_time": "2023-12-05T19:58:59.847Z"
   },
   {
    "duration": 5,
    "start_time": "2023-12-05T19:59:00.218Z"
   },
   {
    "duration": 336,
    "start_time": "2023-12-05T19:59:00.564Z"
   },
   {
    "duration": 251,
    "start_time": "2023-12-05T19:59:05.992Z"
   },
   {
    "duration": 357,
    "start_time": "2023-12-05T19:59:08.433Z"
   },
   {
    "duration": 250,
    "start_time": "2023-12-05T19:59:11.296Z"
   },
   {
    "duration": 14,
    "start_time": "2023-12-05T19:59:15.019Z"
   },
   {
    "duration": 400,
    "start_time": "2023-12-05T19:59:16.385Z"
   },
   {
    "duration": 369,
    "start_time": "2023-12-05T19:59:39.282Z"
   },
   {
    "duration": 247,
    "start_time": "2023-12-05T19:59:44.758Z"
   },
   {
    "duration": 4,
    "start_time": "2023-12-05T19:59:45.039Z"
   },
   {
    "duration": 5,
    "start_time": "2023-12-05T19:59:45.336Z"
   },
   {
    "duration": 5,
    "start_time": "2023-12-05T19:59:51.751Z"
   },
   {
    "duration": 183,
    "start_time": "2023-12-05T19:59:54.141Z"
   },
   {
    "duration": 6,
    "start_time": "2023-12-05T19:59:56.359Z"
   },
   {
    "duration": 7,
    "start_time": "2023-12-05T19:59:56.703Z"
   },
   {
    "duration": 5,
    "start_time": "2023-12-05T20:00:03.504Z"
   },
   {
    "duration": 358,
    "start_time": "2023-12-05T20:01:01.473Z"
   },
   {
    "duration": 12,
    "start_time": "2023-12-05T20:01:16.433Z"
   },
   {
    "duration": 38,
    "start_time": "2023-12-05T20:01:26.482Z"
   },
   {
    "duration": 14,
    "start_time": "2023-12-05T20:01:40.879Z"
   },
   {
    "duration": 388,
    "start_time": "2023-12-05T20:03:00.407Z"
   },
   {
    "duration": 362,
    "start_time": "2023-12-05T20:03:51.451Z"
   },
   {
    "duration": 13,
    "start_time": "2023-12-05T20:04:17.383Z"
   },
   {
    "duration": 41,
    "start_time": "2023-12-05T20:05:02.125Z"
   },
   {
    "duration": 35,
    "start_time": "2023-12-05T20:05:13.155Z"
   },
   {
    "duration": 77,
    "start_time": "2023-12-05T20:05:18.958Z"
   },
   {
    "duration": 90,
    "start_time": "2023-12-05T20:05:50.915Z"
   },
   {
    "duration": 95,
    "start_time": "2023-12-05T20:06:38.684Z"
   },
   {
    "duration": 110,
    "start_time": "2023-12-05T20:07:43.002Z"
   },
   {
    "duration": 47,
    "start_time": "2023-12-05T20:08:10.756Z"
   },
   {
    "duration": 35,
    "start_time": "2023-12-05T20:08:51.582Z"
   },
   {
    "duration": 35,
    "start_time": "2023-12-05T20:09:02.244Z"
   },
   {
    "duration": 13,
    "start_time": "2023-12-05T20:09:57.969Z"
   },
   {
    "duration": 21,
    "start_time": "2023-12-05T20:11:03.757Z"
   },
   {
    "duration": 15,
    "start_time": "2023-12-05T20:11:50.078Z"
   },
   {
    "duration": 15,
    "start_time": "2023-12-05T20:12:43.627Z"
   },
   {
    "duration": 15,
    "start_time": "2023-12-05T20:13:20.904Z"
   },
   {
    "duration": 1220,
    "start_time": "2023-12-05T20:13:33.686Z"
   },
   {
    "duration": 27,
    "start_time": "2023-12-05T20:13:34.908Z"
   },
   {
    "duration": 36,
    "start_time": "2023-12-05T20:13:34.937Z"
   },
   {
    "duration": 16,
    "start_time": "2023-12-05T20:13:34.974Z"
   },
   {
    "duration": 63,
    "start_time": "2023-12-05T20:13:34.993Z"
   },
   {
    "duration": 2,
    "start_time": "2023-12-05T20:13:35.059Z"
   },
   {
    "duration": 9,
    "start_time": "2023-12-05T20:13:35.063Z"
   },
   {
    "duration": 5,
    "start_time": "2023-12-05T20:13:35.073Z"
   },
   {
    "duration": 33,
    "start_time": "2023-12-05T20:13:35.079Z"
   },
   {
    "duration": 7,
    "start_time": "2023-12-05T20:13:35.114Z"
   },
   {
    "duration": 9,
    "start_time": "2023-12-05T20:13:35.122Z"
   },
   {
    "duration": 5,
    "start_time": "2023-12-05T20:13:35.133Z"
   },
   {
    "duration": 5,
    "start_time": "2023-12-05T20:13:35.140Z"
   },
   {
    "duration": 6,
    "start_time": "2023-12-05T20:13:35.149Z"
   },
   {
    "duration": 11,
    "start_time": "2023-12-05T20:13:35.156Z"
   },
   {
    "duration": 5,
    "start_time": "2023-12-05T20:13:35.169Z"
   },
   {
    "duration": 7,
    "start_time": "2023-12-05T20:13:35.207Z"
   },
   {
    "duration": 6,
    "start_time": "2023-12-05T20:13:35.215Z"
   },
   {
    "duration": 187,
    "start_time": "2023-12-05T20:13:35.222Z"
   },
   {
    "duration": 135,
    "start_time": "2023-12-05T20:13:35.411Z"
   },
   {
    "duration": 6,
    "start_time": "2023-12-05T20:13:35.548Z"
   },
   {
    "duration": 19,
    "start_time": "2023-12-05T20:13:35.556Z"
   },
   {
    "duration": 31,
    "start_time": "2023-12-05T20:13:35.576Z"
   },
   {
    "duration": 6,
    "start_time": "2023-12-05T20:13:35.609Z"
   },
   {
    "duration": 7,
    "start_time": "2023-12-05T20:13:35.617Z"
   },
   {
    "duration": 325,
    "start_time": "2023-12-05T20:13:35.626Z"
   },
   {
    "duration": 245,
    "start_time": "2023-12-05T20:13:35.953Z"
   },
   {
    "duration": 382,
    "start_time": "2023-12-05T20:13:36.199Z"
   },
   {
    "duration": 260,
    "start_time": "2023-12-05T20:13:36.583Z"
   },
   {
    "duration": 13,
    "start_time": "2023-12-05T20:13:36.845Z"
   },
   {
    "duration": 356,
    "start_time": "2023-12-05T20:13:36.859Z"
   },
   {
    "duration": 168,
    "start_time": "2023-12-05T20:13:37.217Z"
   },
   {
    "duration": 4,
    "start_time": "2023-12-05T20:13:37.386Z"
   },
   {
    "duration": 26,
    "start_time": "2023-12-05T20:13:37.391Z"
   },
   {
    "duration": 9,
    "start_time": "2023-12-05T20:13:37.419Z"
   },
   {
    "duration": 181,
    "start_time": "2023-12-05T20:13:37.430Z"
   },
   {
    "duration": 8,
    "start_time": "2023-12-05T20:13:37.613Z"
   },
   {
    "duration": 9,
    "start_time": "2023-12-05T20:13:37.622Z"
   },
   {
    "duration": 6,
    "start_time": "2023-12-05T20:13:37.633Z"
   },
   {
    "duration": 562,
    "start_time": "2023-12-05T20:13:37.640Z"
   },
   {
    "duration": 0,
    "start_time": "2023-12-05T20:13:38.206Z"
   },
   {
    "duration": 0,
    "start_time": "2023-12-05T20:13:38.207Z"
   },
   {
    "duration": 0,
    "start_time": "2023-12-05T20:13:38.209Z"
   },
   {
    "duration": 386,
    "start_time": "2023-12-05T20:15:18.585Z"
   },
   {
    "duration": 366,
    "start_time": "2023-12-05T20:15:29.214Z"
   },
   {
    "duration": 12,
    "start_time": "2023-12-05T20:15:43.524Z"
   },
   {
    "duration": 41,
    "start_time": "2023-12-05T20:15:48.683Z"
   },
   {
    "duration": 20,
    "start_time": "2023-12-05T20:15:54.475Z"
   },
   {
    "duration": 1167,
    "start_time": "2023-12-05T20:16:12.269Z"
   },
   {
    "duration": 27,
    "start_time": "2023-12-05T20:16:13.438Z"
   },
   {
    "duration": 39,
    "start_time": "2023-12-05T20:16:13.466Z"
   },
   {
    "duration": 86,
    "start_time": "2023-12-05T20:16:13.507Z"
   },
   {
    "duration": 165,
    "start_time": "2023-12-05T20:16:13.594Z"
   },
   {
    "duration": 3,
    "start_time": "2023-12-05T20:16:13.761Z"
   },
   {
    "duration": 35,
    "start_time": "2023-12-05T20:16:13.765Z"
   },
   {
    "duration": 21,
    "start_time": "2023-12-05T20:16:13.801Z"
   },
   {
    "duration": 38,
    "start_time": "2023-12-05T20:16:13.824Z"
   },
   {
    "duration": 78,
    "start_time": "2023-12-05T20:16:13.865Z"
   },
   {
    "duration": 36,
    "start_time": "2023-12-05T20:16:13.944Z"
   },
   {
    "duration": 29,
    "start_time": "2023-12-05T20:16:13.982Z"
   },
   {
    "duration": 29,
    "start_time": "2023-12-05T20:16:14.013Z"
   },
   {
    "duration": 35,
    "start_time": "2023-12-05T20:16:14.043Z"
   },
   {
    "duration": 33,
    "start_time": "2023-12-05T20:16:14.079Z"
   },
   {
    "duration": 39,
    "start_time": "2023-12-05T20:16:14.114Z"
   },
   {
    "duration": 53,
    "start_time": "2023-12-05T20:16:14.155Z"
   },
   {
    "duration": 115,
    "start_time": "2023-12-05T20:16:14.209Z"
   },
   {
    "duration": 191,
    "start_time": "2023-12-05T20:16:14.326Z"
   },
   {
    "duration": 128,
    "start_time": "2023-12-05T20:16:14.519Z"
   },
   {
    "duration": 7,
    "start_time": "2023-12-05T20:16:14.648Z"
   },
   {
    "duration": 34,
    "start_time": "2023-12-05T20:16:14.656Z"
   },
   {
    "duration": 90,
    "start_time": "2023-12-05T20:16:14.692Z"
   },
   {
    "duration": 38,
    "start_time": "2023-12-05T20:16:14.783Z"
   },
   {
    "duration": 28,
    "start_time": "2023-12-05T20:16:14.823Z"
   },
   {
    "duration": 370,
    "start_time": "2023-12-05T20:16:14.853Z"
   },
   {
    "duration": 232,
    "start_time": "2023-12-05T20:16:15.225Z"
   },
   {
    "duration": 354,
    "start_time": "2023-12-05T20:16:15.460Z"
   },
   {
    "duration": 263,
    "start_time": "2023-12-05T20:16:15.816Z"
   },
   {
    "duration": 25,
    "start_time": "2023-12-05T20:16:16.081Z"
   },
   {
    "duration": 478,
    "start_time": "2023-12-05T20:16:16.108Z"
   },
   {
    "duration": 171,
    "start_time": "2023-12-05T20:16:16.588Z"
   },
   {
    "duration": 4,
    "start_time": "2023-12-05T20:16:16.761Z"
   },
   {
    "duration": 7,
    "start_time": "2023-12-05T20:16:16.767Z"
   },
   {
    "duration": 6,
    "start_time": "2023-12-05T20:16:16.776Z"
   },
   {
    "duration": 197,
    "start_time": "2023-12-05T20:16:16.783Z"
   },
   {
    "duration": 6,
    "start_time": "2023-12-05T20:16:16.982Z"
   },
   {
    "duration": 17,
    "start_time": "2023-12-05T20:16:16.990Z"
   },
   {
    "duration": 45,
    "start_time": "2023-12-05T20:16:17.008Z"
   },
   {
    "duration": 444,
    "start_time": "2023-12-05T20:16:17.055Z"
   },
   {
    "duration": 12,
    "start_time": "2023-12-05T20:16:17.501Z"
   },
   {
    "duration": 72,
    "start_time": "2023-12-05T20:16:17.515Z"
   },
   {
    "duration": 41,
    "start_time": "2023-12-05T20:16:17.589Z"
   },
   {
    "duration": 1269,
    "start_time": "2023-12-05T20:17:00.669Z"
   },
   {
    "duration": 26,
    "start_time": "2023-12-05T20:17:01.940Z"
   },
   {
    "duration": 52,
    "start_time": "2023-12-05T20:17:01.967Z"
   },
   {
    "duration": 15,
    "start_time": "2023-12-05T20:17:02.021Z"
   },
   {
    "duration": 100,
    "start_time": "2023-12-05T20:17:02.038Z"
   },
   {
    "duration": 25,
    "start_time": "2023-12-05T20:17:02.139Z"
   },
   {
    "duration": 25,
    "start_time": "2023-12-05T20:17:02.166Z"
   },
   {
    "duration": 37,
    "start_time": "2023-12-05T20:17:02.193Z"
   },
   {
    "duration": 47,
    "start_time": "2023-12-05T20:17:02.232Z"
   },
   {
    "duration": 45,
    "start_time": "2023-12-05T20:17:02.282Z"
   },
   {
    "duration": 72,
    "start_time": "2023-12-05T20:17:02.329Z"
   },
   {
    "duration": 41,
    "start_time": "2023-12-05T20:17:02.403Z"
   },
   {
    "duration": 42,
    "start_time": "2023-12-05T20:17:02.445Z"
   },
   {
    "duration": 35,
    "start_time": "2023-12-05T20:17:02.489Z"
   },
   {
    "duration": 44,
    "start_time": "2023-12-05T20:17:02.526Z"
   },
   {
    "duration": 41,
    "start_time": "2023-12-05T20:17:02.571Z"
   },
   {
    "duration": 70,
    "start_time": "2023-12-05T20:17:02.614Z"
   },
   {
    "duration": 38,
    "start_time": "2023-12-05T20:17:02.686Z"
   },
   {
    "duration": 181,
    "start_time": "2023-12-05T20:17:02.725Z"
   },
   {
    "duration": 125,
    "start_time": "2023-12-05T20:17:02.908Z"
   },
   {
    "duration": 17,
    "start_time": "2023-12-05T20:17:03.035Z"
   },
   {
    "duration": 233,
    "start_time": "2023-12-05T20:17:03.053Z"
   },
   {
    "duration": 110,
    "start_time": "2023-12-05T20:17:03.288Z"
   },
   {
    "duration": 35,
    "start_time": "2023-12-05T20:17:03.400Z"
   },
   {
    "duration": 32,
    "start_time": "2023-12-05T20:17:03.437Z"
   },
   {
    "duration": 343,
    "start_time": "2023-12-05T20:17:03.471Z"
   },
   {
    "duration": 233,
    "start_time": "2023-12-05T20:17:03.816Z"
   },
   {
    "duration": 330,
    "start_time": "2023-12-05T20:17:04.053Z"
   },
   {
    "duration": 263,
    "start_time": "2023-12-05T20:17:04.385Z"
   },
   {
    "duration": 17,
    "start_time": "2023-12-05T20:17:04.650Z"
   },
   {
    "duration": 375,
    "start_time": "2023-12-05T20:17:04.669Z"
   },
   {
    "duration": 173,
    "start_time": "2023-12-05T20:17:05.046Z"
   },
   {
    "duration": 4,
    "start_time": "2023-12-05T20:17:05.221Z"
   },
   {
    "duration": 20,
    "start_time": "2023-12-05T20:17:05.226Z"
   },
   {
    "duration": 65,
    "start_time": "2023-12-05T20:17:05.247Z"
   },
   {
    "duration": 181,
    "start_time": "2023-12-05T20:17:05.313Z"
   },
   {
    "duration": 13,
    "start_time": "2023-12-05T20:17:05.496Z"
   },
   {
    "duration": 11,
    "start_time": "2023-12-05T20:17:05.511Z"
   },
   {
    "duration": 11,
    "start_time": "2023-12-05T20:17:05.524Z"
   },
   {
    "duration": 505,
    "start_time": "2023-12-05T20:17:05.537Z"
   },
   {
    "duration": 11,
    "start_time": "2023-12-05T20:17:06.044Z"
   },
   {
    "duration": 49,
    "start_time": "2023-12-05T20:17:06.057Z"
   },
   {
    "duration": 16,
    "start_time": "2023-12-05T20:17:06.108Z"
   },
   {
    "duration": 1383,
    "start_time": "2023-12-06T08:43:17.183Z"
   },
   {
    "duration": 72,
    "start_time": "2023-12-06T08:43:18.568Z"
   },
   {
    "duration": 80,
    "start_time": "2023-12-06T08:43:18.641Z"
   },
   {
    "duration": 53,
    "start_time": "2023-12-06T08:43:18.723Z"
   },
   {
    "duration": 69,
    "start_time": "2023-12-06T08:43:18.778Z"
   },
   {
    "duration": 2,
    "start_time": "2023-12-06T08:43:18.849Z"
   },
   {
    "duration": 14,
    "start_time": "2023-12-06T08:43:18.853Z"
   },
   {
    "duration": 30,
    "start_time": "2023-12-06T08:43:18.869Z"
   },
   {
    "duration": 20,
    "start_time": "2023-12-06T08:43:18.901Z"
   },
   {
    "duration": 23,
    "start_time": "2023-12-06T08:43:18.924Z"
   },
   {
    "duration": 39,
    "start_time": "2023-12-06T08:43:18.949Z"
   },
   {
    "duration": 7,
    "start_time": "2023-12-06T08:43:18.989Z"
   },
   {
    "duration": 18,
    "start_time": "2023-12-06T08:43:18.998Z"
   },
   {
    "duration": 12,
    "start_time": "2023-12-06T08:43:19.018Z"
   },
   {
    "duration": 6,
    "start_time": "2023-12-06T08:43:19.031Z"
   },
   {
    "duration": 7,
    "start_time": "2023-12-06T08:43:19.039Z"
   },
   {
    "duration": 11,
    "start_time": "2023-12-06T08:43:19.048Z"
   },
   {
    "duration": 24,
    "start_time": "2023-12-06T08:43:19.060Z"
   },
   {
    "duration": 180,
    "start_time": "2023-12-06T08:43:19.086Z"
   },
   {
    "duration": 126,
    "start_time": "2023-12-06T08:43:19.267Z"
   },
   {
    "duration": 5,
    "start_time": "2023-12-06T08:43:19.395Z"
   },
   {
    "duration": 25,
    "start_time": "2023-12-06T08:43:19.402Z"
   },
   {
    "duration": 30,
    "start_time": "2023-12-06T08:43:19.429Z"
   },
   {
    "duration": 32,
    "start_time": "2023-12-06T08:43:19.461Z"
   },
   {
    "duration": 16,
    "start_time": "2023-12-06T08:43:19.495Z"
   },
   {
    "duration": 353,
    "start_time": "2023-12-06T08:43:19.513Z"
   },
   {
    "duration": 241,
    "start_time": "2023-12-06T08:43:19.868Z"
   },
   {
    "duration": 434,
    "start_time": "2023-12-06T08:43:20.113Z"
   },
   {
    "duration": 297,
    "start_time": "2023-12-06T08:43:20.548Z"
   },
   {
    "duration": 15,
    "start_time": "2023-12-06T08:43:20.846Z"
   },
   {
    "duration": 351,
    "start_time": "2023-12-06T08:43:20.862Z"
   },
   {
    "duration": 165,
    "start_time": "2023-12-06T08:43:21.215Z"
   },
   {
    "duration": 4,
    "start_time": "2023-12-06T08:43:21.382Z"
   },
   {
    "duration": 22,
    "start_time": "2023-12-06T08:43:21.387Z"
   },
   {
    "duration": 20,
    "start_time": "2023-12-06T08:43:21.410Z"
   },
   {
    "duration": 193,
    "start_time": "2023-12-06T08:43:21.432Z"
   },
   {
    "duration": 6,
    "start_time": "2023-12-06T08:43:21.626Z"
   },
   {
    "duration": 35,
    "start_time": "2023-12-06T08:43:21.634Z"
   },
   {
    "duration": 26,
    "start_time": "2023-12-06T08:43:21.670Z"
   },
   {
    "duration": 476,
    "start_time": "2023-12-06T08:43:21.698Z"
   },
   {
    "duration": 11,
    "start_time": "2023-12-06T08:43:22.176Z"
   },
   {
    "duration": 46,
    "start_time": "2023-12-06T08:43:22.188Z"
   },
   {
    "duration": 15,
    "start_time": "2023-12-06T08:43:22.236Z"
   }
  ],
  "kernelspec": {
   "display_name": "Python 3 (ipykernel)",
   "language": "python",
   "name": "python3"
  },
  "language_info": {
   "codemirror_mode": {
    "name": "ipython",
    "version": 3
   },
   "file_extension": ".py",
   "mimetype": "text/x-python",
   "name": "python",
   "nbconvert_exporter": "python",
   "pygments_lexer": "ipython3",
   "version": "3.9.5"
  },
  "toc": {
   "base_numbering": 1,
   "nav_menu": {},
   "number_sections": true,
   "sideBar": true,
   "skip_h1_title": true,
   "title_cell": "Table of Contents",
   "title_sidebar": "Contents",
   "toc_cell": false,
   "toc_position": {
    "height": "calc(100% - 180px)",
    "left": "10px",
    "top": "150px",
    "width": "264px"
   },
   "toc_section_display": true,
   "toc_window_display": true
  }
 },
 "nbformat": 4,
 "nbformat_minor": 2
}
